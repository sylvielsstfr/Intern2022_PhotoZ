{
 "cells": [
  {
   "cell_type": "markdown",
   "id": "56f3ee86-86b8-4754-a12a-cddfedfd4c35",
   "metadata": {},
   "source": [
    "# Malmquist bias"
   ]
  },
  {
   "cell_type": "markdown",
   "id": "a65b13dd-e3c6-485f-b8bc-c6bec18b1a65",
   "metadata": {},
   "source": [
    "## Identify the effects of cutting in magnitude near 5$\\sigma$"
   ]
  },
  {
   "cell_type": "code",
   "execution_count": null,
   "id": "34423089-c594-4cdf-b446-22a509a4699e",
   "metadata": {},
   "outputs": [],
   "source": []
  }
 ],
 "metadata": {
  "kernelspec": {
   "display_name": "Delight-Python",
   "language": "python",
   "name": "delightenv"
  },
  "language_info": {
   "codemirror_mode": {
    "name": "ipython",
    "version": 3
   },
   "file_extension": ".py",
   "mimetype": "text/x-python",
   "name": "python",
   "nbconvert_exporter": "python",
   "pygments_lexer": "ipython3",
   "version": "3.8.5"
  }
 },
 "nbformat": 4,
 "nbformat_minor": 5
}
