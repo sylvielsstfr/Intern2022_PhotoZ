{
 "cells": [
  {
   "cell_type": "markdown",
   "id": "becoming-index",
   "metadata": {},
   "source": [
    "# Calibrate Template Priors"
   ]
  },
  {
   "cell_type": "code",
   "execution_count": 1,
   "id": "blind-faith",
   "metadata": {},
   "outputs": [],
   "source": [
    "%matplotlib inline\n",
    "import numpy as np\n",
    "import matplotlib.pyplot as plt"
   ]
  },
  {
   "cell_type": "code",
   "execution_count": 2,
   "id": "diverse-offset",
   "metadata": {},
   "outputs": [],
   "source": [
    "import sys\n",
    "from mpi4py import MPI\n",
    "import numpy as np\n",
    "from scipy.interpolate import interp1d\n",
    "from delight.io import *\n",
    "from delight.utils import *\n",
    "from delight.photoz_gp import PhotozGP\n",
    "from delight.photoz_kernels import Photoz_mean_function, Photoz_kernel\n",
    "import scipy.stats\n",
    "import matplotlib.pyplot as plt\n",
    "import emcee\n",
    "import corner\n",
    "\n",
    "# Create a logger object.\n",
    "logger = logging.getLogger(__name__)\n",
    "coloredlogs.install(level='DEBUG', logger=logger,fmt='%(asctime)s,%(msecs)03d %(programname)s %(name)s[%(process)d] %(levelname)s %(message)s')"
   ]
  },
  {
   "cell_type": "code",
   "execution_count": 3,
   "id": "functional-microwave",
   "metadata": {},
   "outputs": [],
   "source": [
    "def approx_flux_likelihood_multiobj(\n",
    "        f_obs,  # no, nf\n",
    "        f_obs_var,  # no, nf\n",
    "        f_mod,  # no, nt, nf\n",
    "        ell_hat,  # 1\n",
    "        ell_var,  # 1\n",
    "        returnChi2=False,\n",
    "        normalized=True):\n",
    "\n",
    "    assert len(f_obs.shape) == 2\n",
    "    assert len(f_obs_var.shape) == 2\n",
    "    assert len(f_mod.shape) == 3\n",
    "    no, nt, nf = f_mod.shape\n",
    "    f_obs_r = f_obs[:, None, :]\n",
    "    var = f_obs_var[:, None, :]\n",
    "    invvar = np.where(f_obs_r/var < 1e-6, 0.0, var**-1.0)  # nz * nt * nf\n",
    "    FOT = np.sum(f_mod * f_obs_r * invvar, axis=2)\\\n",
    "        + ell_hat / ell_var  # no * nt\n",
    "    FTT = np.sum(f_mod**2 * invvar, axis=2)\\\n",
    "        + 1. / ell_var  # no * nt\n",
    "    FOO = np.sum(f_obs_r**2 * invvar, axis=2)\\\n",
    "        + ell_hat**2 / ell_var  # no * nt\n",
    "    sigma_det = np.prod(var, axis=2)\n",
    "    chi2 = FOO - FOT**2.0 / FTT  # no * nt\n",
    "    denom = np.sqrt(FTT)\n",
    "    if normalized:\n",
    "        denom *= np.sqrt(sigma_det * (2*np.pi)**nf * ell_var)\n",
    "    like = np.exp(-0.5*chi2) / denom  # no * nt\n",
    "    if returnChi2:\n",
    "        return chi2\n",
    "    else:\n",
    "        return like"
   ]
  },
  {
   "cell_type": "code",
   "execution_count": 4,
   "id": "contrary-fashion",
   "metadata": {},
   "outputs": [],
   "source": [
    "def lnprob(params, nt, allFluxes, allFluxesVar, zZmax, fmod_atZ, pmin, pmax):\n",
    "    if np.any(params > pmax) or np.any(params < pmin):\n",
    "        return - np.inf\n",
    "\n",
    "    alphas0 = dirichlet(params[0:nt], rsize=1).ravel()[None, :]  # 1, nt\n",
    "    alphas1 = dirichlet(params[nt:2*nt], rsize=1).ravel()[None, :]  # 1, nt\n",
    "    alphas_atZ = zZmax[:, None] * (alphas1 - alphas0) + alphas0  # no, nt\n",
    "    # fmod_atZ: no, nt, nf\n",
    "    fmod_atZ_t = (fmod_atZ * alphas_atZ[:, :, None]).sum(axis=1)[:, None, :]\n",
    "    # no, 1, nf\n",
    "    sigma_ell = 1e3\n",
    "    like_grid = approx_flux_likelihood_multiobj(allFluxes, allFluxesVar, fmod_atZ_t, 1, sigma_ell**2.).ravel()  # no,\n",
    "    eps = 1e-305\n",
    "    ind = like_grid > eps\n",
    "    theprob = np.log(like_grid[ind]).sum()\n",
    "    return theprob"
   ]
  },
  {
   "cell_type": "code",
   "execution_count": 5,
   "id": "warming-lodging",
   "metadata": {},
   "outputs": [],
   "source": [
    "def plot_params(params):\n",
    "    fig, axs = plt.subplots(4, 4, figsize=(16, 8))\n",
    "    axs = axs.ravel()\n",
    "    alphas = params[0:nt]\n",
    "    alpha0 = np.sum(alphas)\n",
    "    dirsamples = dirichlet(alphas, 1000)\n",
    "    for i in range(nt):\n",
    "        mean = alphas[i]/alpha0\n",
    "        std = np.sqrt(alphas[i] * (alpha0-alphas[i]) / alpha0**2 / (alpha0+1))\n",
    "        axs[i].axvspan(mean-std, mean+std, color='gray', alpha=0.5)\n",
    "        axs[i].axvline(mean, c='k', lw=2)\n",
    "        axs[i].axvline(1/nt, c='k', lw=1, ls='dashed')\n",
    "        axs[i].set_title('alpha0 = '+str(alphas[i]))\n",
    "        axs[i].set_xlim([0, 1])\n",
    "        axs[i].hist(dirsamples[:, i], 50, color=\"k\", histtype=\"step\")\n",
    "    alphas = params[nt:2*nt]\n",
    "    alpha0 = np.sum(alphas)\n",
    "    dirsamples = dirichlet(alphas, 1000)\n",
    "    for i in range(nt):\n",
    "        mean = alphas[i]/alpha0\n",
    "        std = np.sqrt(alphas[i] * (alpha0-alphas[i]) / alpha0**2 / (alpha0+1))\n",
    "        axs[nt+i].axvspan(mean-std, mean+std, color='gray', alpha=0.5)\n",
    "        axs[nt+i].axvline(mean, c='k', lw=2)\n",
    "        axs[nt+i].axvline(1/nt, c='k', lw=1, ls='dashed')\n",
    "        axs[nt+i].set_title('alpha1 = '+str(alphas[i]))\n",
    "        axs[nt+i].set_xlim([0, 1])\n",
    "        axs[nt+i].hist(dirsamples[:, i], 50, color=\"k\", histtype=\"step\")\n",
    "    fig.tight_layout()\n",
    "    return fig"
   ]
  },
  {
   "cell_type": "code",
   "execution_count": 6,
   "id": "complicated-christian",
   "metadata": {},
   "outputs": [],
   "source": [
    "configfilename= \"tmp/parametersTest.cfg\""
   ]
  },
  {
   "cell_type": "code",
   "execution_count": 7,
   "id": "arctic-ordinary",
   "metadata": {},
   "outputs": [
    {
     "name": "stderr",
     "output_type": "stream",
     "text": [
      "2021-03-13 19:12:20,204 ipykernel_launcher.py __main__[292] INFO --- calibrate Template Mixture Priors ---\n"
     ]
    }
   ],
   "source": [
    "logger.info(\"--- calibrate Template Mixture Priors ---\")\n",
    "\n",
    "paramFileName = configfilename\n",
    "params = parseParamFile(paramFileName, verbose=False)\n",
    "\n",
    "comm = MPI.COMM_WORLD\n",
    "threadNum = comm.Get_rank()\n",
    "numThreads = comm.Get_size()\n",
    "\n",
    "DL = approx_DL()\n",
    "redshiftDistGrid, redshiftGrid, redshiftGridGP = createGrids(params)\n",
    "numZ = redshiftGrid.size\n",
    "\n",
    "# Locate which columns of the catalog correspond to which bands.\n",
    "bandIndices, bandNames, bandColumns, bandVarColumns, redshiftColumn,refBandColumn = readColumnPositions(params, prefix=\"training_\")\n",
    "\n",
    "dir_seds = params['templates_directory']\n",
    "dir_filters = params['bands_directory']\n",
    "lambdaRef = params['lambdaRef']\n",
    "sed_names = params['templates_names']\n",
    "numBands = bandIndices.size\n",
    "nt = len(sed_names)"
   ]
  },
  {
   "cell_type": "code",
   "execution_count": 8,
   "id": "julian-proof",
   "metadata": {},
   "outputs": [],
   "source": [
    "f_mod = np.zeros((numZ, nt, len(params['bandNames'])))\n",
    "\n",
    "# model of flux-redshift for each template\n",
    "for t, sed_name in enumerate(sed_names):\n",
    "    f_mod[:, t, :] = np.loadtxt(dir_seds + '/' + sed_name + '_fluxredshiftmod.txt')"
   ]
  },
  {
   "cell_type": "code",
   "execution_count": 9,
   "id": "indian-excitement",
   "metadata": {},
   "outputs": [
    {
     "name": "stderr",
     "output_type": "stream",
     "text": [
      "<ipython-input-9-04df22052751>:1: DeprecationWarning: Calling np.sum(generator) is deprecated, and in the future will give a different result. Use np.sum(np.fromiter(generator)) or the python sum builtin instead.\n",
      "  numObjectsTraining = np.sum(1 for line in open(params['training_catFile']))\n",
      "2021-03-13 19:13:33,897 ipykernel_launcher.py __main__[292] INFO Number of Training Objects 10225\n"
     ]
    }
   ],
   "source": [
    "numObjectsTraining = np.sum(1 for line in open(params['training_catFile']))\n",
    "\n",
    "msg = 'Number of Training Objects ' + str(numObjectsTraining)\n",
    "logger.info(msg)\n",
    "\n",
    "numMetrics = 7 + len(params['confidenceLevels'])"
   ]
  },
  {
   "cell_type": "code",
   "execution_count": 10,
   "id": "defined-seeking",
   "metadata": {},
   "outputs": [],
   "source": [
    "allFluxes = np.zeros((numObjectsTraining, numBands))\n",
    "allFluxesVar = np.zeros((numObjectsTraining, numBands))\n",
    "\n",
    "redshifts = np.zeros((numObjectsTraining, 1))\n",
    "fmod_atZ = np.zeros((numObjectsTraining, nt, numBands))"
   ]
  },
  {
   "cell_type": "code",
   "execution_count": 11,
   "id": "informational-place",
   "metadata": {},
   "outputs": [],
   "source": [
    "# Now loop over training set to compute likelihood function\n",
    "loc = - 1\n",
    "trainingDataIter = getDataFromFile(params, 0, numObjectsTraining,prefix=\"training_\", getXY=False)\n",
    "\n",
    "# loop on traning\n",
    "for z, ell, bands, fluxes, fluxesVar, bCV, fCV, fvCV in trainingDataIter:\n",
    "    loc += 1\n",
    "    allFluxes[loc, :] = fluxes\n",
    "    allFluxesVar[loc, :] = fluxesVar\n",
    "    redshifts[loc, 0] = z\n",
    "\n",
    "    # loop on SED\n",
    "    for t, sed_name in enumerate(sed_names):\n",
    "        for ib, b in enumerate(bands):\n",
    "            fmod_atZ[loc, t, ib] = ell * np.interp(z, redshiftGrid,f_mod[:, t, b])\n",
    "\n",
    "zZmax = redshifts[:, 0] / redshiftGrid[-1]"
   ]
  },
  {
   "cell_type": "code",
   "execution_count": null,
   "id": "incident-synthesis",
   "metadata": {},
   "outputs": [
    {
     "name": "stdout",
     "output_type": "stream",
     "text": [
      "-1373.628652260406\n",
      "-109213.0744462925\n",
      "94411.78566566738\n",
      "2720.8315284801647\n",
      "197672.7085729265\n",
      "-133346.11345236556\n",
      "-187947.04682772327\n",
      "44677.67932272882\n",
      "-28666.05668895693\n",
      "86589.12050337628\n"
     ]
    }
   ],
   "source": [
    "pmin = np.repeat(0., 2*nt)\n",
    "pmax = np.repeat(200., 2*nt)\n",
    "\n",
    "ndim, nwalkers = 2*nt, 100\n",
    "p0 = [pmin + (pmax-pmin)*np.random.uniform(0, 1, size=ndim) for i in range(nwalkers)]\n",
    "\n",
    "for i in range(10):\n",
    "    print(lnprob(p0[i], nt, allFluxes, allFluxesVar, zZmax, fmod_atZ, pmin, pmax))\n",
    "\n",
    "sampler = emcee.EnsembleSampler(nwalkers, ndim, lnprob,threads=4,args=[nt, allFluxes, allFluxesVar, zZmax,fmod_atZ, pmin, pmax])\n",
    "pos, prob, state = sampler.run_mcmc(p0, 200)\n",
    "sampler.reset()\n",
    "sampler.run_mcmc(pos, 2000)\n",
    "print(\"Mean acceptance fraction: {0:.3f}\" .format(np.mean(sampler.acceptance_fraction)))\n",
    "samples = sampler.chain.reshape((-1, ndim))\n",
    "lnprob = sampler.lnprobability.reshape((-1, 1))\n",
    "\n",
    "params_mean = samples.mean(axis=0)\n",
    "params_std = samples.std(axis=0)"
   ]
  },
  {
   "cell_type": "code",
   "execution_count": null,
   "id": "polar-miller",
   "metadata": {},
   "outputs": [],
   "source": [
    "fig, axs = plt.subplots(4, 5, figsize=(16, 8))\n",
    "axs = axs.ravel()\n",
    "for i in range(ndim):\n",
    "    axs[i].hist(samples[:, i], 50, color=\"k\", histtype=\"step\")\n",
    "    axs[i].axvspan(params_mean[i]-params_std[i],params_mean[i]+params_std[i], color='gray', alpha=0.5)\n",
    "    axs[i].axvline(params_mean[i], c='k', lw=2)\n",
    "fig.tight_layout()\n",
    "fig.savefig('priormixture_parameters.pdf')\n",
    "\n",
    "    "
   ]
  },
  {
   "cell_type": "code",
   "execution_count": null,
   "id": "portuguese-review",
   "metadata": {},
   "outputs": [],
   "source": [
    "fig = plot_params(params_mean)\n",
    "fig.savefig('priormixture_meanparameters.pdf')\n",
    "\n"
   ]
  },
  {
   "cell_type": "code",
   "execution_count": null,
   "id": "hairy-bennett",
   "metadata": {},
   "outputs": [],
   "source": [
    "print(\"params_mean\", params_mean)\n",
    "print(\"params_std\", params_std)\n",
    "\n",
    "alphas = params_mean[0:nt]\n",
    "alpha0 = np.sum(alphas)\n",
    "print(\"alpha0:\", ', '.join(['%.2g' % x for x in alphas / alpha0]))\n",
    "print(\"alpha0 err:\", ', '.join(['%.2g' % x for x in np.sqrt(alphas*(alpha0-alphas)/alpha0**2/(alpha0+1))]))\n",
    "\n",
    "alphas = params_mean[nt:2*nt]\n",
    "alpha0 = np.sum(alphas)\n",
    "print(\"alpha1:\", ', '.join(['%.2g' % x for x in alphas / alpha0]))\n",
    "print(\"alpha1 err:\", ', '.join(['%.2g' % x for x in np.sqrt(alphas*(alpha0-alphas)/alpha0**2/(alpha0+1))]))\n",
    "\n"
   ]
  },
  {
   "cell_type": "code",
   "execution_count": null,
   "id": "strange-engine",
   "metadata": {},
   "outputs": [],
   "source": [
    "fig = corner.corner(samples)\n",
    "fig.savefig(\"trianglemixture.pdf\")"
   ]
  }
 ],
 "metadata": {
  "kernelspec": {
   "display_name": "Python 3",
   "language": "python",
   "name": "python3"
  },
  "language_info": {
   "codemirror_mode": {
    "name": "ipython",
    "version": 3
   },
   "file_extension": ".py",
   "mimetype": "text/x-python",
   "name": "python",
   "nbconvert_exporter": "python",
   "pygments_lexer": "ipython3",
   "version": "3.8.5"
  }
 },
 "nbformat": 4,
 "nbformat_minor": 5
}
