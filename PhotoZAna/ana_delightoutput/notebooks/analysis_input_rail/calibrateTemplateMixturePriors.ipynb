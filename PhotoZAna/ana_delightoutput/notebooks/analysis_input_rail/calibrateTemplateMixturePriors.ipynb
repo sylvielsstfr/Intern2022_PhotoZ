{
 "cells": [
  {
   "cell_type": "markdown",
   "id": "humanitarian-illinois",
   "metadata": {},
   "source": [
    "# Calibrate Template Mixture Priors"
   ]
  },
  {
   "cell_type": "code",
   "execution_count": 1,
   "id": "acknowledged-badge",
   "metadata": {},
   "outputs": [],
   "source": [
    "%matplotlib inline\n",
    "import numpy as np\n",
    "import matplotlib.pyplot as plt"
   ]
  },
  {
   "cell_type": "code",
   "execution_count": 2,
   "id": "through-twelve",
   "metadata": {},
   "outputs": [],
   "source": [
    "import sys\n",
    "from mpi4py import MPI\n",
    "import numpy as np\n",
    "from scipy.interpolate import interp1d\n",
    "from delight.io import *\n",
    "from delight.utils import *\n",
    "from delight.photoz_gp import PhotozGP\n",
    "from delight.photoz_kernels import Photoz_mean_function, Photoz_kernel\n",
    "import scipy.stats\n",
    "import matplotlib.pyplot as plt\n",
    "import emcee\n",
    "import corner\n",
    "\n",
    "# Create a logger object.\n",
    "logger = logging.getLogger(__name__)\n",
    "coloredlogs.install(level='DEBUG', logger=logger,fmt='%(asctime)s,%(msecs)03d %(programname)s %(name)s[%(process)d] %(levelname)s %(message)s')\n",
    "\n",
    "comm = MPI.COMM_WORLD\n",
    "threadNum = comm.Get_rank()\n",
    "numThreads = comm.Get_size()"
   ]
  },
  {
   "cell_type": "code",
   "execution_count": 3,
   "id": "metallic-wilson",
   "metadata": {},
   "outputs": [],
   "source": [
    "def approx_flux_likelihood_multiobj(\n",
    "        f_obs,  # no, nf\n",
    "        f_obs_var,  # no, nf\n",
    "        f_mod,  # no, nt, nf\n",
    "        ell_hat,  # 1\n",
    "        ell_var,  # 1\n",
    "        returnChi2=False,\n",
    "        normalized=True):\n",
    "    \"\"\"\n",
    "    approx_flux_likelihood_multiobj\n",
    "    \n",
    "    \n",
    "    \n",
    "    \n",
    "    \"\"\"\n",
    "\n",
    "    assert len(f_obs.shape) == 2\n",
    "    assert len(f_obs_var.shape) == 2\n",
    "    assert len(f_mod.shape) == 3\n",
    "    no, nt, nf = f_mod.shape\n",
    "    f_obs_r = f_obs[:, None, :]\n",
    "    var = f_obs_var[:, None, :]\n",
    "    invvar = np.where(f_obs_r/var < 1e-6, 0.0, var**-1.0)  # nz * nt * nf\n",
    "    \n",
    "    FOT = np.sum(f_mod * f_obs_r * invvar, axis=2)\\\n",
    "        + ell_hat / ell_var  # no * nt\n",
    "    FTT = np.sum(f_mod**2 * invvar, axis=2)\\\n",
    "        + 1. / ell_var  # no * nt\n",
    "    FOO = np.sum(f_obs_r**2 * invvar, axis=2)\\\n",
    "        + ell_hat**2 / ell_var  # no * nt\n",
    "    \n",
    "    sigma_det = np.prod(var, axis=2)\n",
    "    chi2 = FOO - FOT**2.0 / FTT  # no * nt\n",
    "    denom = np.sqrt(FTT)\n",
    "    \n",
    "    if normalized:\n",
    "        denom *= np.sqrt(sigma_det * (2*np.pi)**nf * ell_var)\n",
    "        \n",
    "    like = np.exp(-0.5*chi2) / denom  # no * nt\n",
    "    \n",
    "    if returnChi2:\n",
    "        return chi2\n",
    "    else:\n",
    "        return like\n"
   ]
  },
  {
   "cell_type": "code",
   "execution_count": 4,
   "id": "military-minimum",
   "metadata": {},
   "outputs": [],
   "source": [
    "def lnprob(params, nt, allFluxes, allFluxesVar, zZmax, fmod_atZ, pmin, pmax):\n",
    "    \"\"\"\n",
    "    lnprob(params, nt, allFluxes, allFluxesVar, zZmax, fmod_atZ, pmin, pmax)\n",
    "    \n",
    "    \"\"\"\n",
    "    if np.any(params > pmax) or np.any(params < pmin):\n",
    "        return - np.inf\n",
    "\n",
    "    alphas0 = dirichlet(params[0:nt], rsize=1).ravel()[None, :]  # 1, nt\n",
    "    alphas1 = dirichlet(params[nt:2*nt], rsize=1).ravel()[None, :]  # 1, nt\n",
    "    alphas_atZ = zZmax[:, None] * (alphas1 - alphas0) + alphas0  # no, nt\n",
    "    \n",
    "    # fmod_atZ: no, nt, nf\n",
    "    fmod_atZ_t = (fmod_atZ * alphas_atZ[:, :, None]).sum(axis=1)[:, None, :]\n",
    "    # no, 1, nf\n",
    "    sigma_ell = 1e3\n",
    "    like_grid = approx_flux_likelihood_multiobj(allFluxes, allFluxesVar, fmod_atZ_t, 1, sigma_ell**2.).ravel()  # no,\n",
    "    eps = 1e-305\n",
    "    ind = like_grid > eps\n",
    "    theprob = np.log(like_grid[ind]).sum()\n",
    "    return theprob\n",
    "\n",
    "\n",
    "    "
   ]
  },
  {
   "cell_type": "code",
   "execution_count": 5,
   "id": "governmental-girlfriend",
   "metadata": {},
   "outputs": [],
   "source": [
    "def plot_params(params):\n",
    "    \"\"\"\n",
    "    plot_params(params)\n",
    "    \"\"\"\n",
    "    fig, axs = plt.subplots(4, 4, figsize=(16, 8))\n",
    "    axs = axs.ravel()\n",
    "    alphas = params[0:nt]\n",
    "    alpha0 = np.sum(alphas)\n",
    "    dirsamples = dirichlet(alphas, 1000)\n",
    "    for i in range(nt):\n",
    "        mean = alphas[i]/alpha0\n",
    "        std = np.sqrt(alphas[i] * (alpha0-alphas[i]) / alpha0**2 / (alpha0+1))\n",
    "        axs[i].axvspan(mean-std, mean+std, color='gray', alpha=0.5)\n",
    "        axs[i].axvline(mean, c='k', lw=2)\n",
    "        axs[i].axvline(1/nt, c='k', lw=1, ls='dashed')\n",
    "        axs[i].set_title('alpha0 = '+str(alphas[i]))\n",
    "        axs[i].set_xlim([0, 1])\n",
    "        axs[i].hist(dirsamples[:, i], 50, color=\"k\", histtype=\"step\")\n",
    "    alphas = params[nt:2*nt]\n",
    "    alpha0 = np.sum(alphas)\n",
    "    dirsamples = dirichlet(alphas, 1000)\n",
    "    for i in range(nt):\n",
    "        mean = alphas[i]/alpha0\n",
    "        std = np.sqrt(alphas[i] * (alpha0-alphas[i]) / alpha0**2 / (alpha0+1))\n",
    "        axs[nt+i].axvspan(mean-std, mean+std, color='gray', alpha=0.5)\n",
    "        axs[nt+i].axvline(mean, c='k', lw=2)\n",
    "        axs[nt+i].axvline(1/nt, c='k', lw=1, ls='dashed')\n",
    "        axs[nt+i].set_title('alpha1 = '+str(alphas[i]))\n",
    "        axs[nt+i].set_xlim([0, 1])\n",
    "        axs[nt+i].hist(dirsamples[:, i], 50, color=\"k\", histtype=\"step\")\n",
    "    fig.tight_layout()\n",
    "    return fig"
   ]
  },
  {
   "cell_type": "code",
   "execution_count": 6,
   "id": "local-prefix",
   "metadata": {},
   "outputs": [
    {
     "name": "stdout",
     "output_type": "stream",
     "text": [
      "delight_data\t       parametersTest_15.cfg  parametersTest_21.cfg\r\n",
      "parametersTest.cfg     parametersTest_16.cfg  parametersTest_3.cfg\r\n",
      "parametersTest_1.cfg   parametersTest_17.cfg  parametersTest_4.cfg\r\n",
      "parametersTest_10.cfg  parametersTest_18.cfg  parametersTest_5.cfg\r\n",
      "parametersTest_11.cfg  parametersTest_19.cfg  parametersTest_6.cfg\r\n",
      "parametersTest_12.cfg  parametersTest_1_.cfg  parametersTest_7.cfg\r\n",
      "parametersTest_13.cfg  parametersTest_2.cfg   parametersTest_8.cfg\r\n",
      "parametersTest_14.cfg  parametersTest_20.cfg  parametersTest_9.cfg\r\n"
     ]
    }
   ],
   "source": [
    "!ls tmp"
   ]
  },
  {
   "cell_type": "code",
   "execution_count": 7,
   "id": "hired-fellowship",
   "metadata": {},
   "outputs": [],
   "source": [
    "configfilename= \"tmp/parametersTest.cfg\""
   ]
  },
  {
   "cell_type": "code",
   "execution_count": 8,
   "id": "offensive-secret",
   "metadata": {},
   "outputs": [
    {
     "name": "stderr",
     "output_type": "stream",
     "text": [
      "2021-04-09 14:00:30,934 ipykernel_launcher.py __main__[227] INFO --- calibrate Template Mixture Priors ---\n",
      "2021-04-09 14:00:30,988 ipykernel_launcher.py, delight.io[227] WARNING Input parameter file:tmp/parametersTest.cfg\n",
      "2021-04-09 14:00:30,989 ipykernel_launcher.py, delight.io[227] WARNING Parameters read:\n"
     ]
    },
    {
     "name": "stdout",
     "output_type": "stream",
     "text": [
      ">  rootDir              ./\n",
      ">  bands_directory      /home/ubuntu/.local/lib/python3.8/site-packages/delight/../data/FILTERS\n",
      ">  bandNames            lsst_u lsst_g lsst_r lsst_i lsst_z lsst_y\n",
      ">  numCoefs             15\n",
      ">  bands_verbose        True\n",
      ">  bands_debug          True\n",
      ">  bands_makeplots      False\n",
      ">  templates_directory  /home/ubuntu/.local/lib/python3.8/site-packages/delight/../data/CWW_SEDs\n",
      ">  lambdaRef            4500.0\n",
      ">  templates_names      El_B2004a Sbc_B2004a Scd_B2004a SB3_B2004a SB2_B2004a Im_B2004a ssp_25Myr_z008 ssp_5Myr_z008\n",
      ">  p_t                  [0.27   0.26   0.25   0.069  0.021  0.11   0.0061 0.0079]\n",
      ">  p_z_t                [0.23 0.39 0.33 0.31 1.1  0.34 1.2  0.14]\n",
      ">  templates_verbose    False\n",
      ">  templates_debug      False\n",
      ">  training_numChunks   1\n",
      ">  training_paramFile   ./tmp/delight_data/galaxies-gpparams.txt\n",
      ">  training_catFile     ./tmp/delight_data/galaxies-fluxredshifts.txt\n",
      ">  training_referenceBand lsst_i\n",
      ">  training_bandOrder   lsst_u lsst_u_var lsst_g lsst_g_var lsst_r lsst_r_var lsst_i lsst_i_var lsst_z lsst_z_var lsst_y lsst_y_var redshift\n",
      ">  training_extraFracFluxError 0.0001\n",
      ">  training_crossValidate False\n",
      ">  training_CV_bandOrder _ _ _ _ lsst_r lsst_r_var _ _ _ _ _ _\n",
      ">  training_CVfile      ./tmp/delight_data/galaxies-gpCV.txt\n",
      ">  trainingFile         ./tmp/delight_data/galaxies-fluxredshifts.txt\n",
      ">  targetFile           ./tmp/delight_data/galaxies-fluxredshifts2.txt\n",
      ">  numObjects           1000\n",
      ">  noiseLevel           0.03\n",
      ">  target_extraFracFluxError 0.0001\n",
      ">  target_catFile       ./tmp/delight_data/galaxies-fluxredshifts2.txt\n",
      ">  target_bandOrder     lsst_u lsst_u_var lsst_g lsst_g_var lsst_r lsst_r_var lsst_i lsst_i_var lsst_z lsst_z_var lsst_y lsst_y_var redshift\n",
      ">  target_referenceBand lsst_r\n",
      ">  compressIndicesFile  ./tmp/delight_data/galaxies-compressionIndices.txt\n",
      ">  compressMargLikFile  ./tmp/delight_data/galaxies-compressionMargLikes.txt\n",
      ">  compressionFilesFound False\n",
      ">  Ncompress            10\n",
      ">  useCompression       False\n",
      ">  redshiftpdfFile      ./tmp/delight_data/galaxies-redshiftpdfs.txt\n",
      ">  redshiftpdfFileComp  ./tmp/delight_data/galaxies-redshiftpdfs-comp.txt\n",
      ">  redshiftpdfFileTemp  ./tmp/delight_data/galaxies-redshiftpdfs-cww.txt\n",
      ">  metricsFile          ./tmp/delight_data/galaxies-redshiftmetrics.txt\n",
      ">  metricsFileTemp      ./tmp/delight_data/galaxies-redshiftmetrics-cww.txt\n",
      ">  zPriorSigma          0.2\n",
      ">  ellPriorSigma        0.5\n",
      ">  fluxLuminosityNorm   1.0\n",
      ">  alpha_C              1000.0\n",
      ">  alpha_L              100.0\n",
      ">  V_C                  0.1\n",
      ">  V_L                  0.1\n",
      ">  redshiftMin          0.01\n",
      ">  redshiftMax          3.01\n",
      ">  redshiftBinSize      0.01\n",
      ">  redshiftNumBinsGPpred 300\n",
      ">  redshiftDisBinSize   0.2\n",
      ">  lines_pos            6500.0 5002.26 3732.22\n",
      ">  lines_width          20.0 20.0 20.0 20.0\n",
      ">  confidenceLevels     0.1 0.5 0.68 0.95\n"
     ]
    }
   ],
   "source": [
    "logger.info(\"--- calibrate Template Mixture Priors ---\")\n",
    "\n",
    "paramFileName = configfilename\n",
    "params = parseParamFile(paramFileName, verbose=True)\n",
    "#params = parseParamFile(paramFileName, verbose=False)"
   ]
  },
  {
   "cell_type": "code",
   "execution_count": 9,
   "id": "excessive-finding",
   "metadata": {},
   "outputs": [],
   "source": [
    "DL = approx_DL()\n",
    "redshiftDistGrid, redshiftGrid, redshiftGridGP = createGrids(params)"
   ]
  },
  {
   "cell_type": "code",
   "execution_count": 10,
   "id": "statewide-extra",
   "metadata": {},
   "outputs": [],
   "source": [
    "numZ = redshiftGrid.size"
   ]
  },
  {
   "cell_type": "code",
   "execution_count": 11,
   "id": "surprising-bible",
   "metadata": {},
   "outputs": [],
   "source": [
    "# Locate which columns of the catalog correspond to which bands.\n",
    "bandIndices, bandNames, bandColumns, bandVarColumns, redshiftColumn,refBandColumn = readColumnPositions(params, prefix=\"training_\")"
   ]
  },
  {
   "cell_type": "code",
   "execution_count": 12,
   "id": "surprised-marriage",
   "metadata": {},
   "outputs": [
    {
     "data": {
      "text/plain": [
       "array([0, 1, 2, 3, 4, 5])"
      ]
     },
     "execution_count": 12,
     "metadata": {},
     "output_type": "execute_result"
    }
   ],
   "source": [
    "bandIndices"
   ]
  },
  {
   "cell_type": "code",
   "execution_count": 13,
   "id": "arctic-tanzania",
   "metadata": {},
   "outputs": [
    {
     "data": {
      "text/plain": [
       "array(['lsst_u', 'lsst_g', 'lsst_r', 'lsst_i', 'lsst_z', 'lsst_y'],\n",
       "      dtype='<U6')"
      ]
     },
     "execution_count": 13,
     "metadata": {},
     "output_type": "execute_result"
    }
   ],
   "source": [
    "bandNames"
   ]
  },
  {
   "cell_type": "code",
   "execution_count": 14,
   "id": "monthly-dollar",
   "metadata": {},
   "outputs": [
    {
     "data": {
      "text/plain": [
       "array([ 0,  2,  4,  6,  8, 10])"
      ]
     },
     "execution_count": 14,
     "metadata": {},
     "output_type": "execute_result"
    }
   ],
   "source": [
    "bandColumns"
   ]
  },
  {
   "cell_type": "code",
   "execution_count": 15,
   "id": "small-chambers",
   "metadata": {},
   "outputs": [
    {
     "data": {
      "text/plain": [
       "array([ 1,  3,  5,  7,  9, 11])"
      ]
     },
     "execution_count": 15,
     "metadata": {},
     "output_type": "execute_result"
    }
   ],
   "source": [
    "bandVarColumns"
   ]
  },
  {
   "cell_type": "code",
   "execution_count": 16,
   "id": "rough-stopping",
   "metadata": {},
   "outputs": [
    {
     "data": {
      "text/plain": [
       "12"
      ]
     },
     "execution_count": 16,
     "metadata": {},
     "output_type": "execute_result"
    }
   ],
   "source": [
    "redshiftColumn"
   ]
  },
  {
   "cell_type": "code",
   "execution_count": 17,
   "id": "confirmed-supply",
   "metadata": {},
   "outputs": [
    {
     "data": {
      "text/plain": [
       "6"
      ]
     },
     "execution_count": 17,
     "metadata": {},
     "output_type": "execute_result"
    }
   ],
   "source": [
    "refBandColumn"
   ]
  },
  {
   "cell_type": "code",
   "execution_count": 18,
   "id": "incorrect-affiliation",
   "metadata": {},
   "outputs": [],
   "source": [
    "dir_seds = params['templates_directory']\n",
    "dir_filters = params['bands_directory']"
   ]
  },
  {
   "cell_type": "code",
   "execution_count": 19,
   "id": "statistical-reset",
   "metadata": {},
   "outputs": [],
   "source": [
    "lambdaRef = params['lambdaRef']\n",
    "sed_names = params['templates_names']\n",
    "numBands = bandIndices.size\n",
    "nt = len(sed_names)"
   ]
  },
  {
   "cell_type": "code",
   "execution_count": 20,
   "id": "recent-springer",
   "metadata": {},
   "outputs": [],
   "source": [
    "f_mod = np.zeros((numZ, nt, len(params['bandNames'])))"
   ]
  },
  {
   "cell_type": "code",
   "execution_count": 21,
   "id": "included-floating",
   "metadata": {},
   "outputs": [],
   "source": [
    "# model of flux-redshift for each template\n",
    "for t, sed_name in enumerate(sed_names):\n",
    "    f_mod[:, t, :] = np.loadtxt(dir_seds + '/' + sed_name + '_fluxredshiftmod.txt')"
   ]
  },
  {
   "cell_type": "code",
   "execution_count": 22,
   "id": "listed-opposition",
   "metadata": {},
   "outputs": [
    {
     "name": "stderr",
     "output_type": "stream",
     "text": [
      "<ipython-input-22-67f73946292d>:1: DeprecationWarning: Calling np.sum(generator) is deprecated, and in the future will give a different result. Use np.sum(np.fromiter(generator)) or the python sum builtin instead.\n",
      "  numObjectsTraining = np.sum(1 for line in open(params['training_catFile']))\n"
     ]
    }
   ],
   "source": [
    "numObjectsTraining = np.sum(1 for line in open(params['training_catFile']))"
   ]
  },
  {
   "cell_type": "code",
   "execution_count": 23,
   "id": "waiting-andrew",
   "metadata": {},
   "outputs": [
    {
     "name": "stderr",
     "output_type": "stream",
     "text": [
      "2021-04-09 14:00:31,388 ipykernel_launcher.py __main__[227] INFO Number of Training Objects 3755\n"
     ]
    }
   ],
   "source": [
    "msg = 'Number of Training Objects ' + str(numObjectsTraining)\n",
    "logger.info(msg)"
   ]
  },
  {
   "cell_type": "code",
   "execution_count": 24,
   "id": "neither-appraisal",
   "metadata": {},
   "outputs": [],
   "source": [
    "numMetrics = 7 + len(params['confidenceLevels'])"
   ]
  },
  {
   "cell_type": "code",
   "execution_count": 25,
   "id": "accepted-confidentiality",
   "metadata": {},
   "outputs": [],
   "source": [
    "allFluxes = np.zeros((numObjectsTraining, numBands))\n",
    "allFluxesVar = np.zeros((numObjectsTraining, numBands))\n",
    "\n",
    "redshifts = np.zeros((numObjectsTraining, 1))\n",
    "fmod_atZ = np.zeros((numObjectsTraining, nt, numBands))"
   ]
  },
  {
   "cell_type": "code",
   "execution_count": 26,
   "id": "blessed-stationery",
   "metadata": {},
   "outputs": [],
   "source": [
    "# Now loop over training set to compute likelihood function\n",
    "loc = - 1\n",
    "trainingDataIter = getDataFromFile(params, 0, numObjectsTraining,prefix=\"training_\", getXY=False)"
   ]
  },
  {
   "cell_type": "code",
   "execution_count": 27,
   "id": "minor-jumping",
   "metadata": {},
   "outputs": [],
   "source": [
    "# loop on traning\n",
    "for z, ell, bands, fluxes, fluxesVar, bCV, fCV, fvCV in trainingDataIter:\n",
    "   \n",
    "    loc += 1\n",
    "   \n",
    "    allFluxes[loc, :] = fluxes\n",
    "    allFluxesVar[loc, :] = fluxesVar\n",
    "    redshifts[loc, 0] = z\n",
    "    \n",
    "    # loop on SED\n",
    "    for t, sed_name in enumerate(sed_names):\n",
    "        for ib, b in enumerate(bands):\n",
    "            fmod_atZ[loc, t, ib] = ell * np.interp(z, redshiftGrid,f_mod[:, t, b])"
   ]
  },
  {
   "cell_type": "code",
   "execution_count": 28,
   "id": "individual-distinction",
   "metadata": {},
   "outputs": [],
   "source": [
    "zZmax = redshifts[:, 0] / redshiftGrid[-1]"
   ]
  },
  {
   "cell_type": "code",
   "execution_count": 29,
   "id": "nearby-assault",
   "metadata": {},
   "outputs": [
    {
     "name": "stdout",
     "output_type": "stream",
     "text": [
      "-15275.898371599615\n",
      "37355.81441728494\n",
      "-13499.434304298353\n",
      "-10586.774931501728\n",
      "20233.737357800193\n",
      "20940.054492999145\n",
      "-22141.286073436662\n",
      "332.82719779759645\n",
      "-11818.389060852642\n",
      "-10103.863350216852\n",
      "Mean acceptance fraction: 0.012\n"
     ]
    }
   ],
   "source": [
    "pmin = np.repeat(0., 2*nt)\n",
    "pmax = np.repeat(200., 2*nt)\n",
    "\n",
    "ndim, nwalkers = 2*nt, 100\n",
    "\n",
    "p0 = [pmin + (pmax-pmin)*np.random.uniform(0, 1, size=ndim) for i in range(nwalkers)]\n",
    "\n",
    "for i in range(10):\n",
    "    print(lnprob(p0[i], nt, allFluxes, allFluxesVar, zZmax, fmod_atZ, pmin, pmax))\n",
    "\n",
    "sampler = emcee.EnsembleSampler(nwalkers, ndim, lnprob,threads=4,args=[nt, allFluxes, allFluxesVar, zZmax,fmod_atZ, pmin, pmax])\n",
    "pos, prob, state = sampler.run_mcmc(p0, 200)\n",
    "sampler.reset()\n",
    "sampler.run_mcmc(pos, 2000)\n",
    "print(\"Mean acceptance fraction: {0:.3f}\" .format(np.mean(sampler.acceptance_fraction)))\n",
    "samples = sampler.chain.reshape((-1, ndim))\n",
    "lnprob = sampler.lnprobability.reshape((-1, 1))\n",
    "\n",
    "params_mean = samples.mean(axis=0)\n",
    "params_std = samples.std(axis=0)\n",
    "\n"
   ]
  },
  {
   "cell_type": "code",
   "execution_count": 30,
   "id": "minute-habitat",
   "metadata": {
    "scrolled": false
   },
   "outputs": [
    {
     "data": {
      "image/png": "[encoded data removed]",
      "text/plain": [
       "<Figure size 1152x576 with 20 Axes>"
      ]
     },
     "metadata": {
      "needs_background": "light"
     },
     "output_type": "display_data"
    }
   ],
   "source": [
    "fig, axs = plt.subplots(4, 5, figsize=(16, 8))\n",
    "axs = axs.ravel()\n",
    "for i in range(ndim):\n",
    "    axs[i].hist(samples[:, i], 50, color=\"k\", histtype=\"step\")\n",
    "    axs[i].axvspan(params_mean[i]-params_std[i],params_mean[i]+params_std[i], color='gray', alpha=0.5)\n",
    "    axs[i].axvline(params_mean[i], c='k', lw=2)\n",
    "fig.tight_layout()\n",
    "fig.savefig('priormixture_parameters.pdf')\n",
    "\n"
   ]
  },
  {
   "cell_type": "code",
   "execution_count": 31,
   "id": "affecting-norman",
   "metadata": {},
   "outputs": [
    {
     "data": {
      "image/png": "[encoded data removed]",
      "text/plain": [
       "<Figure size 1152x576 with 16 Axes>"
      ]
     },
     "metadata": {
      "needs_background": "light"
     },
     "output_type": "display_data"
    }
   ],
   "source": [
    "fig = plot_params(params_mean)\n",
    "fig.savefig('priormixture_meanparameters.pdf')"
   ]
  },
  {
   "cell_type": "code",
   "execution_count": 32,
   "id": "unlike-academy",
   "metadata": {},
   "outputs": [
    {
     "name": "stdout",
     "output_type": "stream",
     "text": [
      "params_mean [ 28.86379512 151.97294301  75.70903614  27.99517244   9.88050816\n",
      " 150.14116592  15.16472897   3.82458844 122.68517986  83.755811\n",
      "  58.96422259 159.62540765  25.07733846  73.12755013  88.0174183\n",
      " 107.08763103]\n",
      "params_std [25.11856509 24.08240469 24.15919558 18.20672024 10.73898741 27.19932088\n",
      " 14.37304799  4.03859972 27.94319241 24.78232842 26.43491894 18.79450916\n",
      " 24.58131517 22.68069392 13.05059557 17.52653433]\n"
     ]
    }
   ],
   "source": [
    "print(\"params_mean\", params_mean)\n",
    "print(\"params_std\", params_std)"
   ]
  },
  {
   "cell_type": "code",
   "execution_count": 33,
   "id": "excess-pontiac",
   "metadata": {},
   "outputs": [
    {
     "name": "stdout",
     "output_type": "stream",
     "text": [
      "alpha0: 0.062, 0.33, 0.16, 0.06, 0.021, 0.32, 0.033, 0.0083\n",
      "alpha0 err: 0.011, 0.022, 0.017, 0.011, 0.0067, 0.022, 0.0083, 0.0042\n"
     ]
    }
   ],
   "source": [
    "alphas = params_mean[0:nt]\n",
    "alpha0 = np.sum(alphas)\n",
    "print(\"alpha0:\", ', '.join(['%.2g' % x for x in alphas / alpha0]))\n",
    "print(\"alpha0 err:\", ', '.join(['%.2g' % x for x in np.sqrt(alphas*(alpha0-alphas)/alpha0**2/(alpha0+1))]))"
   ]
  },
  {
   "cell_type": "code",
   "execution_count": 34,
   "id": "straight-watson",
   "metadata": {},
   "outputs": [
    {
     "name": "stdout",
     "output_type": "stream",
     "text": [
      "alpha1: 0.17, 0.12, 0.082, 0.22, 0.035, 0.1, 0.12, 0.15\n",
      "alpha1 err: 0.014, 0.012, 0.01, 0.016, 0.0068, 0.011, 0.012, 0.013\n"
     ]
    }
   ],
   "source": [
    "alphas = params_mean[nt:2*nt]\n",
    "alpha0 = np.sum(alphas)\n",
    "print(\"alpha1:\", ', '.join(['%.2g' % x for x in alphas / alpha0]))\n",
    "print(\"alpha1 err:\", ', '.join(['%.2g' % x for x in np.sqrt(alphas*(alpha0-alphas)/alpha0**2/(alpha0+1))]))\n"
   ]
  },
  {
   "cell_type": "code",
   "execution_count": null,
   "id": "thirty-liabilities",
   "metadata": {},
   "outputs": [
    {
     "name": "stderr",
     "output_type": "stream",
     "text": [
      "WARNING:root:Too few points to create valid contours\n",
      "WARNING:root:Too few points to create valid contours\n"
     ]
    }
   ],
   "source": [
    "fig = corner.corner(samples)\n",
    "fig.savefig(\"trianglemixture.pdf\")"
   ]
  },
  {
   "cell_type": "code",
   "execution_count": null,
   "id": "legal-attribute",
   "metadata": {},
   "outputs": [],
   "source": []
  }
 ],
 "metadata": {
  "kernelspec": {
   "display_name": "Python 3",
   "language": "python",
   "name": "python3"
  },
  "language_info": {
   "codemirror_mode": {
    "name": "ipython",
    "version": 3
   },
   "file_extension": ".py",
   "mimetype": "text/x-python",
   "name": "python",
   "nbconvert_exporter": "python",
   "pygments_lexer": "ipython3",
   "version": "3.8.8"
  }
 },
 "nbformat": 4,
 "nbformat_minor": 5
}
