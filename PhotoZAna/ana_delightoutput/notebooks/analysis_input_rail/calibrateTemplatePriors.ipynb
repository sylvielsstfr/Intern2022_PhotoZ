{
 "cells": [
  {
   "cell_type": "markdown",
   "id": "senior-minimum",
   "metadata": {},
   "source": [
    "# Calibrate Template Priors"
   ]
  },
  {
   "cell_type": "code",
   "execution_count": 1,
   "id": "internal-franklin",
   "metadata": {},
   "outputs": [],
   "source": [
    "%matplotlib inline\n",
    "import numpy as np\n",
    "import matplotlib.pyplot as plt"
   ]
  },
  {
   "cell_type": "code",
   "execution_count": 19,
   "id": "cellular-wichita",
   "metadata": {},
   "outputs": [],
   "source": [
    "from scipy.optimize import minimize"
   ]
  },
  {
   "cell_type": "code",
   "execution_count": 2,
   "id": "pediatric-publication",
   "metadata": {},
   "outputs": [],
   "source": [
    "import sys\n",
    "from mpi4py import MPI\n",
    "import numpy as np\n",
    "from scipy.interpolate import interp1d\n",
    "from delight.io import *\n",
    "from delight.utils import *\n",
    "from delight.photoz_gp import PhotozGP\n",
    "from delight.photoz_kernels import Photoz_mean_function, Photoz_kernel\n",
    "import scipy.stats\n",
    "import matplotlib.pyplot as plt\n",
    "import emcee\n",
    "import corner\n",
    "\n",
    "# Create a logger object.\n",
    "logger = logging.getLogger(__name__)\n",
    "coloredlogs.install(level='DEBUG', logger=logger,fmt='%(asctime)s,%(msecs)03d %(programname)s %(name)s[%(process)d] %(levelname)s %(message)s')"
   ]
  },
  {
   "cell_type": "code",
   "execution_count": 3,
   "id": "broke-settle",
   "metadata": {},
   "outputs": [],
   "source": [
    "def approx_flux_likelihood_multiobj(\n",
    "        f_obs,  # no, nf\n",
    "        f_obs_var,  # no, nf\n",
    "        f_mod,  # no, nt, nf\n",
    "        ell_hat,  # 1\n",
    "        ell_var,  # 1\n",
    "        returnChi2=False,\n",
    "        normalized=True):\n",
    "\n",
    "    assert len(f_obs.shape) == 2\n",
    "    assert len(f_obs_var.shape) == 2\n",
    "    assert len(f_mod.shape) == 3\n",
    "    \n",
    "    no, nt, nf = f_mod.shape\n",
    "    \n",
    "    f_obs_r = f_obs[:, None, :]\n",
    "    var = f_obs_var[:, None, :]\n",
    "    \n",
    "    invvar = np.where(f_obs_r/var < 1e-6, 0.0, var**-1.0)  # nz * nt * nf\n",
    "    \n",
    "    FOT = np.sum(f_mod * f_obs_r * invvar, axis=2)\\\n",
    "        + ell_hat / ell_var  # no * nt\n",
    "    FTT = np.sum(f_mod**2 * invvar, axis=2)\\\n",
    "        + 1. / ell_var  # no * nt\n",
    "    FOO = np.sum(f_obs_r**2 * invvar, axis=2)\\\n",
    "        + ell_hat**2 / ell_var  # no * nt\n",
    "    \n",
    "    sigma_det = np.prod(var, axis=2)\n",
    "    \n",
    "    chi2 = FOO - FOT**2.0 / FTT  # no * nt\n",
    "    denom = np.sqrt(FTT)\n",
    "    \n",
    "    if normalized:\n",
    "        denom *= np.sqrt(sigma_det * (2*np.pi)**nf * ell_var)\n",
    "        \n",
    "    like = np.exp(-0.5*chi2) / denom  # no * nt\n",
    "    \n",
    "    if returnChi2:\n",
    "        return chi2\n",
    "    else:\n",
    "        return like"
   ]
  },
  {
   "cell_type": "code",
   "execution_count": 4,
   "id": "random-romance",
   "metadata": {},
   "outputs": [],
   "source": [
    "def lnprob(params, nt, allFluxes, allFluxesVar, zZmax, fmod_atZ, pmin, pmax):\n",
    "    if np.any(params > pmax) or np.any(params < pmin):\n",
    "        return - np.inf\n",
    "\n",
    "    alphas0 = dirichlet(params[0:nt], rsize=1).ravel()[None, :]  # 1, nt\n",
    "    alphas1 = dirichlet(params[nt:2*nt], rsize=1).ravel()[None, :]  # 1, nt\n",
    "    alphas_atZ = zZmax[:, None] * (alphas1 - alphas0) + alphas0  # no, nt\n",
    "    # fmod_atZ: no, nt, nf\n",
    "    fmod_atZ_t = (fmod_atZ * alphas_atZ[:, :, None]).sum(axis=1)[:, None, :]\n",
    "    # no, 1, nf\n",
    "    sigma_ell = 1e3\n",
    "    like_grid = approx_flux_likelihood_multiobj(allFluxes, allFluxesVar, fmod_atZ_t, 1, sigma_ell**2.).ravel()  # no,\n",
    "    eps = 1e-305\n",
    "    ind = like_grid > eps\n",
    "    theprob = np.log(like_grid[ind]).sum()\n",
    "    return theprob"
   ]
  },
  {
   "cell_type": "code",
   "execution_count": 5,
   "id": "decreased-corrections",
   "metadata": {},
   "outputs": [],
   "source": [
    "def plot_params(params):\n",
    "    fig, axs = plt.subplots(4, 4, figsize=(16, 8))\n",
    "    axs = axs.ravel()\n",
    "    alphas = params[0:nt]\n",
    "    alpha0 = np.sum(alphas)\n",
    "    dirsamples = dirichlet(alphas, 1000)\n",
    "    for i in range(nt):\n",
    "        mean = alphas[i]/alpha0\n",
    "        std = np.sqrt(alphas[i] * (alpha0-alphas[i]) / alpha0**2 / (alpha0+1))\n",
    "        axs[i].axvspan(mean-std, mean+std, color='gray', alpha=0.5)\n",
    "        axs[i].axvline(mean, c='k', lw=2)\n",
    "        axs[i].axvline(1/nt, c='k', lw=1, ls='dashed')\n",
    "        axs[i].set_title('alpha0 = '+str(alphas[i]))\n",
    "        axs[i].set_xlim([0, 1])\n",
    "        axs[i].hist(dirsamples[:, i], 50, color=\"k\", histtype=\"step\")\n",
    "    alphas = params[nt:2*nt]\n",
    "    alpha0 = np.sum(alphas)\n",
    "    dirsamples = dirichlet(alphas, 1000)\n",
    "    for i in range(nt):\n",
    "        mean = alphas[i]/alpha0\n",
    "        std = np.sqrt(alphas[i] * (alpha0-alphas[i]) / alpha0**2 / (alpha0+1))\n",
    "        axs[nt+i].axvspan(mean-std, mean+std, color='gray', alpha=0.5)\n",
    "        axs[nt+i].axvline(mean, c='k', lw=2)\n",
    "        axs[nt+i].axvline(1/nt, c='k', lw=1, ls='dashed')\n",
    "        axs[nt+i].set_title('alpha1 = '+str(alphas[i]))\n",
    "        axs[nt+i].set_xlim([0, 1])\n",
    "        axs[nt+i].hist(dirsamples[:, i], 50, color=\"k\", histtype=\"step\")\n",
    "    fig.tight_layout()\n",
    "    return fig"
   ]
  },
  {
   "cell_type": "code",
   "execution_count": 6,
   "id": "decent-turner",
   "metadata": {},
   "outputs": [],
   "source": [
    "configfilename= \"tmp/parametersTest.cfg\""
   ]
  },
  {
   "cell_type": "code",
   "execution_count": 7,
   "id": "theoretical-atlanta",
   "metadata": {},
   "outputs": [
    {
     "name": "stderr",
     "output_type": "stream",
     "text": [
      "2021-03-13 20:00:54,706 ipykernel_launcher.py __main__[327] INFO --- calibrate Template Mixture Priors ---\n"
     ]
    }
   ],
   "source": [
    "logger.info(\"--- calibrate Template Mixture Priors ---\")\n",
    "\n",
    "paramFileName = configfilename\n",
    "params = parseParamFile(paramFileName, verbose=False)\n",
    "\n",
    "comm = MPI.COMM_WORLD\n",
    "threadNum = comm.Get_rank()\n",
    "numThreads = comm.Get_size()\n",
    "\n",
    "DL = approx_DL()\n",
    "redshiftDistGrid, redshiftGrid, redshiftGridGP = createGrids(params)\n",
    "numZ = redshiftGrid.size\n",
    "\n",
    "# Locate which columns of the catalog correspond to which bands.\n",
    "bandIndices, bandNames, bandColumns, bandVarColumns, redshiftColumn,refBandColumn = readColumnPositions(params, prefix=\"training_\")\n",
    "\n",
    "dir_seds = params['templates_directory']\n",
    "dir_filters = params['bands_directory']\n",
    "lambdaRef = params['lambdaRef']\n",
    "sed_names = params['templates_names']\n",
    "numBands = bandIndices.size\n",
    "nt = len(sed_names)"
   ]
  },
  {
   "cell_type": "code",
   "execution_count": 8,
   "id": "serious-steam",
   "metadata": {},
   "outputs": [],
   "source": [
    "f_mod = np.zeros((numZ, nt, len(params['bandNames'])))\n",
    "\n",
    "# model of flux-redshift for each template\n",
    "for t, sed_name in enumerate(sed_names):\n",
    "    f_mod[:, t, :] = np.loadtxt(dir_seds + '/' + sed_name + '_fluxredshiftmod.txt')"
   ]
  },
  {
   "cell_type": "code",
   "execution_count": 9,
   "id": "narrow-worse",
   "metadata": {},
   "outputs": [
    {
     "name": "stderr",
     "output_type": "stream",
     "text": [
      "<ipython-input-9-04df22052751>:1: DeprecationWarning: Calling np.sum(generator) is deprecated, and in the future will give a different result. Use np.sum(np.fromiter(generator)) or the python sum builtin instead.\n",
      "  numObjectsTraining = np.sum(1 for line in open(params['training_catFile']))\n",
      "2021-03-13 20:00:55,251 ipykernel_launcher.py __main__[327] INFO Number of Training Objects 10225\n"
     ]
    }
   ],
   "source": [
    "numObjectsTraining = np.sum(1 for line in open(params['training_catFile']))\n",
    "\n",
    "msg = 'Number of Training Objects ' + str(numObjectsTraining)\n",
    "logger.info(msg)\n",
    "\n",
    "numMetrics = 7 + len(params['confidenceLevels'])"
   ]
  },
  {
   "cell_type": "code",
   "execution_count": 10,
   "id": "level-celtic",
   "metadata": {},
   "outputs": [],
   "source": [
    "allFluxes = np.zeros((numObjectsTraining, numBands))\n",
    "allFluxesVar = np.zeros((numObjectsTraining, numBands))\n",
    "\n",
    "redshifts = np.zeros((numObjectsTraining, 1))\n",
    "fmod_atZ = np.zeros((numObjectsTraining, nt, numBands))"
   ]
  },
  {
   "cell_type": "code",
   "execution_count": 15,
   "id": "warming-parcel",
   "metadata": {},
   "outputs": [],
   "source": [
    "# Now loop over training set to compute likelihood function\n",
    "loc = - 1\n",
    "trainingDataIter = getDataFromFile(params, 0, numObjectsTraining,prefix=\"training_\", getXY=False)\n",
    "\n",
    "# loop on traning\n",
    "for z, ell, bands, fluxes, fluxesVar, bCV, fCV, fvCV in trainingDataIter:\n",
    "    loc += 1\n",
    "    allFluxes[loc, :] = fluxes\n",
    "    allFluxesVar[loc, :] = fluxesVar\n",
    "    redshifts[loc, 0] = z\n",
    "\n",
    "    # loop on SED\n",
    "    for t, sed_name in enumerate(sed_names):\n",
    "        for ib, b in enumerate(bands):\n",
    "            fmod_atZ[loc, t, ib] = ell * np.interp(z, redshiftGrid,f_mod[:, t, b])\n",
    "\n",
    "zZmax = redshifts[:, 0] / redshiftGrid[-1]"
   ]
  },
  {
   "cell_type": "code",
   "execution_count": 16,
   "id": "delayed-regard",
   "metadata": {},
   "outputs": [],
   "source": [
    "pmin = np.concatenate((np.repeat(0., nt), np.repeat(0., nt)))\n",
    "pmax = np.concatenate((np.repeat(200., nt), np.repeat(redshiftGrid[-1], nt)))\n",
    "ndim, nwalkers = 2*nt, 1000\n",
    "p0 = [pmin + (pmax-pmin)*np.random.uniform(0, 1, size=ndim) for i in range(nwalkers)]\n",
    "\n",
    "bounds = [[pmin[i], pmax[i]] for i in range(ndim)]"
   ]
  },
  {
   "cell_type": "code",
   "execution_count": 20,
   "id": "hired-forum",
   "metadata": {},
   "outputs": [
    {
     "name": "stdout",
     "output_type": "stream",
     "text": [
      "Minimum value: -382552.7221855712\n"
     ]
    },
    {
     "ename": "TypeError",
     "evalue": "lnprob() missing 1 required positional argument: 'pmax'",
     "output_type": "error",
     "traceback": [
      "\u001b[0;31m\u001b[0m",
      "\u001b[0;31mTypeError\u001b[0mTraceback (most recent call last)",
      "\u001b[0;32m<ipython-input-20-8c75d38b8377>\u001b[0m in \u001b[0;36m<module>\u001b[0;34m\u001b[0m\n\u001b[1;32m      7\u001b[0m \u001b[0mprint\u001b[0m\u001b[0;34m(\u001b[0m\u001b[0;34m'Minimum value:'\u001b[0m\u001b[0;34m,\u001b[0m \u001b[0mvals\u001b[0m\u001b[0;34m[\u001b[0m\u001b[0mloc\u001b[0m\u001b[0;34m]\u001b[0m\u001b[0;34m)\u001b[0m\u001b[0;34m\u001b[0m\u001b[0;34m\u001b[0m\u001b[0m\n\u001b[1;32m      8\u001b[0m \u001b[0;34m\u001b[0m\u001b[0m\n\u001b[0;32m----> 9\u001b[0;31m \u001b[0mres\u001b[0m \u001b[0;34m=\u001b[0m \u001b[0mminimize\u001b[0m\u001b[0;34m(\u001b[0m\u001b[0mlnprob\u001b[0m\u001b[0;34m,\u001b[0m \u001b[0mp0\u001b[0m\u001b[0;34m[\u001b[0m\u001b[0mloc\u001b[0m\u001b[0;34m]\u001b[0m\u001b[0;34m,\u001b[0m \u001b[0margs\u001b[0m\u001b[0;34m=\u001b[0m\u001b[0;34m(\u001b[0m\u001b[0mnt\u001b[0m\u001b[0;34m,\u001b[0m \u001b[0mallFluxes\u001b[0m\u001b[0;34m,\u001b[0m \u001b[0mallFluxesVar\u001b[0m\u001b[0;34m,\u001b[0m \u001b[0mfmod_atZ\u001b[0m\u001b[0;34m,\u001b[0m \u001b[0mpmin\u001b[0m\u001b[0;34m,\u001b[0m \u001b[0mpmax\u001b[0m\u001b[0;34m)\u001b[0m\u001b[0;34m,\u001b[0m \u001b[0mbounds\u001b[0m\u001b[0;34m=\u001b[0m\u001b[0mbounds\u001b[0m\u001b[0;34m)\u001b[0m\u001b[0;34m\u001b[0m\u001b[0;34m\u001b[0m\u001b[0m\n\u001b[0m\u001b[1;32m     10\u001b[0m \u001b[0;34m\u001b[0m\u001b[0m\n\u001b[1;32m     11\u001b[0m \u001b[0mprint\u001b[0m\u001b[0;34m(\u001b[0m\u001b[0mres\u001b[0m\u001b[0;34m)\u001b[0m\u001b[0;34m\u001b[0m\u001b[0;34m\u001b[0m\u001b[0m\n",
      "\u001b[0;32m~/anaconda3/lib/python3.8/site-packages/scipy/optimize/_minimize.py\u001b[0m in \u001b[0;36mminimize\u001b[0;34m(fun, x0, args, method, jac, hess, hessp, bounds, constraints, tol, callback, options)\u001b[0m\n\u001b[1;32m    617\u001b[0m                                   **options)\n\u001b[1;32m    618\u001b[0m     \u001b[0;32melif\u001b[0m \u001b[0mmeth\u001b[0m \u001b[0;34m==\u001b[0m \u001b[0;34m'l-bfgs-b'\u001b[0m\u001b[0;34m:\u001b[0m\u001b[0;34m\u001b[0m\u001b[0;34m\u001b[0m\u001b[0m\n\u001b[0;32m--> 619\u001b[0;31m         return _minimize_lbfgsb(fun, x0, args, jac, bounds,\n\u001b[0m\u001b[1;32m    620\u001b[0m                                 callback=callback, **options)\n\u001b[1;32m    621\u001b[0m     \u001b[0;32melif\u001b[0m \u001b[0mmeth\u001b[0m \u001b[0;34m==\u001b[0m \u001b[0;34m'tnc'\u001b[0m\u001b[0;34m:\u001b[0m\u001b[0;34m\u001b[0m\u001b[0;34m\u001b[0m\u001b[0m\n",
      "\u001b[0;32m~/anaconda3/lib/python3.8/site-packages/scipy/optimize/lbfgsb.py\u001b[0m in \u001b[0;36m_minimize_lbfgsb\u001b[0;34m(fun, x0, args, jac, bounds, disp, maxcor, ftol, gtol, eps, maxfun, maxiter, iprint, callback, maxls, finite_diff_rel_step, **unknown_options)\u001b[0m\n\u001b[1;32m    304\u001b[0m             \u001b[0miprint\u001b[0m \u001b[0;34m=\u001b[0m \u001b[0mdisp\u001b[0m\u001b[0;34m\u001b[0m\u001b[0;34m\u001b[0m\u001b[0m\n\u001b[1;32m    305\u001b[0m \u001b[0;34m\u001b[0m\u001b[0m\n\u001b[0;32m--> 306\u001b[0;31m     sf = _prepare_scalar_function(fun, x0, jac=jac, args=args, epsilon=eps,\n\u001b[0m\u001b[1;32m    307\u001b[0m                                   \u001b[0mbounds\u001b[0m\u001b[0;34m=\u001b[0m\u001b[0mnew_bounds\u001b[0m\u001b[0;34m,\u001b[0m\u001b[0;34m\u001b[0m\u001b[0;34m\u001b[0m\u001b[0m\n\u001b[1;32m    308\u001b[0m                                   finite_diff_rel_step=finite_diff_rel_step)\n",
      "\u001b[0;32m~/anaconda3/lib/python3.8/site-packages/scipy/optimize/optimize.py\u001b[0m in \u001b[0;36m_prepare_scalar_function\u001b[0;34m(fun, x0, jac, args, bounds, epsilon, finite_diff_rel_step, hess)\u001b[0m\n\u001b[1;32m    259\u001b[0m     \u001b[0;31m# ScalarFunction caches. Reuse of fun(x) during grad\u001b[0m\u001b[0;34m\u001b[0m\u001b[0;34m\u001b[0m\u001b[0;34m\u001b[0m\u001b[0m\n\u001b[1;32m    260\u001b[0m     \u001b[0;31m# calculation reduces overall function evaluations.\u001b[0m\u001b[0;34m\u001b[0m\u001b[0;34m\u001b[0m\u001b[0;34m\u001b[0m\u001b[0m\n\u001b[0;32m--> 261\u001b[0;31m     sf = ScalarFunction(fun, x0, args, grad, hess,\n\u001b[0m\u001b[1;32m    262\u001b[0m                         finite_diff_rel_step, bounds, epsilon=epsilon)\n\u001b[1;32m    263\u001b[0m \u001b[0;34m\u001b[0m\u001b[0m\n",
      "\u001b[0;32m~/anaconda3/lib/python3.8/site-packages/scipy/optimize/_differentiable_functions.py\u001b[0m in \u001b[0;36m__init__\u001b[0;34m(self, fun, x0, args, grad, hess, finite_diff_rel_step, finite_diff_bounds, epsilon)\u001b[0m\n\u001b[1;32m    134\u001b[0m \u001b[0;34m\u001b[0m\u001b[0m\n\u001b[1;32m    135\u001b[0m         \u001b[0mself\u001b[0m\u001b[0;34m.\u001b[0m\u001b[0m_update_fun_impl\u001b[0m \u001b[0;34m=\u001b[0m \u001b[0mupdate_fun\u001b[0m\u001b[0;34m\u001b[0m\u001b[0;34m\u001b[0m\u001b[0m\n\u001b[0;32m--> 136\u001b[0;31m         \u001b[0mself\u001b[0m\u001b[0;34m.\u001b[0m\u001b[0m_update_fun\u001b[0m\u001b[0;34m(\u001b[0m\u001b[0;34m)\u001b[0m\u001b[0;34m\u001b[0m\u001b[0;34m\u001b[0m\u001b[0m\n\u001b[0m\u001b[1;32m    137\u001b[0m \u001b[0;34m\u001b[0m\u001b[0m\n\u001b[1;32m    138\u001b[0m         \u001b[0;31m# Gradient evaluation\u001b[0m\u001b[0;34m\u001b[0m\u001b[0;34m\u001b[0m\u001b[0;34m\u001b[0m\u001b[0m\n",
      "\u001b[0;32m~/anaconda3/lib/python3.8/site-packages/scipy/optimize/_differentiable_functions.py\u001b[0m in \u001b[0;36m_update_fun\u001b[0;34m(self)\u001b[0m\n\u001b[1;32m    224\u001b[0m     \u001b[0;32mdef\u001b[0m \u001b[0m_update_fun\u001b[0m\u001b[0;34m(\u001b[0m\u001b[0mself\u001b[0m\u001b[0;34m)\u001b[0m\u001b[0;34m:\u001b[0m\u001b[0;34m\u001b[0m\u001b[0;34m\u001b[0m\u001b[0m\n\u001b[1;32m    225\u001b[0m         \u001b[0;32mif\u001b[0m \u001b[0;32mnot\u001b[0m \u001b[0mself\u001b[0m\u001b[0;34m.\u001b[0m\u001b[0mf_updated\u001b[0m\u001b[0;34m:\u001b[0m\u001b[0;34m\u001b[0m\u001b[0;34m\u001b[0m\u001b[0m\n\u001b[0;32m--> 226\u001b[0;31m             \u001b[0mself\u001b[0m\u001b[0;34m.\u001b[0m\u001b[0m_update_fun_impl\u001b[0m\u001b[0;34m(\u001b[0m\u001b[0;34m)\u001b[0m\u001b[0;34m\u001b[0m\u001b[0;34m\u001b[0m\u001b[0m\n\u001b[0m\u001b[1;32m    227\u001b[0m             \u001b[0mself\u001b[0m\u001b[0;34m.\u001b[0m\u001b[0mf_updated\u001b[0m \u001b[0;34m=\u001b[0m \u001b[0;32mTrue\u001b[0m\u001b[0;34m\u001b[0m\u001b[0;34m\u001b[0m\u001b[0m\n\u001b[1;32m    228\u001b[0m \u001b[0;34m\u001b[0m\u001b[0m\n",
      "\u001b[0;32m~/anaconda3/lib/python3.8/site-packages/scipy/optimize/_differentiable_functions.py\u001b[0m in \u001b[0;36mupdate_fun\u001b[0;34m()\u001b[0m\n\u001b[1;32m    131\u001b[0m \u001b[0;34m\u001b[0m\u001b[0m\n\u001b[1;32m    132\u001b[0m         \u001b[0;32mdef\u001b[0m \u001b[0mupdate_fun\u001b[0m\u001b[0;34m(\u001b[0m\u001b[0;34m)\u001b[0m\u001b[0;34m:\u001b[0m\u001b[0;34m\u001b[0m\u001b[0;34m\u001b[0m\u001b[0m\n\u001b[0;32m--> 133\u001b[0;31m             \u001b[0mself\u001b[0m\u001b[0;34m.\u001b[0m\u001b[0mf\u001b[0m \u001b[0;34m=\u001b[0m \u001b[0mfun_wrapped\u001b[0m\u001b[0;34m(\u001b[0m\u001b[0mself\u001b[0m\u001b[0;34m.\u001b[0m\u001b[0mx\u001b[0m\u001b[0;34m)\u001b[0m\u001b[0;34m\u001b[0m\u001b[0;34m\u001b[0m\u001b[0m\n\u001b[0m\u001b[1;32m    134\u001b[0m \u001b[0;34m\u001b[0m\u001b[0m\n\u001b[1;32m    135\u001b[0m         \u001b[0mself\u001b[0m\u001b[0;34m.\u001b[0m\u001b[0m_update_fun_impl\u001b[0m \u001b[0;34m=\u001b[0m \u001b[0mupdate_fun\u001b[0m\u001b[0;34m\u001b[0m\u001b[0;34m\u001b[0m\u001b[0m\n",
      "\u001b[0;32m~/anaconda3/lib/python3.8/site-packages/scipy/optimize/_differentiable_functions.py\u001b[0m in \u001b[0;36mfun_wrapped\u001b[0;34m(x)\u001b[0m\n\u001b[1;32m    128\u001b[0m         \u001b[0;32mdef\u001b[0m \u001b[0mfun_wrapped\u001b[0m\u001b[0;34m(\u001b[0m\u001b[0mx\u001b[0m\u001b[0;34m)\u001b[0m\u001b[0;34m:\u001b[0m\u001b[0;34m\u001b[0m\u001b[0;34m\u001b[0m\u001b[0m\n\u001b[1;32m    129\u001b[0m             \u001b[0mself\u001b[0m\u001b[0;34m.\u001b[0m\u001b[0mnfev\u001b[0m \u001b[0;34m+=\u001b[0m \u001b[0;36m1\u001b[0m\u001b[0;34m\u001b[0m\u001b[0;34m\u001b[0m\u001b[0m\n\u001b[0;32m--> 130\u001b[0;31m             \u001b[0;32mreturn\u001b[0m \u001b[0mfun\u001b[0m\u001b[0;34m(\u001b[0m\u001b[0mx\u001b[0m\u001b[0;34m,\u001b[0m \u001b[0;34m*\u001b[0m\u001b[0margs\u001b[0m\u001b[0;34m)\u001b[0m\u001b[0;34m\u001b[0m\u001b[0;34m\u001b[0m\u001b[0m\n\u001b[0m\u001b[1;32m    131\u001b[0m \u001b[0;34m\u001b[0m\u001b[0m\n\u001b[1;32m    132\u001b[0m         \u001b[0;32mdef\u001b[0m \u001b[0mupdate_fun\u001b[0m\u001b[0;34m(\u001b[0m\u001b[0;34m)\u001b[0m\u001b[0;34m:\u001b[0m\u001b[0;34m\u001b[0m\u001b[0;34m\u001b[0m\u001b[0m\n",
      "\u001b[0;31mTypeError\u001b[0m: lnprob() missing 1 required positional argument: 'pmax'"
     ]
    }
   ],
   "source": [
    "vals = np.zeros((len(p0), ))\n",
    "for i in range(len(p0)):\n",
    "    vals[i] = lnprob(p0[i], nt, allFluxes, allFluxesVar, zZmax,fmod_atZ, pmin, pmax)\n",
    "    \n",
    "\n",
    "loc = np.argmin(vals)\n",
    "print('Minimum value:', vals[loc])\n",
    "\n",
    "res = minimize(lnprob, p0[loc], args=(nt, allFluxes, allFluxesVar, fmod_atZ, pmin, pmax), bounds=bounds)\n",
    "\n",
    "#minimize(fun, x0, args=(), method=None, jac=None, hess=None, hessp=None, bounds=None, constraints=(), tol=None, callback=None, options=None)[source]¶\n",
    "\n",
    "print(res)\n",
    "\n",
    "params_mean = res.x\n",
    "\n",
    "alphas = params_mean[0:nt]\n",
    "betas = params_mean[nt:2*nt]\n",
    "\n",
    "alpha0 = np.sum(alphas)\n",
    "print(\"p_t:\", ' '.join(['%.2g' % x for x in alphas / alpha0]))\n",
    "print(\"p_z_t:\", ' '.join(['%.2g' % x for x in betas]))\n",
    "print(\"p_t err:\", ' '.join(['%.2g' % x for x in np.sqrt(alphas*(alpha0-alphas)/alpha0**2/(alpha0+1))]))"
   ]
  },
  {
   "cell_type": "code",
   "execution_count": null,
   "id": "stone-motel",
   "metadata": {},
   "outputs": [],
   "source": []
  }
 ],
 "metadata": {
  "kernelspec": {
   "display_name": "Python 3",
   "language": "python",
   "name": "python3"
  },
  "language_info": {
   "codemirror_mode": {
    "name": "ipython",
    "version": 3
   },
   "file_extension": ".py",
   "mimetype": "text/x-python",
   "name": "python",
   "nbconvert_exporter": "python",
   "pygments_lexer": "ipython3",
   "version": "3.8.8"
  }
 },
 "nbformat": 4,
 "nbformat_minor": 5
}
