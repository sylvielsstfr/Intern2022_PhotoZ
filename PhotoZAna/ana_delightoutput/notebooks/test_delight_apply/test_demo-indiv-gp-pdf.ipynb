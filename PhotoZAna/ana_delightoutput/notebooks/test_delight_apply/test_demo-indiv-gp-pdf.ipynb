{
 "cells": [
  {
   "cell_type": "markdown",
   "id": "industrial-chile",
   "metadata": {},
   "source": [
    "# Test demo indiv gp pdf"
   ]
  },
  {
   "cell_type": "markdown",
   "id": "color-green",
   "metadata": {},
   "source": [
    "- author : Sylvie Dagoret-Campagne\n",
    "\n",
    "- affiliation : IJCLab/IN2P3/CNRS\n",
    "- creation date : March 17th 2021\n",
    "- update : April 4th 2021"
   ]
  },
  {
   "cell_type": "code",
   "execution_count": 1,
   "id": "collect-disclaimer",
   "metadata": {},
   "outputs": [],
   "source": [
    "%matplotlib inline\n",
    "import numpy as np\n",
    "\n",
    "import scipy.stats\n",
    "import sys\n",
    "sys.path.append('../')\n",
    "from delight.io import *\n",
    "from delight.utils import *\n",
    "from delight.photoz_gp import PhotozGP\n",
    "from delight.utils_cy import approx_flux_likelihood_cy\n",
    "from time import time\n",
    "\n",
    "import matplotlib.pyplot as plt\n",
    "from matplotlib.ticker import FormatStrFormatter\n",
    "%matplotlib inline"
   ]
  },
  {
   "cell_type": "code",
   "execution_count": 2,
   "id": "referenced-legislature",
   "metadata": {},
   "outputs": [],
   "source": [
    "import matplotlib as mpl\n",
    "mpl.rcParams['figure.max_open_warning'] = 0"
   ]
  },
  {
   "cell_type": "code",
   "execution_count": 3,
   "id": "reported-hello",
   "metadata": {},
   "outputs": [],
   "source": [
    "from mpi4py import MPI\n",
    "from delight.photoz_kernels import Photoz_mean_function, Photoz_kernel"
   ]
  },
  {
   "cell_type": "code",
   "execution_count": 4,
   "id": "occupied-weapon",
   "metadata": {},
   "outputs": [],
   "source": [
    "logger = logging.getLogger(__name__)\n",
    "coloredlogs.install(level='DEBUG', logger=logger,fmt='%(asctime)s,%(msecs)03d %(programname)s, %(name)s[%(process)d] %(levelname)s %(message)s')"
   ]
  },
  {
   "cell_type": "code",
   "execution_count": 5,
   "id": "bottom-benefit",
   "metadata": {},
   "outputs": [],
   "source": [
    "plt.rcParams[\"figure.figsize\"] = (6,4)\n",
    "plt.rcParams[\"axes.labelsize\"] = 'xx-large'\n",
    "plt.rcParams['axes.titlesize'] = 'xx-large'\n",
    "plt.rcParams['xtick.labelsize']= 'xx-large'\n",
    "plt.rcParams['ytick.labelsize']= 'xx-large'"
   ]
  },
  {
   "cell_type": "markdown",
   "id": "decent-duncan",
   "metadata": {},
   "source": [
    "# Configuration\n",
    "\n",
    "- select if want to control Delight internal simulation or DC2"
   ]
  },
  {
   "cell_type": "code",
   "execution_count": 6,
   "id": "swedish-serve",
   "metadata": {},
   "outputs": [],
   "source": [
    "FLAG_DC2=False"
   ]
  },
  {
   "cell_type": "code",
   "execution_count": 7,
   "id": "convinced-samoa",
   "metadata": {},
   "outputs": [],
   "source": [
    "if FLAG_DC2:\n",
    "    configfilename='tmp/parametersTest.cfg'\n",
    "else:\n",
    "    configfilename='tmpsim/parametersTest.cfg'"
   ]
  },
  {
   "cell_type": "markdown",
   "id": "hawaiian-absence",
   "metadata": {},
   "source": [
    "## Load config and data"
   ]
  },
  {
   "cell_type": "code",
   "execution_count": 8,
   "id": "impaired-brave",
   "metadata": {},
   "outputs": [
    {
     "name": "stderr",
     "output_type": "stream",
     "text": [
      "2021-04-04 20:50:27,932 ipykernel_launcher.py, __main__[338] INFO --- DELIGHT-DEMO INDIV GP PDF ---\n"
     ]
    }
   ],
   "source": [
    "params = parseParamFile(configfilename, verbose=False)\n",
    "\n",
    "\n",
    "comm = MPI.COMM_WORLD\n",
    "threadNum = comm.Get_rank()\n",
    "numThreads = comm.Get_size()\n",
    "\n",
    "\n",
    "if threadNum == 0:\n",
    " \n",
    "    logger.info(\"--- DELIGHT-DEMO INDIV GP PDF ---\")\n",
    "\n"
   ]
  },
  {
   "cell_type": "markdown",
   "id": "neutral-right",
   "metadata": {},
   "source": [
    "## Read filter coefficients, compute normalization of filters"
   ]
  },
  {
   "cell_type": "code",
   "execution_count": 9,
   "id": "existing-purse",
   "metadata": {},
   "outputs": [
    {
     "name": "stdout",
     "output_type": "stream",
     "text": [
      "Number of Training Objects 1000\n"
     ]
    },
    {
     "name": "stderr",
     "output_type": "stream",
     "text": [
      "<ipython-input-9-2e8b05cdff2a>:9: DeprecationWarning: Calling np.sum(generator) is deprecated, and in the future will give a different result. Use np.sum(np.fromiter(generator)) or the python sum builtin instead.\n",
      "  numObjectsTraining = np.sum(1 for line in open(params['training_catFile']))\n"
     ]
    }
   ],
   "source": [
    "#Read filter coefficients, compute normalization of filters\n",
    "bandCoefAmplitudes, bandCoefPositions, bandCoefWidths, norms\\\n",
    "    = readBandCoefficients(params)\n",
    "numBands = bandCoefAmplitudes.shape[0]\n",
    "\n",
    "redshiftDistGrid, redshiftGrid, redshiftGridGP = createGrids(params)\n",
    "f_mod = readSEDs(params)\n",
    "\n",
    "numObjectsTraining = np.sum(1 for line in open(params['training_catFile']))\n",
    "print('Number of Training Objects', numObjectsTraining)"
   ]
  },
  {
   "cell_type": "code",
   "execution_count": 10,
   "id": "eligible-going",
   "metadata": {},
   "outputs": [],
   "source": [
    "gp = PhotozGP(f_mod, bandCoefAmplitudes, bandCoefPositions, bandCoefWidths,\n",
    "              params['lines_pos'], params['lines_width'],\n",
    "              params['V_C'], params['V_L'],\n",
    "              params['alpha_C'], params['alpha_L'],\n",
    "              redshiftGridGP, use_interpolators=True)"
   ]
  },
  {
   "cell_type": "code",
   "execution_count": 11,
   "id": "american-highway",
   "metadata": {},
   "outputs": [],
   "source": [
    "numZ = redshiftGrid.size\n",
    "all_z = np.zeros((numObjectsTraining, ))\n",
    "all_fluxes = np.zeros((numObjectsTraining, numBands))\n",
    "all_fluxes_var = np.zeros((numObjectsTraining, numBands))\n",
    "bestTypes = np.zeros((numObjectsTraining, ), dtype=int)\n",
    "model_mean = np.zeros((numZ, numObjectsTraining, numBands))\n",
    "model_covar = np.zeros((numZ, numObjectsTraining, numBands))\n",
    "bandIndices_TRN, bandNames_TRN, bandColumns_TRN,\\\n",
    "    bandVarColumns_TRN, redshiftColumn_TRN,\\\n",
    "    refBandColumn_TRN = readColumnPositions(params, prefix='training_')\n",
    "bandIndices, bandNames, bandColumns,\\\n",
    "    bandVarColumns, redshiftColumn,\\\n",
    "    refBandColumn = readColumnPositions(params, prefix='target_')\n",
    "bandNames = params['bandNames']\n",
    "Ncompress = params['Ncompress']"
   ]
  },
  {
   "cell_type": "code",
   "execution_count": 12,
   "id": "challenging-venice",
   "metadata": {},
   "outputs": [],
   "source": [
    "dir_seds = params['templates_directory']\n",
    "dir_filters = params['bands_directory']\n",
    "lambdaRef = params['lambdaRef']\n",
    "sed_names = params['templates_names']\n",
    "f_mod = np.zeros((redshiftGrid.size, len(sed_names),\n",
    "                  len(params['bandNames'])))\n",
    "for t, sed_name in enumerate(sed_names):\n",
    "    f_mod[:, t, :] = np.loadtxt(dir_seds + '/' + sed_name +\n",
    "                                '_fluxredshiftmod.txt')"
   ]
  },
  {
   "cell_type": "code",
   "execution_count": null,
   "id": "special-stylus",
   "metadata": {
    "scrolled": false
   },
   "outputs": [],
   "source": [
    "loc = - 1\n",
    "trainingDataIter = getDataFromFile(params, 0, numObjectsTraining,\n",
    "                                   prefix=\"training_\", getXY=True)\n",
    "targetDataIter = getDataFromFile(params, 0, numObjectsTraining,\n",
    "                                 prefix=\"target_\", getXY=False)\n",
    "for z, normedRefFlux, bands, fluxes, fluxesVar, bCV, fCV, fvCV, X, Y, Yvar\\\n",
    "        in trainingDataIter:\n",
    "    loc += 1\n",
    "\n",
    "    themod = np.zeros((1, f_mod.shape[1], bands.size))\n",
    "    for it in range(f_mod.shape[1]):\n",
    "        for ib, band in enumerate(bands):\n",
    "            themod[0, it, ib] = np.interp(z, redshiftGrid, f_mod[:, it, band])\n",
    "    chi2_grid = scalefree_flux_likelihood(\n",
    "        fluxes,\n",
    "        fluxesVar,\n",
    "        themod,\n",
    "        returnChi2=True\n",
    "    )\n",
    "    bestTypes[loc] = np.argmin(chi2_grid)\n",
    "    gp.setData(X, Y, Yvar, bestTypes[loc])\n",
    "\n",
    "    ell = gp.X[0, 2]\n",
    "    model_mean[:, loc, :], model_covar[:, loc, :]\\\n",
    "        = gp.predictAndInterpolate(redshiftGrid, ell=ell, z=z)\n",
    "    all_z[loc] = z\n",
    "    all_fluxes[loc, bands] = fluxes\n",
    "    all_fluxes_var[loc, bands] = fluxesVar\n",
    "\n",
    "    if False:\n",
    "        wavs = np.linspace(bandCoefPositions.min(),\n",
    "                           bandCoefPositions.max(), num=300)\n",
    "        fig, axs = plt.subplots(2, 1, figsize=(8, 6), sharex=True)\n",
    "        for mu in params['lines_pos']:\n",
    "            axs[0].axvline(mu*(1+z), c='gray', ls='dashed')\n",
    "        filterMidWav = 0*bandIndices_TRN\n",
    "        filterStdWav = 0*bandIndices_TRN\n",
    "        for i, ib in enumerate(bandIndices_TRN):\n",
    "            y = 0*wavs\n",
    "            for amp,     mu, sig in zip(bandCoefAmplitudes[ib, :],\n",
    "                                    bandCoefPositions[ib, :],\n",
    "                                    bandCoefWidths[ib, :]):\n",
    "                y += amp * np.exp(-0.5*((wavs-mu)/sig)**2)\n",
    "            filterMidWav[i] = np.average(wavs, weights=y)\n",
    "            filterStdWav[i] = np.sqrt(\n",
    "                np.average((wavs-filterMidWav[i])**2, weights=y))\n",
    "            axs[1].plot(wavs, y, c='k')\n",
    "            axs[0].errorbar(filterMidWav[i], Y[i, 0],\n",
    "                            yerr=np.sqrt(Yvar[i, 0]), xerr=1.5*filterStdWav[i],\n",
    "                            fmt='-o', markersize=5, color='k', lw=2)\n",
    "        #sed, fac, cov, filters = gp.drawSED(z, ell, wavs)\n",
    "        sed = np.interp(wavs, filterMidWav[:], Y[:, 0])\n",
    "        sedfluxes = np.zeros((bandIndices_TRN.size, ))\n",
    "        for i, ib in enumerate(bandIndices_TRN):\n",
    "            sedfluxes[i] = np.trapz(filters[ib]*sed, x=wavs) / np.trapz(filters[ib], x=wavs)\n",
    "        lp = np.sum(-0.5*(sedfluxes - fluxes)**2/fluxesVar)\n",
    "        numsamples = 200\n",
    "        seds = np.zeros((numsamples, wavs.size))\n",
    "        off = 0\n",
    "        for i in range(numsamples):\n",
    "            sed_p = 1*sed + fac * np.random.multivariate_normal(0*wavs, cov/10**2)\n",
    "            for i, ib in enumerate(bandIndices_TRN):\n",
    "                sedfluxes[i] = np.trapz(filters[ib]*sed_p, x=wavs) / np.trapz(filters[ib], x=wavs)\n",
    "            lp_prime = np.sum(-0.5*(sedfluxes - fluxes)**2/fluxesVar)\n",
    "            if np.random.rand() <= np.exp(lp_prime - lp):\n",
    "                sed = 1*sed_p\n",
    "                seds[off, :] = sed_p\n",
    "                off += 1\n",
    "                lp = 1*lp_prime\n",
    "        print(\"Number of accepted samples:\", off)\n",
    "        sedmean, sedstd = seds[:off, :].mean(axis=0), seds[:off, :].std(axis=0)\n",
    "        axs[0].plot(wavs, sedmean, c='b')\n",
    "        axs[0].fill_between(wavs, sedmean+sedstd, sedmean-sedstd,\n",
    "                            color='b', alpha=0.2)\n",
    "        for i in np.random.choice(off, 2, replace=False):\n",
    "            axs[0].plot(wavs, seds[i, :], c='k', alpha=0.3)\n",
    "        axs[0].set_ylabel('Flux')\n",
    "        axs[1].set_ylabel('Filters')\n",
    "        axs[1].set_xlabel('Wavelength')\n",
    "        # axs[0].set_yscale('log')\n",
    "        axs[1].set_xlim([wavs[0], wavs[-1]])\n",
    "        axs[1].set_ylim([0, 1.1*np.max(filters)])\n",
    "        axs[1].set_yticks([])\n",
    "        fig.tight_layout()\n",
    "        fig.savefig('data-sed-'+str(loc)+'.png')\n",
    "\n",
    "p_t = params['p_t'][bestTypes][None, :]\n",
    "p_z_t = params['p_z_t'][bestTypes][None, :]\n",
    "\n",
    "prior = np.exp(-0.5*((redshiftGrid[:, None]-all_z[None, :]) /\n",
    "                     params['zPriorSigma'])**2)\n",
    "# prior[prior < 1e-6] = 0\n",
    "# prior *= p_t * redshiftGrid[:, None] *\n",
    "# np.exp(-0.5 * redshiftGrid[:, None]**2 / p_z_t) / p_z_t\n",
    "\n",
    "loc = -1\n",
    "for z, normedRefFlux, bands, fluxes, fluxesVar,\\\n",
    "        bCV, fCV, fvCV in targetDataIter:\n",
    "    loc += 1\n",
    "    fulllike_grid = approx_flux_likelihood(\n",
    "        fluxes,\n",
    "        fluxesVar,\n",
    "        model_mean[:, :, bands],\n",
    "        f_mod_covar=model_covar[:, :, bands],\n",
    "        marginalizeEll=True,\n",
    "        ell_hat=1, ell_var=params['ellPriorSigma']**2\n",
    "    )\n",
    "    fulllike_grid *= prior\n",
    "    evidences = np.trapz(fulllike_grid, x=redshiftGrid, axis=0)\n",
    "    sortind = np.argsort(evidences)[::-1][0:Ncompress]\n",
    "    like_grid = fulllike_grid.sum(axis=1)\n",
    "    like_grid_comp = fulllike_grid[:, sortind].sum(axis=1)\n",
    "    alllike_grid_cww = approx_flux_likelihood(\n",
    "        fluxes,\n",
    "        fluxesVar,\n",
    "        f_mod[:, :, bands],\n",
    "        marginalizeEll=True\n",
    "    )\n",
    "    besttype = np.argmax(alllike_grid_cww.sum(axis=0))\n",
    "    like_grid_cww = alllike_grid_cww.sum(axis=1)  # [:, besttype]\n",
    "    if like_grid.sum() > 0:\n",
    "        zphotmean = np.average(redshiftGrid, weights=like_grid)\n",
    "        if zphotmean > 0.0 and zphotmean < 2.5 and z < 2.8:\n",
    "\n",
    "            fig, ax = plt.subplots(1, 1, figsize=(7, 4))\n",
    "            for ii in sortind:\n",
    "                ax.plot(redshiftGrid, fulllike_grid[:, ii], c='gray', alpha=.6)\n",
    "            ax.plot(redshiftGrid, like_grid, c='m', lw=3, label='GP')\n",
    "            like_grid_cww = like_grid_cww * np.max(like_grid) / np.max(like_grid_cww)\n",
    "            ax.plot(redshiftGrid, like_grid_cww,c='blue', lw=2, label='CWW')\n",
    "            ax.plot(redshiftGrid, like_grid_comp,c='r', ls='dashed', label='Compressed GP')\n",
    "            ax.axvline(z, c='orange', lw=2, ls='dashed', label='True redshift')\n",
    "\n",
    "            # ax.axvline(zphotmean, c='r', lw=2)\n",
    "            ax.set_ylabel('Likelihood')\n",
    "            ax.set_xlabel('Redshift')\n",
    "            ax.set_xlim([0, 2.])  # redshiftGrid[-1]])\n",
    "            ylimax = 1.3*np.max(np.concatenate((like_grid, like_grid_cww)))\n",
    "            ax.set_ylim([0, ylimax])\n",
    "            for ii in sortind:\n",
    "                ax.scatter(all_z[ii], ylimax*0.99, c='gray', marker='x', s=10)\n",
    "            ax.yaxis.set_major_formatter(FormatStrFormatter('%.2e'))\n",
    "            ax.legend(loc='upper right', frameon=False, ncol=2)\n",
    "            # ax.set_yscale('log')\n",
    "            fig.tight_layout()\n",
    "            fig.savefig('data-pdfs-'+str(loc)+'.pdf')\n",
    "\n",
    "            if True:\n",
    "                usedBands = list(np.unique(np.concatenate((\n",
    "                    bandIndices_TRN, bandIndices))))\n",
    "\n",
    "                #fig, axs = plt.subplots(3, len(usedBands)//3 + 1,\n",
    "                fig, axs = plt.subplots(3, len(usedBands)//3 ,\n",
    "                                        figsize=(20, 10),\n",
    "                                        sharex=True, sharey=True)\n",
    "                axs = axs.ravel()\n",
    "                fac = redshiftGrid**2\n",
    "                ylims = [0.25*np.min(model_mean[2:-2, :, :] *\n",
    "                                     fac[2:-2, None, None]),\n",
    "                         2*np.max(model_mean[2:-2, :, :] *\n",
    "                                  fac[2:-2, None, None])]\n",
    "                for i, ib in enumerate(bands):\n",
    "                    pos = usedBands.index(ib)\n",
    "                    axs[pos].axvline(zphotmean, c='r', lw=2)\n",
    "                    axs[pos].axvline(z, c='k', lw=2)\n",
    "                    axs[pos].axhspan(fluxes[i] - np.sqrt(fluxesVar[i]),\n",
    "                                     fluxes[i] + np.sqrt(fluxesVar[i]),\n",
    "                                     color='k', alpha=0.4)\n",
    "                for i, ib in enumerate(usedBands):\n",
    "                    for t, sed_name in enumerate(sed_names):\n",
    "                        if t == besttype:\n",
    "                            fac = ell\n",
    "                            fac /= np.interp(z, redshiftGrid, f_mod[:, t, ib])\n",
    "                            axs[i].plot(redshiftGrid, f_mod[:, t, ib]*fac, 'k')\n",
    "                for ii in sortind:\n",
    "                    for i, ib in enumerate(bandIndices_TRN):\n",
    "                        if False and all_fluxes[ii, ib] > 0:\n",
    "                            pos = usedBands.index(ib)\n",
    "                            axs[pos].errorbar(all_z[ii], all_fluxes[ii, ib],\n",
    "                                              np.sqrt(all_fluxes_var[ii, ib]),\n",
    "                                              fmt='-o', markersize=5, alpha=.1)\n",
    "                    for i, ib in enumerate(usedBands):\n",
    "                        axs[i].set_title(bandNames[ib])\n",
    "                        axs[i].axvline(all_z[ii], c='gray', alpha=0.3)\n",
    "                        fac = ell /\\\n",
    "                            np.interp(z, redshiftGrid, model_mean[:, ii, ib])\n",
    "                        axs[i].fill_between(\n",
    "                            redshiftGrid,\n",
    "                            (model_mean[:, ii, ib] -\n",
    "                             np.sqrt(model_covar[:, ii, ib]))*fac,\n",
    "                            (model_mean[:, ii, ib] +\n",
    "                             np.sqrt(model_covar[:, ii, ib]))*fac,\n",
    "                            color='b', alpha=0.1)\n",
    "                        axs[i].plot(redshiftGrid, model_mean[:, ii, ib], c='b', alpha=0.1)\n",
    "                        axs[i].set_yscale('symlog')\n",
    "                        axs[i].set_ylim(ylims)\n",
    "                        axs[i].set_xlim([redshiftGrid[0], redshiftGrid[-1]])\n",
    "\n",
    "                fig.tight_layout()\n",
    "                fig.savefig('data-fluxes-'+str(loc)+'.pdf')\n",
    "\n",
    "    if loc > 20:\n",
    "        break\n",
    "       \n"
   ]
  },
  {
   "cell_type": "code",
   "execution_count": null,
   "id": "accessory-currency",
   "metadata": {},
   "outputs": [],
   "source": []
  }
 ],
 "metadata": {
  "kernelspec": {
   "display_name": "Python 3",
   "language": "python",
   "name": "python3"
  },
  "language_info": {
   "codemirror_mode": {
    "name": "ipython",
    "version": 3
   },
   "file_extension": ".py",
   "mimetype": "text/x-python",
   "name": "python",
   "nbconvert_exporter": "python",
   "pygments_lexer": "ipython3",
   "version": "3.8.8"
  }
 },
 "nbformat": 4,
 "nbformat_minor": 5
}
