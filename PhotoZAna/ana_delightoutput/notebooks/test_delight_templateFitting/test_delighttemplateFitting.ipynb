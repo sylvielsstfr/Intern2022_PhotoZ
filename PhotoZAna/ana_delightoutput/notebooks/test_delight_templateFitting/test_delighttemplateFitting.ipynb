{
 "cells": [
  {
   "cell_type": "markdown",
   "id": "6a2da1ed",
   "metadata": {},
   "source": [
    "# Test Delight template fitting"
   ]
  },
  {
   "cell_type": "markdown",
   "id": "075f932d",
   "metadata": {},
   "source": [
    "- author : Sylvie Dagoret-Campagne\n",
    "\n",
    "- affiliation : IJCLab/IN2P3/CNRS\n",
    "- creation date : March 17th 2021\n",
    "- update : April 3rd 2021\n",
    "- update : May 13 th 2021 : implement the new prior calculation"
   ]
  },
  {
   "cell_type": "markdown",
   "id": "ab214b28",
   "metadata": {},
   "source": [
    "must do \n",
    "\n",
    "        ln -s ../tmp\n",
    "        ln -s ../tmpsim\n",
    "   "
   ]
  },
  {
   "cell_type": "code",
   "execution_count": 1,
   "id": "f9bf4d29",
   "metadata": {},
   "outputs": [
    {
     "name": "stdout",
     "output_type": "stream",
     "text": [
      "Found classifier trainZ\n",
      "Found classifier delightPZ\n",
      "Found classifier simpleNN\n",
      "Found classifier FZBoost\n",
      "Found classifier randomPZ\n"
     ]
    }
   ],
   "source": [
    "%matplotlib inline\n",
    "import numpy as np\n",
    "import matplotlib.pyplot as plt\n",
    "import scipy.stats\n",
    "import sys\n",
    "sys.path.append('../')\n",
    "from delight.io import *\n",
    "from delight.utils import *\n",
    "from delight.photoz_gp import PhotozGP\n",
    "\n",
    "import seaborn as sns \n",
    "\n",
    "from rail.estimation.algos.include_delightPZ.libPriorPZ import *"
   ]
  },
  {
   "cell_type": "code",
   "execution_count": 2,
   "id": "7741287f",
   "metadata": {},
   "outputs": [],
   "source": [
    "from mpi4py import MPI\n",
    "from delight.photoz_kernels import Photoz_mean_function, Photoz_kernel"
   ]
  },
  {
   "cell_type": "code",
   "execution_count": 3,
   "id": "ffc2312a",
   "metadata": {},
   "outputs": [],
   "source": [
    "logger = logging.getLogger(__name__)\n",
    "coloredlogs.install(level='DEBUG', logger=logger,fmt='%(asctime)s,%(msecs)03d %(programname)s, %(name)s[%(process)d] %(levelname)s %(message)s')"
   ]
  },
  {
   "cell_type": "code",
   "execution_count": 4,
   "id": "77accd11",
   "metadata": {},
   "outputs": [],
   "source": [
    "plt.rcParams[\"figure.figsize\"] = (6,4)\n",
    "plt.rcParams[\"axes.labelsize\"] = 'xx-large'\n",
    "plt.rcParams['axes.titlesize'] = 'xx-large'\n",
    "plt.rcParams['xtick.labelsize']= 'xx-large'\n",
    "plt.rcParams['ytick.labelsize']= 'xx-large'"
   ]
  },
  {
   "cell_type": "markdown",
   "id": "45353ebc",
   "metadata": {},
   "source": [
    "# Configuration\n",
    "\n",
    "- select if want to control Delight internal simulation or DC2"
   ]
  },
  {
   "cell_type": "code",
   "execution_count": 5,
   "id": "c0344bb0",
   "metadata": {},
   "outputs": [],
   "source": [
    "FLAG_DC2=False"
   ]
  },
  {
   "cell_type": "code",
   "execution_count": 6,
   "id": "9730c581",
   "metadata": {},
   "outputs": [],
   "source": [
    "if FLAG_DC2:\n",
    "    configfilename='tmp/parametersTest.cfg'\n",
    "else:\n",
    "    configfilename='tmpsim/parametersTest.cfg'"
   ]
  },
  {
   "cell_type": "code",
   "execution_count": 7,
   "id": "7a7bfb7c",
   "metadata": {},
   "outputs": [],
   "source": [
    "FLAG_NEW_PRIOR = True"
   ]
  },
  {
   "cell_type": "markdown",
   "id": "a9e85c14",
   "metadata": {},
   "source": [
    "# Load config and data"
   ]
  },
  {
   "cell_type": "code",
   "execution_count": 8,
   "id": "67923be0",
   "metadata": {},
   "outputs": [
    {
     "name": "stderr",
     "output_type": "stream",
     "text": [
      "2021-05-13 12:49:02,206 ipykernel_launcher.py, __main__[301] INFO --- TEMPLATE FITTING ---\n",
      "2021-05-13 12:49:02,210 ipykernel_launcher.py, __main__[301] INFO ==> New Prior calculation from Benitez\n"
     ]
    }
   ],
   "source": [
    "comm = MPI.COMM_WORLD\n",
    "threadNum = comm.Get_rank()\n",
    "numThreads = comm.Get_size()\n",
    "\n",
    "if threadNum == 0:\n",
    "    logger.info(\"--- TEMPLATE FITTING ---\")\n",
    "    \n",
    "    if FLAG_NEW_PRIOR:\n",
    "        logger.info(\"==> New Prior calculation from Benitez\")"
   ]
  },
  {
   "cell_type": "code",
   "execution_count": 9,
   "id": "db597064",
   "metadata": {},
   "outputs": [
    {
     "name": "stderr",
     "output_type": "stream",
     "text": [
      "2021-05-13 12:49:02,257 ipykernel_launcher.py, __main__[301] INFO Thread number / number of threads: 1 , 1\n",
      "2021-05-13 12:49:02,261 ipykernel_launcher.py, __main__[301] INFO Input parameter file:tmp/parametersTest.cfg\n"
     ]
    }
   ],
   "source": [
    "# Parse parameters file\n",
    "\n",
    "paramFileName = configfilename\n",
    "params = parseParamFile(paramFileName, verbose=False)\n",
    "\n",
    "if threadNum == 0:\n",
    "    msg = 'Thread number / number of threads: ' + str(threadNum+1) + \" , \" + str(numThreads)\n",
    "    logger.info(msg)\n",
    "    msg = 'Input parameter file:' + paramFileName\n",
    "    logger.info(msg)"
   ]
  },
  {
   "cell_type": "raw",
   "id": "04083f00",
   "metadata": {},
   "source": [
    "DL = approx_DL()\n",
    "redshiftDistGrid, redshiftGrid, redshiftGridGP = createGrids(params)\n",
    "numZ = redshiftGrid.size\n",
    "\n",
    "# Locate which columns of the catalog correspond to which bands.\n",
    "\n",
    "bandIndices, bandNames, bandColumns, bandVarColumns, redshiftColumn,refBandColumn = readColumnPositions(params, prefix=\"target_\")\n",
    "\n",
    "dir_seds = params['templates_directory']\n",
    "dir_filters = params['bands_directory']\n",
    "lambdaRef = params['lambdaRef']\n",
    "sed_names = params['templates_names']\n",
    "\n",
    "# f_mod  : flux model in each band as a function of the sed and the band name\n",
    "# axis 0 : redshifts\n",
    "# axis 1 : sed names\n",
    "# axis 2 : band names\n",
    "\n",
    "f_mod = np.zeros((redshiftGrid.size, len(sed_names),len(params['bandNames'])))\n",
    "\n",
    "# loop on SED to load the flux-redshift file from the training\n",
    "# ture data or simulated by simulateWithSEDs.py\n",
    "\n",
    "for t, sed_name in enumerate(sed_names):\n",
    "    f_mod[:, t, :] = np.loadtxt(dir_seds + '/' + sed_name + '_fluxredshiftmod.txt')\n",
    "\n",
    "numObjectsTarget = np.sum(1 for line in open(params['target_catFile']))\n",
    "\n",
    "firstLine = int(threadNum * numObjectsTarget / float(numThreads))\n",
    "lastLine = int(min(numObjectsTarget,(threadNum + 1) * numObjectsTarget / float(numThreads)))\n",
    "numLines = lastLine - firstLine\n",
    "\n",
    "if threadNum == 0:\n",
    "    msg='Number of Target Objects ' + str(numObjectsTarget)\n",
    "    logger.info(msg)\n",
    "\n",
    "comm.Barrier()\n",
    "\n",
    "msg= 'Thread ' + str(threadNum) + ' , analyzes lines ' + str(firstLine) +  ' , to ' +  str(lastLine)\n",
    "logger.info(msg)\n",
    "\n",
    "numMetrics = 7 + len(params['confidenceLevels'])\n"
   ]
  },
  {
   "cell_type": "code",
   "execution_count": 11,
   "id": "cdda616c",
   "metadata": {},
   "outputs": [],
   "source": [
    "#all_renormmodel=[]\n",
    "#all_fluxes=[]\n",
    "#all_z=[]\n",
    "all_ell = []"
   ]
  },
  {
   "cell_type": "code",
   "execution_count": 12,
   "id": "cfd08ef6",
   "metadata": {},
   "outputs": [],
   "source": [
    "# Create local files to store results\n",
    "localPDFs = np.zeros((numLines, numZ))\n",
    "localMetrics = np.zeros((numLines, numMetrics))\n",
    "\n",
    "\n",
    "\n",
    "\n",
    "# Now loop over each target galaxy (indexed bu loc index) to compute likelihood function\n",
    "# with its flux in each bands\n",
    "loc = - 1\n",
    "trainingDataIter = getDataFromFile(params, firstLine, lastLine,prefix=\"target_\", getXY=False)\n",
    "for z, normedRefFlux, bands, fluxes, fluxesVar,bCV, fCV, fvCV in trainingDataIter:\n",
    "    loc += 1\n",
    "    # like_grid, _ = scalefree_flux_likelihood(\n",
    "    #    fluxes, fluxesVar,\n",
    "    #    f_mod[:, :, bands])\n",
    "    # ell_hat_z = normedRefFlux * 4 * np.pi\\\n",
    "    #    * params['fluxLuminosityNorm'] \\\n",
    "    #    * (DL(redshiftGrid)**2. * (1+redshiftGrid))[:, None]\n",
    "    \n",
    "    ell_hat_z = 1\n",
    "    params['ellPriorSigma'] = 1e12\n",
    "\n",
    "    # approximate flux likelihood, with scaling of both the mean and variance.\n",
    "    # This approximates the true likelihood with an iterative scheme.\n",
    "    # - data : fluxes, fluxesVar\n",
    "    # - model based on SED : f_mod\n",
    "    like_grid = approx_flux_likelihood(fluxes, fluxesVar, f_mod[:, :, bands],\\\n",
    "                                       normalized=True,\\\n",
    "                                       marginalizeEll=True,\\\n",
    "                                       ell_hat=ell_hat_z,\\\n",
    "                                       ell_var=(ell_hat_z*params['ellPriorSigma'])**2)\n",
    "    \n",
    "    ell = approx_flux_likelihood(fluxes, fluxesVar, f_mod[:, :, bands],\\\n",
    "                                       normalized=True,\\\n",
    "                                       marginalizeEll=True,\\\n",
    "                                       ell_hat=ell_hat_z,\\\n",
    "                                       ell_var=(ell_hat_z*params['ellPriorSigma'])**2,returnEllML=True)\n",
    "    \n",
    "    #all_z.append(z)\n",
    "    if FLAG_DC2 and np.random.uniform()<0.2:\n",
    "        all_ell.append(ell)\n",
    "    elif not FLAG_DC2:\n",
    "        all_ell.append(ell)\n",
    "    #all_fluxes.append(fluxes)\n",
    "   \n",
    "\n",
    "    if FLAG_NEW_PRIOR:\n",
    "        maglim=26  # M5 magnitude max\n",
    "        p_z = libPriorPZ(redshiftGrid,maglim=maglim)  # return 2D template nz x nt, nt is 8\n",
    "\n",
    "\n",
    "    else:\n",
    "        b_in = np.array(params['p_t'])[None, :]\n",
    "        beta2 = np.array(params['p_z_t'])**2.0\n",
    "\n",
    "        #compute prior on z\n",
    "        p_z = b_in * redshiftGrid[:, None] / beta2[None, :] *np.exp(-0.5 * redshiftGrid[:, None]**2 / beta2[None, :])\n",
    "\n",
    "    if loc < 0:\n",
    "        np.set_printoptions(threshold=20, edgeitems=10, linewidth=140,formatter=dict(float=lambda x: \"%.3e\" % x))  # float arrays %.3g\n",
    "        print(p_z)\n",
    "\n",
    "\n",
    "    #b_in = np.array(params['p_t'])[None, :]\n",
    "    #beta2 = np.array(params['p_z_t'])**2.0\n",
    "\n",
    "    #compute prior on z\n",
    "\n",
    "    #p_z = b_in * redshiftGrid[:, None] / beta2[None, :] *np.exp(-0.5 * redshiftGrid[:, None]**2 / beta2[None, :])\n",
    "\n",
    "    \n",
    "    if loc < 0:\n",
    "        np.set_printoptions(threshold=20, edgeitems=10, linewidth=140,formatter=dict(float=lambda x: \"%.3e\" % x))  # float arrays %.3g\n",
    "        print(p_z)\n",
    "    \n",
    "    like_grid *= p_z\n",
    "\n",
    "    localPDFs[loc, :] += like_grid.sum(axis=1)\n",
    "    \n",
    "    if localPDFs[loc, :].sum() > 0:\n",
    "        localMetrics[loc, :] = computeMetrics(z, redshiftGrid,localPDFs[loc, :],params['confidenceLevels'])\n",
    "\n"
   ]
  },
  {
   "cell_type": "code",
   "execution_count": 13,
   "id": "0f4b9b43",
   "metadata": {},
   "outputs": [
    {
     "data": {
      "text/plain": [
       "Text(0.5, 1.0, 'Priors on redshift currently implemented for Delight ')"
      ]
     },
     "execution_count": 13,
     "metadata": {},
     "output_type": "execute_result"
    },
    {
     "data": {
      "image/png": "[encoded data removed]",
      "text/plain": [
       "<Figure size 720x432 with 1 Axes>"
      ]
     },
     "metadata": {
      "needs_background": "light"
     },
     "output_type": "display_data"
    }
   ],
   "source": [
    "#sns.set_palette(sns.mpl_palette(\"winter\"))\n",
    "#sns.color_palette(\"hls\", NGT)\n",
    "NGT=p_z.shape[1]\n",
    "mknames=[\"El_B2004a\",\"Sbc_B2004a\",\"Scd_B2004a\",\"SB3_B2004a\",\"SB2_B2004a\",\"Im_B2004a\",\"ssp_25Myr_z008\",\"ssp_5Myr_z008\"]\n",
    "sns.set_palette(\"hls\", NGT)\n",
    "fig=plt.figure(figsize=(10,6))\n",
    "ax=fig.add_subplot(111)\n",
    "#colors = ['rosybrown', 'lightcoral', 'indianred', 'brown', 'firebrick', 'maroon','darkred', 'red', 'mystirose', 'salmon', 'tomato', 'darksalmon','coral', 'orangered', 'lightsalmon']\n",
    "for idx in np.arange(NGT):\n",
    "    ax.plot(redshiftGrid,p_z,label=mknames[idx])\n",
    "#ax.legend()\n",
    "ax.set_xlabel(\"$z$\")\n",
    "title=\"Priors on redshift currently implemented for Delight \"\n",
    "ax.set_title(title)"
   ]
  },
  {
   "cell_type": "code",
   "execution_count": 14,
   "id": "bba174c3",
   "metadata": {},
   "outputs": [],
   "source": [
    "all_ell=np.array(all_ell)\n",
    "#all_z=np.array(all_z)"
   ]
  },
  {
   "cell_type": "code",
   "execution_count": 15,
   "id": "5a2bae14",
   "metadata": {},
   "outputs": [
    {
     "data": {
      "text/plain": [
       "(2136, 300, 8, 1)"
      ]
     },
     "execution_count": 15,
     "metadata": {},
     "output_type": "execute_result"
    }
   ],
   "source": [
    "all_ell.shape"
   ]
  },
  {
   "cell_type": "code",
   "execution_count": 16,
   "id": "66b156be",
   "metadata": {},
   "outputs": [],
   "source": [
    "#all_z.shape"
   ]
  },
  {
   "cell_type": "code",
   "execution_count": 17,
   "id": "cddf461b",
   "metadata": {},
   "outputs": [
    {
     "data": {
      "text/plain": [
       "300"
      ]
     },
     "execution_count": 17,
     "metadata": {},
     "output_type": "execute_result"
    }
   ],
   "source": [
    "redshiftGrid.size"
   ]
  },
  {
   "cell_type": "code",
   "execution_count": null,
   "id": "9fcf0581",
   "metadata": {},
   "outputs": [],
   "source": []
  },
  {
   "cell_type": "code",
   "execution_count": 18,
   "id": "a971fdd0",
   "metadata": {},
   "outputs": [],
   "source": [
    "Nt=len(sed_names)"
   ]
  },
  {
   "cell_type": "code",
   "execution_count": 19,
   "id": "24a4ebdb",
   "metadata": {},
   "outputs": [],
   "source": [
    "NR=2  \n",
    "NC=4   \n",
    "NT=8\n",
    "ND=all_ell.shape[0]"
   ]
  },
  {
   "cell_type": "code",
   "execution_count": 20,
   "id": "de94779c",
   "metadata": {},
   "outputs": [
    {
     "data": {
      "text/plain": [
       "Text(0.5, 1.02, 'template fitting rescaling')"
      ]
     },
     "execution_count": 20,
     "metadata": {},
     "output_type": "execute_result"
    },
    {
     "data": {
      "image/png": "[encoded data removed]",
      "text/plain": [
       "<Figure size 1296x576 with 8 Axes>"
      ]
     },
     "metadata": {
      "needs_background": "light"
     },
     "output_type": "display_data"
    }
   ],
   "source": [
    "fig, axs = plt.subplots(NR, NC,figsize=(18,8))\n",
    "\n",
    "\n",
    "for it in np.arange(len(sed_names)):\n",
    "    \n",
    "    z_coll=[]\n",
    "    lell_coll=[]\n",
    "    iy=it//NC\n",
    "    ix=it-iy*NC\n",
    "\n",
    "    for iz in np.arange(numZ):\n",
    "        for idx in np.arange(ND):\n",
    "            z_coll.append(redshiftGrid[iz])\n",
    "            lell_coll.append(np.log10(all_ell[idx,iz,it,0]))\n",
    "        \n",
    "    axs[iy,ix].hist2d(z_coll,lell_coll,(50,50),cmap=\"jet\");\n",
    "    axs[iy,ix].set_title(sed_names[it])\n",
    "    if iy==1:\n",
    "        axs[iy,ix].set_xlabel(\"$z$\")\n",
    "    if ix==0:\n",
    "        axs[iy,ix].set_ylabel(\"$log_{10}(\\ell)$\")\n",
    "        \n",
    "    \n",
    "plt.tight_layout()\n",
    "plt.suptitle(\"template fitting rescaling\",y=1.02,fontsize=16)"
   ]
  },
  {
   "cell_type": "code",
   "execution_count": 21,
   "id": "8597f2c1",
   "metadata": {},
   "outputs": [],
   "source": [
    "#plt.hist(np.log10(np.array(all_ell)),bins=100);\n",
    "#plt.xlabel(\"$log_{10}(\\ell)$\")\n",
    "#plt.title(\"distribution of fitted $\\ell$\")"
   ]
  },
  {
   "cell_type": "code",
   "execution_count": 22,
   "id": "829542b7",
   "metadata": {},
   "outputs": [],
   "source": [
    "comm.Barrier()\n",
    "if threadNum == 0:\n",
    "    globalPDFs = np.zeros((numObjectsTarget, numZ))\n",
    "    globalMetrics = np.zeros((numObjectsTarget, numMetrics))\n",
    "else:\n",
    "    globalPDFs = None\n",
    "    globalMetrics = None\n",
    "\n",
    "firstLines = [int(k*numObjectsTarget/numThreads) for k in range(numThreads)]\n",
    "lastLines = [int(min(numObjectsTarget, (k+1)*numObjectsTarget/numThreads)) for k in range(numThreads)]\n",
    "numLines = [lastLines[k] - firstLines[k] for k in range(numThreads)]\n",
    "\n",
    "sendcounts = tuple([numLines[k] * numZ for k in range(numThreads)])\n",
    "displacements = tuple([firstLines[k] * numZ for k in range(numThreads)])\n",
    "comm.Gatherv(localPDFs,[globalPDFs, sendcounts, displacements, MPI.DOUBLE])\n",
    "\n",
    "sendcounts = tuple([numLines[k] * numMetrics for k in range(numThreads)])\n",
    "displacements = tuple([firstLines[k] * numMetrics for k in range(numThreads)])\n",
    "comm.Gatherv(localMetrics,[globalMetrics, sendcounts, displacements, MPI.DOUBLE])\n",
    "\n",
    "comm.Barrier()\n",
    "\n",
    "if threadNum == 0:\n",
    "    fmt = '%.2e'\n",
    "    np.savetxt(params['redshiftpdfFileTemp'], globalPDFs, fmt=fmt)\n",
    "    if redshiftColumn >= 0:\n",
    "        np.savetxt(params['metricsFileTemp'], globalMetrics, fmt=fmt)"
   ]
  },
  {
   "cell_type": "code",
   "execution_count": null,
   "id": "8aec094c",
   "metadata": {},
   "outputs": [],
   "source": []
  }
 ],
 "metadata": {
  "kernelspec": {
   "display_name": "Python 3",
   "language": "python",
   "name": "python3"
  },
  "language_info": {
   "codemirror_mode": {
    "name": "ipython",
    "version": 3
   },
   "file_extension": ".py",
   "mimetype": "text/x-python",
   "name": "python",
   "nbconvert_exporter": "python",
   "pygments_lexer": "ipython3",
   "version": "3.8.8"
  }
 },
 "nbformat": 4,
 "nbformat_minor": 5
}
