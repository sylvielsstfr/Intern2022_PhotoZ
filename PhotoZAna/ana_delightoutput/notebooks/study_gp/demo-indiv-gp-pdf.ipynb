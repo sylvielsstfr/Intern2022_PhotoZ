{
 "cells": [
  {
   "cell_type": "markdown",
   "id": "ae25ef5b",
   "metadata": {},
   "source": [
    "# Demo individual GP PDF"
   ]
  },
  {
   "cell_type": "markdown",
   "id": "d1322a0b",
   "metadata": {},
   "source": [
    "- Lst "
   ]
  },
  {
   "cell_type": "code",
   "execution_count": 1,
   "id": "647fadc3",
   "metadata": {},
   "outputs": [],
   "source": [
    "import sys\n",
    "import numpy as np\n",
    "import itertools\n",
    "from delight.io import *\n",
    "from delight.utils import *\n",
    "from delight.photoz_gp import PhotozGP\n",
    "from scipy.interpolate import interp1d\n",
    "import matplotlib.pyplot as plt\n",
    "from matplotlib.ticker import FormatStrFormatter"
   ]
  },
  {
   "cell_type": "code",
   "execution_count": 2,
   "id": "b01003cc",
   "metadata": {},
   "outputs": [],
   "source": [
    "import logging\n",
    "import coloredlogs"
   ]
  },
  {
   "cell_type": "code",
   "execution_count": 3,
   "id": "7ccec090",
   "metadata": {},
   "outputs": [],
   "source": [
    "from matplotlib.colors import LogNorm\n",
    "%matplotlib inline"
   ]
  },
  {
   "cell_type": "code",
   "execution_count": 4,
   "id": "bb693190",
   "metadata": {},
   "outputs": [],
   "source": [
    "plt.rcParams[\"figure.figsize\"] = (6,4)\n",
    "plt.rcParams[\"axes.labelsize\"] = 'xx-large'\n",
    "plt.rcParams['axes.titlesize'] = 'xx-large'\n",
    "plt.rcParams['xtick.labelsize']= 'xx-large'\n",
    "plt.rcParams['ytick.labelsize']= 'xx-large'"
   ]
  },
  {
   "cell_type": "code",
   "execution_count": 5,
   "id": "2dcd1752",
   "metadata": {},
   "outputs": [],
   "source": [
    "FLAG_DC2=True\n",
    "if FLAG_DC2:\n",
    "    configfilename='tmp/parametersTest.cfg'\n",
    "    flux_multiplicative_factor=1.\n",
    "    flux_multiplicative_factor2=1.\n",
    "    flux_multiplicative_factor=0.45e-10 # factor such if it multiplies data flux in sim gives true data flux\n",
    "    flux_multiplicative_factor2=0.45e-4 # factor such if it is multiplied to models it gives true data flux level\n",
    "else:\n",
    "    configfilename='tmpsim/parametersTest.cfg'\n",
    "    flux_multiplicative_factor=0.45e-10 # factor such if it multiplies data flux in sim gives true data flux\n",
    "    flux_multiplicative_factor2=0.45e-4 # factor such if it is multiplied to models it gives true data flux level"
   ]
  },
  {
   "cell_type": "code",
   "execution_count": 6,
   "id": "52673685",
   "metadata": {},
   "outputs": [
    {
     "name": "stderr",
     "output_type": "stream",
     "text": [
      "/tmp/ipykernel_3742/1342210473.py:14: DeprecationWarning: Calling np.sum(generator) is deprecated, and in the future will give a different result. Use np.sum(np.fromiter(generator)) or the python sum builtin instead.\n",
      "  numObjectsTraining = np.sum(1 for line in open(params['training_catFile']))\n"
     ]
    },
    {
     "name": "stdout",
     "output_type": "stream",
     "text": [
      "Number of Training Objects 3755\n"
     ]
    }
   ],
   "source": [
    "# Parse parameters file\n",
    "#if len(sys.argv) < 2:\n",
    "#    raise Exception('Please provide a parameter file')\n",
    "params = parseParamFile(configfilename, verbose=False)\n",
    "\n",
    "# Read filter coefficients, compute normalization of filters\n",
    "bandCoefAmplitudes, bandCoefPositions, bandCoefWidths, norms\\\n",
    "    = readBandCoefficients(params)\n",
    "numBands = bandCoefAmplitudes.shape[0]\n",
    "\n",
    "redshiftDistGrid, redshiftGrid, redshiftGridGP = createGrids(params)\n",
    "f_mod = readSEDs(params)\n",
    "\n",
    "numObjectsTraining = np.sum(1 for line in open(params['training_catFile']))\n",
    "print('Number of Training Objects', numObjectsTraining)\n",
    "\n",
    "gp = PhotozGP(f_mod, bandCoefAmplitudes, bandCoefPositions, bandCoefWidths,\n",
    "              params['lines_pos'], params['lines_width'],\n",
    "              params['V_C'], params['V_L'],\n",
    "              params['alpha_C'], params['alpha_L'],\n",
    "              redshiftGridGP, use_interpolators=True)\n",
    "\n",
    "numZ = redshiftGrid.size\n",
    "all_z = np.zeros((numObjectsTraining, ))\n",
    "all_fluxes = np.zeros((numObjectsTraining, numBands))\n",
    "all_fluxes_var = np.zeros((numObjectsTraining, numBands))\n",
    "bestTypes = np.zeros((numObjectsTraining, ), dtype=int)\n",
    "model_mean = np.zeros((numZ, numObjectsTraining, numBands))\n",
    "model_covar = np.zeros((numZ, numObjectsTraining, numBands))\n",
    "bandIndices_TRN, bandNames_TRN, bandColumns_TRN,\\\n",
    "    bandVarColumns_TRN, redshiftColumn_TRN,\\\n",
    "    refBandColumn_TRN = readColumnPositions(params, prefix='training_')\n",
    "bandIndices, bandNames, bandColumns,\\\n",
    "    bandVarColumns, redshiftColumn,\\\n",
    "    refBandColumn = readColumnPositions(params, prefix='target_')\n",
    "bandNames = params['bandNames']\n",
    "Ncompress = params['Ncompress']\n",
    "\n",
    "\n",
    "dir_seds = params['templates_directory']\n",
    "dir_filters = params['bands_directory']\n",
    "lambdaRef = params['lambdaRef']\n",
    "sed_names = params['templates_names']\n",
    "f_mod = np.zeros((redshiftGrid.size, len(sed_names),\n",
    "                  len(params['bandNames'])))\n",
    "for t, sed_name in enumerate(sed_names):\n",
    "    f_mod[:, t, :] = np.loadtxt(dir_seds + '/' + sed_name +\n",
    "                                '_fluxredshiftmod.txt')"
   ]
  },
  {
   "cell_type": "code",
   "execution_count": 7,
   "id": "0d0085e6",
   "metadata": {},
   "outputs": [
    {
     "name": "stdout",
     "output_type": "stream",
     "text": [
      "[0 1 2 3 4 5] ['DC2LSST_u', 'DC2LSST_g', 'DC2LSST_r', 'DC2LSST_i', 'DC2LSST_z', 'DC2LSST_y']\n"
     ]
    }
   ],
   "source": [
    "print(bandIndices, bandNames)"
   ]
  },
  {
   "cell_type": "code",
   "execution_count": 8,
   "id": "215017f6",
   "metadata": {},
   "outputs": [
    {
     "ename": "AttributeError",
     "evalue": "'PhotozGP' object has no attribute 'drawSED'",
     "output_type": "error",
     "traceback": [
      "\u001b[0;31m---------------------------------------------------------------------------\u001b[0m",
      "\u001b[0;31mAttributeError\u001b[0m                            Traceback (most recent call last)",
      "\u001b[0;32m/tmp/ipykernel_3742/1031146639.py\u001b[0m in \u001b[0;36m<module>\u001b[0;34m\u001b[0m\n\u001b[1;32m     51\u001b[0m                             \u001b[0myerr\u001b[0m\u001b[0;34m=\u001b[0m\u001b[0mnp\u001b[0m\u001b[0;34m.\u001b[0m\u001b[0msqrt\u001b[0m\u001b[0;34m(\u001b[0m\u001b[0mYvar\u001b[0m\u001b[0;34m[\u001b[0m\u001b[0mi\u001b[0m\u001b[0;34m,\u001b[0m \u001b[0;36m0\u001b[0m\u001b[0;34m]\u001b[0m\u001b[0;34m)\u001b[0m\u001b[0;34m,\u001b[0m \u001b[0mxerr\u001b[0m\u001b[0;34m=\u001b[0m\u001b[0;36m1.5\u001b[0m\u001b[0;34m*\u001b[0m\u001b[0mfilterStdWav\u001b[0m\u001b[0;34m[\u001b[0m\u001b[0mi\u001b[0m\u001b[0;34m]\u001b[0m\u001b[0;34m,\u001b[0m\u001b[0;34m\u001b[0m\u001b[0;34m\u001b[0m\u001b[0m\n\u001b[1;32m     52\u001b[0m                             fmt='-o', markersize=5, color='k', lw=2)\n\u001b[0;32m---> 53\u001b[0;31m         \u001b[0msed\u001b[0m\u001b[0;34m,\u001b[0m \u001b[0mfac\u001b[0m\u001b[0;34m,\u001b[0m \u001b[0mcov\u001b[0m\u001b[0;34m,\u001b[0m \u001b[0mfilters\u001b[0m \u001b[0;34m=\u001b[0m \u001b[0mgp\u001b[0m\u001b[0;34m.\u001b[0m\u001b[0mdrawSED\u001b[0m\u001b[0;34m(\u001b[0m\u001b[0mz\u001b[0m\u001b[0;34m,\u001b[0m \u001b[0mell\u001b[0m\u001b[0;34m,\u001b[0m \u001b[0mwavs\u001b[0m\u001b[0;34m)\u001b[0m\u001b[0;34m\u001b[0m\u001b[0;34m\u001b[0m\u001b[0m\n\u001b[0m\u001b[1;32m     54\u001b[0m         \u001b[0msed\u001b[0m \u001b[0;34m=\u001b[0m \u001b[0mnp\u001b[0m\u001b[0;34m.\u001b[0m\u001b[0minterp\u001b[0m\u001b[0;34m(\u001b[0m\u001b[0mwavs\u001b[0m\u001b[0;34m,\u001b[0m \u001b[0mfilterMidWav\u001b[0m\u001b[0;34m[\u001b[0m\u001b[0;34m:\u001b[0m\u001b[0;34m]\u001b[0m\u001b[0;34m,\u001b[0m \u001b[0mY\u001b[0m\u001b[0;34m[\u001b[0m\u001b[0;34m:\u001b[0m\u001b[0;34m,\u001b[0m \u001b[0;36m0\u001b[0m\u001b[0;34m]\u001b[0m\u001b[0;34m)\u001b[0m\u001b[0;34m\u001b[0m\u001b[0;34m\u001b[0m\u001b[0m\n\u001b[1;32m     55\u001b[0m         \u001b[0msedfluxes\u001b[0m \u001b[0;34m=\u001b[0m \u001b[0mnp\u001b[0m\u001b[0;34m.\u001b[0m\u001b[0mzeros\u001b[0m\u001b[0;34m(\u001b[0m\u001b[0;34m(\u001b[0m\u001b[0mbandIndices_TRN\u001b[0m\u001b[0;34m.\u001b[0m\u001b[0msize\u001b[0m\u001b[0;34m,\u001b[0m \u001b[0;34m)\u001b[0m\u001b[0;34m)\u001b[0m\u001b[0;34m\u001b[0m\u001b[0;34m\u001b[0m\u001b[0m\n",
      "\u001b[0;31mAttributeError\u001b[0m: 'PhotozGP' object has no attribute 'drawSED'"
     ]
    },
    {
     "data": {
      "image/png": "[encoded data removed]",
      "text/plain": [
       "<Figure size 576x432 with 2 Axes>"
      ]
     },
     "metadata": {
      "needs_background": "light"
     },
     "output_type": "display_data"
    }
   ],
   "source": [
    "loc = - 1\n",
    "trainingDataIter = getDataFromFile(params, 0, numObjectsTraining,\n",
    "                                   prefix=\"training_\", getXY=True)\n",
    "targetDataIter = getDataFromFile(params, 0, numObjectsTraining,\n",
    "                                 prefix=\"target_\", getXY=False)\n",
    "for z, normedRefFlux, bands, fluxes, fluxesVar, bCV, fCV, fvCV, X, Y, Yvar\\\n",
    "        in trainingDataIter:\n",
    "    loc += 1\n",
    "\n",
    "    themod = np.zeros((1, f_mod.shape[1], bands.size))\n",
    "    for it in range(f_mod.shape[1]):\n",
    "        for ib, band in enumerate(bands):\n",
    "            themod[0, it, ib] = np.interp(z, redshiftGrid, f_mod[:, it, band])\n",
    "    chi2_grid , ellMLs= scalefree_flux_likelihood(\n",
    "        fluxes,\n",
    "        fluxesVar,\n",
    "        themod,\n",
    "        returnChi2=True\n",
    "    )\n",
    "    bestTypes[loc] = np.argmin(chi2_grid)\n",
    "    \n",
    "    \n",
    "    gp.setData(X, Y, Yvar, bestTypes[loc])\n",
    "\n",
    "    ell = gp.X[0, 2]\n",
    "    model_mean[:, loc, :], model_covar[:, loc, :]\\\n",
    "        = gp.predictAndInterpolate(redshiftGrid, ell=ell, z=z)\n",
    "    all_z[loc] = z\n",
    "    all_fluxes[loc, bands] = fluxes\n",
    "    all_fluxes_var[loc, bands] = fluxesVar\n",
    "\n",
    "    if True:\n",
    "        wavs = np.linspace(bandCoefPositions.min(),\n",
    "                           bandCoefPositions.max(), num=300)\n",
    "        fig, axs = plt.subplots(2, 1, figsize=(8, 6), sharex=True)\n",
    "        for mu in params['lines_pos']:\n",
    "            axs[0].axvline(mu*(1+z), c='gray', ls='dashed')\n",
    "        filterMidWav = 0*bandIndices_TRN\n",
    "        filterStdWav = 0*bandIndices_TRN\n",
    "        for i, ib in enumerate(bandIndices_TRN):\n",
    "            y = 0*wavs\n",
    "            for amp,     mu, sig in zip(bandCoefAmplitudes[ib, :],\n",
    "                                    bandCoefPositions[ib, :],\n",
    "                                    bandCoefWidths[ib, :]):\n",
    "                y += amp * np.exp(-0.5*((wavs-mu)/sig)**2)\n",
    "            filterMidWav[i] = np.average(wavs, weights=y)\n",
    "            filterStdWav[i] = np.sqrt(\n",
    "                np.average((wavs-filterMidWav[i])**2, weights=y))\n",
    "            axs[1].plot(wavs, y, c='k')\n",
    "            axs[0].errorbar(filterMidWav[i], Y[i, 0],\n",
    "                            yerr=np.sqrt(Yvar[i, 0]), xerr=1.5*filterStdWav[i],\n",
    "                            fmt='-o', markersize=5, color='k', lw=2)\n",
    "        sed, fac, cov, filters = gp.drawSED(z, ell, wavs)\n",
    "        sed = np.interp(wavs, filterMidWav[:], Y[:, 0])\n",
    "        sedfluxes = np.zeros((bandIndices_TRN.size, ))\n",
    "        for i, ib in enumerate(bandIndices_TRN):\n",
    "            sedfluxes[i] = np.trapz(filters[ib]*sed, x=wavs) /\\\n",
    "                np.trapz(filters[ib], x=wavs)\n",
    "        lp = np.sum(-0.5*(sedfluxes - fluxes)**2/fluxesVar)\n",
    "        numsamples = 200\n",
    "        seds = np.zeros((numsamples, wavs.size))\n",
    "        off = 0\n",
    "        for i in range(numsamples):\n",
    "            sed_p = 1*sed +\\\n",
    "                fac * np.random.multivariate_normal(0*wavs, cov/10**2)\n",
    "            for i, ib in enumerate(bandIndices_TRN):\n",
    "                sedfluxes[i] = np.trapz(filters[ib]*sed_p, x=wavs) /\\\n",
    "                    np.trapz(filters[ib], x=wavs)\n",
    "            lp_prime = np.sum(-0.5*(sedfluxes - fluxes)**2/fluxesVar)\n",
    "            if np.random.rand() <= np.exp(lp_prime - lp):\n",
    "                sed = 1*sed_p\n",
    "                seds[off, :] = sed_p\n",
    "                off += 1\n",
    "                lp = 1*lp_prime\n",
    "        print(\"Number of accepted samples:\", off)\n",
    "        sedmean, sedstd = seds[:off, :].mean(axis=0), seds[:off, :].std(axis=0)\n",
    "        axs[0].plot(wavs, sedmean, c='b')\n",
    "        axs[0].fill_between(wavs, sedmean+sedstd, sedmean-sedstd,\n",
    "                            color='b', alpha=0.2)\n",
    "        for i in np.random.choice(off, 2, replace=False):\n",
    "            axs[0].plot(wavs, seds[i, :], c='k', alpha=0.3)\n",
    "        axs[0].set_ylabel('Flux')\n",
    "        axs[1].set_ylabel('Filters')\n",
    "        axs[1].set_xlabel('Wavelength')\n",
    "        # axs[0].set_yscale('log')\n",
    "        axs[1].set_xlim([wavs[0], wavs[-1]])\n",
    "        axs[1].set_ylim([0, 1.1*np.max(filters)])\n",
    "        axs[1].set_yticks([])\n",
    "        fig.tight_layout()\n",
    "        fig.savefig('data/data-sed-'+str(loc)+'.png')\n",
    "\n"
   ]
  },
  {
   "cell_type": "code",
   "execution_count": 9,
   "id": "c25874c3",
   "metadata": {},
   "outputs": [
    {
     "ename": "FileNotFoundError",
     "evalue": "[Errno 2] No such file or directory: 'data/data-pdfs-1.pdf'",
     "output_type": "error",
     "traceback": [
      "\u001b[0;31m---------------------------------------------------------------------------\u001b[0m",
      "\u001b[0;31mFileNotFoundError\u001b[0m                         Traceback (most recent call last)",
      "\u001b[0;32m/tmp/ipykernel_3742/1675411409.py\u001b[0m in \u001b[0;36m<module>\u001b[0;34m\u001b[0m\n\u001b[1;32m     61\u001b[0m             \u001b[0;31m# ax.set_yscale('log')\u001b[0m\u001b[0;34m\u001b[0m\u001b[0;34m\u001b[0m\u001b[0m\n\u001b[1;32m     62\u001b[0m             \u001b[0mfig\u001b[0m\u001b[0;34m.\u001b[0m\u001b[0mtight_layout\u001b[0m\u001b[0;34m(\u001b[0m\u001b[0;34m)\u001b[0m\u001b[0;34m\u001b[0m\u001b[0;34m\u001b[0m\u001b[0m\n\u001b[0;32m---> 63\u001b[0;31m             \u001b[0mfig\u001b[0m\u001b[0;34m.\u001b[0m\u001b[0msavefig\u001b[0m\u001b[0;34m(\u001b[0m\u001b[0;34m'data/data-pdfs-'\u001b[0m\u001b[0;34m+\u001b[0m\u001b[0mstr\u001b[0m\u001b[0;34m(\u001b[0m\u001b[0mloc\u001b[0m\u001b[0;34m)\u001b[0m\u001b[0;34m+\u001b[0m\u001b[0;34m'.pdf'\u001b[0m\u001b[0;34m)\u001b[0m\u001b[0;34m\u001b[0m\u001b[0;34m\u001b[0m\u001b[0m\n\u001b[0m\u001b[1;32m     64\u001b[0m \u001b[0;34m\u001b[0m\u001b[0m\n\u001b[1;32m     65\u001b[0m             \u001b[0;32mif\u001b[0m \u001b[0;32mTrue\u001b[0m\u001b[0;34m:\u001b[0m\u001b[0;34m\u001b[0m\u001b[0;34m\u001b[0m\u001b[0m\n",
      "\u001b[0;32m~/anaconda3/lib/python3.9/site-packages/matplotlib/figure.py\u001b[0m in \u001b[0;36msavefig\u001b[0;34m(self, fname, transparent, **kwargs)\u001b[0m\n\u001b[1;32m   3013\u001b[0m                 \u001b[0mpatch\u001b[0m\u001b[0;34m.\u001b[0m\u001b[0mset_edgecolor\u001b[0m\u001b[0;34m(\u001b[0m\u001b[0;34m'none'\u001b[0m\u001b[0;34m)\u001b[0m\u001b[0;34m\u001b[0m\u001b[0;34m\u001b[0m\u001b[0m\n\u001b[1;32m   3014\u001b[0m \u001b[0;34m\u001b[0m\u001b[0m\n\u001b[0;32m-> 3015\u001b[0;31m         \u001b[0mself\u001b[0m\u001b[0;34m.\u001b[0m\u001b[0mcanvas\u001b[0m\u001b[0;34m.\u001b[0m\u001b[0mprint_figure\u001b[0m\u001b[0;34m(\u001b[0m\u001b[0mfname\u001b[0m\u001b[0;34m,\u001b[0m \u001b[0;34m**\u001b[0m\u001b[0mkwargs\u001b[0m\u001b[0;34m)\u001b[0m\u001b[0;34m\u001b[0m\u001b[0;34m\u001b[0m\u001b[0m\n\u001b[0m\u001b[1;32m   3016\u001b[0m \u001b[0;34m\u001b[0m\u001b[0m\n\u001b[1;32m   3017\u001b[0m         \u001b[0;32mif\u001b[0m \u001b[0mtransparent\u001b[0m\u001b[0;34m:\u001b[0m\u001b[0;34m\u001b[0m\u001b[0;34m\u001b[0m\u001b[0m\n",
      "\u001b[0;32m~/anaconda3/lib/python3.9/site-packages/matplotlib/backend_bases.py\u001b[0m in \u001b[0;36mprint_figure\u001b[0;34m(self, filename, dpi, facecolor, edgecolor, orientation, format, bbox_inches, pad_inches, bbox_extra_artists, backend, **kwargs)\u001b[0m\n\u001b[1;32m   2253\u001b[0m                 \u001b[0;31m# force the figure dpi to 72), so we need to set it again here.\u001b[0m\u001b[0;34m\u001b[0m\u001b[0;34m\u001b[0m\u001b[0m\n\u001b[1;32m   2254\u001b[0m                 \u001b[0;32mwith\u001b[0m \u001b[0mcbook\u001b[0m\u001b[0;34m.\u001b[0m\u001b[0m_setattr_cm\u001b[0m\u001b[0;34m(\u001b[0m\u001b[0mself\u001b[0m\u001b[0;34m.\u001b[0m\u001b[0mfigure\u001b[0m\u001b[0;34m,\u001b[0m \u001b[0mdpi\u001b[0m\u001b[0;34m=\u001b[0m\u001b[0mdpi\u001b[0m\u001b[0;34m)\u001b[0m\u001b[0;34m:\u001b[0m\u001b[0;34m\u001b[0m\u001b[0;34m\u001b[0m\u001b[0m\n\u001b[0;32m-> 2255\u001b[0;31m                     result = print_method(\n\u001b[0m\u001b[1;32m   2256\u001b[0m                         \u001b[0mfilename\u001b[0m\u001b[0;34m,\u001b[0m\u001b[0;34m\u001b[0m\u001b[0;34m\u001b[0m\u001b[0m\n\u001b[1;32m   2257\u001b[0m                         \u001b[0mfacecolor\u001b[0m\u001b[0;34m=\u001b[0m\u001b[0mfacecolor\u001b[0m\u001b[0;34m,\u001b[0m\u001b[0;34m\u001b[0m\u001b[0;34m\u001b[0m\u001b[0m\n",
      "\u001b[0;32m~/anaconda3/lib/python3.9/site-packages/matplotlib/backend_bases.py\u001b[0m in \u001b[0;36mwrapper\u001b[0;34m(*args, **kwargs)\u001b[0m\n\u001b[1;32m   1667\u001b[0m             \u001b[0mkwargs\u001b[0m\u001b[0;34m.\u001b[0m\u001b[0mpop\u001b[0m\u001b[0;34m(\u001b[0m\u001b[0marg\u001b[0m\u001b[0;34m)\u001b[0m\u001b[0;34m\u001b[0m\u001b[0;34m\u001b[0m\u001b[0m\n\u001b[1;32m   1668\u001b[0m \u001b[0;34m\u001b[0m\u001b[0m\n\u001b[0;32m-> 1669\u001b[0;31m         \u001b[0;32mreturn\u001b[0m \u001b[0mfunc\u001b[0m\u001b[0;34m(\u001b[0m\u001b[0;34m*\u001b[0m\u001b[0margs\u001b[0m\u001b[0;34m,\u001b[0m \u001b[0;34m**\u001b[0m\u001b[0mkwargs\u001b[0m\u001b[0;34m)\u001b[0m\u001b[0;34m\u001b[0m\u001b[0;34m\u001b[0m\u001b[0m\n\u001b[0m\u001b[1;32m   1670\u001b[0m \u001b[0;34m\u001b[0m\u001b[0m\n\u001b[1;32m   1671\u001b[0m     \u001b[0;32mreturn\u001b[0m \u001b[0mwrapper\u001b[0m\u001b[0;34m\u001b[0m\u001b[0;34m\u001b[0m\u001b[0m\n",
      "\u001b[0;32m~/anaconda3/lib/python3.9/site-packages/matplotlib/_api/deprecation.py\u001b[0m in \u001b[0;36mwrapper\u001b[0;34m(*inner_args, **inner_kwargs)\u001b[0m\n\u001b[1;32m    429\u001b[0m                          \u001b[0;32melse\u001b[0m \u001b[0mdeprecation_addendum\u001b[0m\u001b[0;34m,\u001b[0m\u001b[0;34m\u001b[0m\u001b[0;34m\u001b[0m\u001b[0m\n\u001b[1;32m    430\u001b[0m                 **kwargs)\n\u001b[0;32m--> 431\u001b[0;31m         \u001b[0;32mreturn\u001b[0m \u001b[0mfunc\u001b[0m\u001b[0;34m(\u001b[0m\u001b[0;34m*\u001b[0m\u001b[0minner_args\u001b[0m\u001b[0;34m,\u001b[0m \u001b[0;34m**\u001b[0m\u001b[0minner_kwargs\u001b[0m\u001b[0;34m)\u001b[0m\u001b[0;34m\u001b[0m\u001b[0;34m\u001b[0m\u001b[0m\n\u001b[0m\u001b[1;32m    432\u001b[0m \u001b[0;34m\u001b[0m\u001b[0m\n\u001b[1;32m    433\u001b[0m     \u001b[0;32mreturn\u001b[0m \u001b[0mwrapper\u001b[0m\u001b[0;34m\u001b[0m\u001b[0;34m\u001b[0m\u001b[0m\n",
      "\u001b[0;32m~/anaconda3/lib/python3.9/site-packages/matplotlib/backends/backend_pdf.py\u001b[0m in \u001b[0;36mprint_pdf\u001b[0;34m(self, filename, dpi, bbox_inches_restore, metadata)\u001b[0m\n\u001b[1;32m   2716\u001b[0m             \u001b[0mfile\u001b[0m \u001b[0;34m=\u001b[0m \u001b[0mfilename\u001b[0m\u001b[0;34m.\u001b[0m\u001b[0m_file\u001b[0m\u001b[0;34m\u001b[0m\u001b[0;34m\u001b[0m\u001b[0m\n\u001b[1;32m   2717\u001b[0m         \u001b[0;32melse\u001b[0m\u001b[0;34m:\u001b[0m\u001b[0;34m\u001b[0m\u001b[0;34m\u001b[0m\u001b[0m\n\u001b[0;32m-> 2718\u001b[0;31m             \u001b[0mfile\u001b[0m \u001b[0;34m=\u001b[0m \u001b[0mPdfFile\u001b[0m\u001b[0;34m(\u001b[0m\u001b[0mfilename\u001b[0m\u001b[0;34m,\u001b[0m \u001b[0mmetadata\u001b[0m\u001b[0;34m=\u001b[0m\u001b[0mmetadata\u001b[0m\u001b[0;34m)\u001b[0m\u001b[0;34m\u001b[0m\u001b[0;34m\u001b[0m\u001b[0m\n\u001b[0m\u001b[1;32m   2719\u001b[0m         \u001b[0;32mtry\u001b[0m\u001b[0;34m:\u001b[0m\u001b[0;34m\u001b[0m\u001b[0;34m\u001b[0m\u001b[0m\n\u001b[1;32m   2720\u001b[0m             \u001b[0mfile\u001b[0m\u001b[0;34m.\u001b[0m\u001b[0mnewPage\u001b[0m\u001b[0;34m(\u001b[0m\u001b[0mwidth\u001b[0m\u001b[0;34m,\u001b[0m \u001b[0mheight\u001b[0m\u001b[0;34m)\u001b[0m\u001b[0;34m\u001b[0m\u001b[0;34m\u001b[0m\u001b[0m\n",
      "\u001b[0;32m~/anaconda3/lib/python3.9/site-packages/matplotlib/backends/backend_pdf.py\u001b[0m in \u001b[0;36m__init__\u001b[0;34m(self, filename, metadata)\u001b[0m\n\u001b[1;32m    635\u001b[0m         \u001b[0mself\u001b[0m\u001b[0;34m.\u001b[0m\u001b[0moriginal_file_like\u001b[0m \u001b[0;34m=\u001b[0m \u001b[0;32mNone\u001b[0m\u001b[0;34m\u001b[0m\u001b[0;34m\u001b[0m\u001b[0m\n\u001b[1;32m    636\u001b[0m         \u001b[0mself\u001b[0m\u001b[0;34m.\u001b[0m\u001b[0mtell_base\u001b[0m \u001b[0;34m=\u001b[0m \u001b[0;36m0\u001b[0m\u001b[0;34m\u001b[0m\u001b[0;34m\u001b[0m\u001b[0m\n\u001b[0;32m--> 637\u001b[0;31m         \u001b[0mfh\u001b[0m\u001b[0;34m,\u001b[0m \u001b[0mopened\u001b[0m \u001b[0;34m=\u001b[0m \u001b[0mcbook\u001b[0m\u001b[0;34m.\u001b[0m\u001b[0mto_filehandle\u001b[0m\u001b[0;34m(\u001b[0m\u001b[0mfilename\u001b[0m\u001b[0;34m,\u001b[0m \u001b[0;34m\"wb\"\u001b[0m\u001b[0;34m,\u001b[0m \u001b[0mreturn_opened\u001b[0m\u001b[0;34m=\u001b[0m\u001b[0;32mTrue\u001b[0m\u001b[0;34m)\u001b[0m\u001b[0;34m\u001b[0m\u001b[0;34m\u001b[0m\u001b[0m\n\u001b[0m\u001b[1;32m    638\u001b[0m         \u001b[0;32mif\u001b[0m \u001b[0;32mnot\u001b[0m \u001b[0mopened\u001b[0m\u001b[0;34m:\u001b[0m\u001b[0;34m\u001b[0m\u001b[0;34m\u001b[0m\u001b[0m\n\u001b[1;32m    639\u001b[0m             \u001b[0;32mtry\u001b[0m\u001b[0;34m:\u001b[0m\u001b[0;34m\u001b[0m\u001b[0;34m\u001b[0m\u001b[0m\n",
      "\u001b[0;32m~/anaconda3/lib/python3.9/site-packages/matplotlib/cbook/__init__.py\u001b[0m in \u001b[0;36mto_filehandle\u001b[0;34m(fname, flag, return_opened, encoding)\u001b[0m\n\u001b[1;32m    460\u001b[0m             \u001b[0mfh\u001b[0m \u001b[0;34m=\u001b[0m \u001b[0mbz2\u001b[0m\u001b[0;34m.\u001b[0m\u001b[0mBZ2File\u001b[0m\u001b[0;34m(\u001b[0m\u001b[0mfname\u001b[0m\u001b[0;34m,\u001b[0m \u001b[0mflag\u001b[0m\u001b[0;34m)\u001b[0m\u001b[0;34m\u001b[0m\u001b[0;34m\u001b[0m\u001b[0m\n\u001b[1;32m    461\u001b[0m         \u001b[0;32melse\u001b[0m\u001b[0;34m:\u001b[0m\u001b[0;34m\u001b[0m\u001b[0;34m\u001b[0m\u001b[0m\n\u001b[0;32m--> 462\u001b[0;31m             \u001b[0mfh\u001b[0m \u001b[0;34m=\u001b[0m \u001b[0mopen\u001b[0m\u001b[0;34m(\u001b[0m\u001b[0mfname\u001b[0m\u001b[0;34m,\u001b[0m \u001b[0mflag\u001b[0m\u001b[0;34m,\u001b[0m \u001b[0mencoding\u001b[0m\u001b[0;34m=\u001b[0m\u001b[0mencoding\u001b[0m\u001b[0;34m)\u001b[0m\u001b[0;34m\u001b[0m\u001b[0;34m\u001b[0m\u001b[0m\n\u001b[0m\u001b[1;32m    463\u001b[0m         \u001b[0mopened\u001b[0m \u001b[0;34m=\u001b[0m \u001b[0;32mTrue\u001b[0m\u001b[0;34m\u001b[0m\u001b[0;34m\u001b[0m\u001b[0m\n\u001b[1;32m    464\u001b[0m     \u001b[0;32melif\u001b[0m \u001b[0mhasattr\u001b[0m\u001b[0;34m(\u001b[0m\u001b[0mfname\u001b[0m\u001b[0;34m,\u001b[0m \u001b[0;34m'seek'\u001b[0m\u001b[0;34m)\u001b[0m\u001b[0;34m:\u001b[0m\u001b[0;34m\u001b[0m\u001b[0;34m\u001b[0m\u001b[0m\n",
      "\u001b[0;31mFileNotFoundError\u001b[0m: [Errno 2] No such file or directory: 'data/data-pdfs-1.pdf'"
     ]
    },
    {
     "data": {
      "image/png": "[encoded data removed]",
      "text/plain": [
       "<Figure size 504x288 with 1 Axes>"
      ]
     },
     "metadata": {
      "needs_background": "light"
     },
     "output_type": "display_data"
    }
   ],
   "source": [
    "p_t = params['p_t'][bestTypes][None, :]\n",
    "p_z_t = params['p_z_t'][bestTypes][None, :]\n",
    "\n",
    "prior = np.exp(-0.5*((redshiftGrid[:, None]-all_z[None, :]) /\n",
    "                     params['zPriorSigma'])**2)\n",
    "# prior[prior < 1e-6] = 0\n",
    "# prior *= p_t * redshiftGrid[:, None] *\n",
    "# np.exp(-0.5 * redshiftGrid[:, None]**2 / p_z_t) / p_z_t\n",
    "\n",
    "loc = -1\n",
    "for z, normedRefFlux, bands, fluxes, fluxesVar,\\\n",
    "        bCV, fCV, fvCV in targetDataIter:\n",
    "    loc += 1\n",
    "    fulllike_grid = approx_flux_likelihood(\n",
    "        fluxes,\n",
    "        fluxesVar,\n",
    "        model_mean[:, :, bands],\n",
    "        f_mod_covar=model_covar[:, :, bands],\n",
    "        marginalizeEll=True,\n",
    "        ell_hat=1, ell_var=params['ellPriorSigma']**2\n",
    "    )\n",
    "    fulllike_grid *= prior\n",
    "    evidences = np.trapz(fulllike_grid, x=redshiftGrid, axis=0)\n",
    "    sortind = np.argsort(evidences)[::-1][0:Ncompress]\n",
    "    like_grid = fulllike_grid.sum(axis=1)\n",
    "    like_grid_comp = fulllike_grid[:, sortind].sum(axis=1)\n",
    "    alllike_grid_cww = approx_flux_likelihood(\n",
    "        fluxes,\n",
    "        fluxesVar,\n",
    "        f_mod[:, :, bands],\n",
    "        marginalizeEll=True\n",
    "    )\n",
    "    besttype = np.argmax(alllike_grid_cww.sum(axis=0))\n",
    "    like_grid_cww = alllike_grid_cww.sum(axis=1)  # [:, besttype]\n",
    "    if like_grid.sum() > 0:\n",
    "        zphotmean = np.average(redshiftGrid, weights=like_grid)\n",
    "        if zphotmean > 0.0 and zphotmean < 2.5 and z < 2.8:\n",
    "\n",
    "            fig, ax = plt.subplots(1, 1, figsize=(7, 4))\n",
    "            for ii in sortind:\n",
    "                ax.plot(redshiftGrid, fulllike_grid[:, ii], c='gray', alpha=.6)\n",
    "            ax.plot(redshiftGrid, like_grid, c='k', lw=2, label='GP')\n",
    "            like_grid_cww = like_grid_cww * np.max(like_grid) /\\\n",
    "                np.max(like_grid_cww)\n",
    "            ax.plot(redshiftGrid, like_grid_cww,\n",
    "                    c='blue', lw=2, label='CWW')\n",
    "            ax.plot(redshiftGrid, like_grid_comp,\n",
    "                    c='r', ls='dashed', label='Compressed GP')\n",
    "            ax.axvline(z, c='orange', lw=2, ls='dashed', label='True redshift')\n",
    "\n",
    "            # ax.axvline(zphotmean, c='r', lw=2)\n",
    "            ax.set_ylabel('Likelihood')\n",
    "            ax.set_xlabel('Redshift')\n",
    "            ax.set_xlim([0, 2.])  # redshiftGrid[-1]])\n",
    "            ylimax = 1.3*np.max(np.concatenate((like_grid, like_grid_cww)))\n",
    "            ax.set_ylim([0, ylimax])\n",
    "            for ii in sortind:\n",
    "                ax.scatter(all_z[ii], ylimax*0.99, c='gray', marker='x', s=10)\n",
    "            ax.yaxis.set_major_formatter(FormatStrFormatter('%.2e'))\n",
    "            ax.legend(loc='upper right', frameon=False, ncol=2)\n",
    "            # ax.set_yscale('log')\n",
    "            fig.tight_layout()\n",
    "            fig.savefig('data/data-pdfs-'+str(loc)+'.pdf')\n",
    "\n",
    "            if True:\n",
    "                usedBands = list(np.unique(np.concatenate((\n",
    "                    bandIndices_TRN, bandIndices))))\n",
    "\n",
    "                fig, axs = plt.subplots(3, len(usedBands)//3 + 1,\n",
    "                                        figsize=(10, 5),\n",
    "                                        sharex=True, sharey=True)\n",
    "                axs = axs.ravel()\n",
    "                fac = redshiftGrid**2\n",
    "                ylims = [0.25*np.min(model_mean[2:-2, :, :] *\n",
    "                                     fac[2:-2, None, None]),\n",
    "                         2*np.max(model_mean[2:-2, :, :] *\n",
    "                                  fac[2:-2, None, None])]\n",
    "                for i, ib in enumerate(bands):\n",
    "                    pos = usedBands.index(ib)\n",
    "                    axs[pos].axvline(zphotmean, c='r', lw=2)\n",
    "                    axs[pos].axvline(z, c='k', lw=2)\n",
    "                    axs[pos].axhspan(fluxes[i] - np.sqrt(fluxesVar[i]),\n",
    "                                     fluxes[i] + np.sqrt(fluxesVar[i]),\n",
    "                                     color='k', alpha=0.4)\n",
    "                for i, ib in enumerate(usedBands):\n",
    "                    for t, sed_name in enumerate(sed_names):\n",
    "                        if t == besttype:\n",
    "                            fac = ell\n",
    "                            fac /= np.interp(z, redshiftGrid, f_mod[:, t, ib])\n",
    "                            axs[i].plot(redshiftGrid, f_mod[:, t, ib]*fac, 'k')\n",
    "                for ii in sortind:\n",
    "                    for i, ib in enumerate(bandIndices_TRN):\n",
    "                        if False and all_fluxes[ii, ib] > 0:\n",
    "                            pos = usedBands.index(ib)\n",
    "                            axs[pos].errorbar(all_z[ii], all_fluxes[ii, ib],\n",
    "                                              np.sqrt(all_fluxes_var[ii, ib]),\n",
    "                                              fmt='-o', markersize=5, alpha=.1)\n",
    "                    for i, ib in enumerate(usedBands):\n",
    "                        axs[i].set_title(bandNames[ib])\n",
    "                        axs[i].axvline(all_z[ii], c='gray', alpha=0.3)\n",
    "                        fac = ell /\\\n",
    "                            np.interp(z, redshiftGrid, model_mean[:, ii, ib])\n",
    "                        axs[i].fill_between(\n",
    "                            redshiftGrid,\n",
    "                            (model_mean[:, ii, ib] -\n",
    "                             np.sqrt(model_covar[:, ii, ib]))*fac,\n",
    "                            (model_mean[:, ii, ib] +\n",
    "                             np.sqrt(model_covar[:, ii, ib]))*fac,\n",
    "                            color='b', alpha=0.1)\n",
    "                        # axs[i].plot(redshiftGrid, model_mean[:, ii, ib],\n",
    "                        # c='b', alpha=0.1)\n",
    "                        axs[i].set_yscale('log')\n",
    "                        # axs[i].set_ylim(ylims)\n",
    "                        axs[i].set_xlim([redshiftGrid[0], redshiftGrid[-1]])\n",
    "\n",
    "                fig.tight_layout()\n",
    "                fig.savefig('data/data-fluxes-'+str(loc)+'.pdf')\n",
    "\n",
    "    if loc > 2050:\n",
    "        exit(1)\n"
   ]
  },
  {
   "cell_type": "code",
   "execution_count": null,
   "id": "9a55677c",
   "metadata": {},
   "outputs": [],
   "source": []
  }
 ],
 "metadata": {
  "kernelspec": {
   "display_name": "Python 3 (ipykernel)",
   "language": "python",
   "name": "python3"
  },
  "language_info": {
   "codemirror_mode": {
    "name": "ipython",
    "version": 3
   },
   "file_extension": ".py",
   "mimetype": "text/x-python",
   "name": "python",
   "nbconvert_exporter": "python",
   "pygments_lexer": "ipython3",
   "version": "3.9.7"
  }
 },
 "nbformat": 4,
 "nbformat_minor": 5
}
