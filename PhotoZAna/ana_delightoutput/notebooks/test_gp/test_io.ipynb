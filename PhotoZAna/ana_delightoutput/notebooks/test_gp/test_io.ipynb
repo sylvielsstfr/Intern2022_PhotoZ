{
 "cells": [
  {
   "cell_type": "markdown",
   "id": "22449971",
   "metadata": {},
   "source": [
    "# Test IO"
   ]
  },
  {
   "cell_type": "code",
   "execution_count": 7,
   "id": "1304f845",
   "metadata": {},
   "outputs": [],
   "source": [
    "\n",
    "from delight.io import *\n",
    "\n",
    "paramFile = \"tests/parametersTest.cfg\"\n",
    "\n",
    "\n",
    "def test_Parser():\n",
    "    params = parseParamFile(paramFile, verbose=False)\n",
    "\n",
    "\n",
    "def test_createGrids():\n",
    "    params = parseParamFile(paramFile, verbose=False)\n",
    "    out = createGrids(params)\n",
    "\n",
    "\n",
    "def test_readBandCoefficients():\n",
    "    params = parseParamFile(paramFile, verbose=False)\n",
    "    out = readBandCoefficients(params)\n",
    "\n",
    "\n",
    "def test_readColumnPositions():\n",
    "    params = parseParamFile(paramFile, verbose=False)\n",
    "    out = readColumnPositions(params)\n"
   ]
  },
  {
   "cell_type": "code",
   "execution_count": 8,
   "id": "8e8e2761",
   "metadata": {},
   "outputs": [],
   "source": [
    "test_Parser()"
   ]
  },
  {
   "cell_type": "code",
   "execution_count": 9,
   "id": "d8acfa40",
   "metadata": {},
   "outputs": [],
   "source": [
    "test_createGrids()"
   ]
  },
  {
   "cell_type": "code",
   "execution_count": 10,
   "id": "0d161618",
   "metadata": {},
   "outputs": [],
   "source": [
    "test_readBandCoefficients()"
   ]
  },
  {
   "cell_type": "code",
   "execution_count": 11,
   "id": "bdde49a1",
   "metadata": {},
   "outputs": [],
   "source": [
    "test_readColumnPositions()"
   ]
  },
  {
   "cell_type": "code",
   "execution_count": null,
   "id": "a1fa4b9b",
   "metadata": {},
   "outputs": [],
   "source": []
  }
 ],
 "metadata": {
  "kernelspec": {
   "display_name": "anaconda3pbs",
   "language": "python",
   "name": "anaconda3_pbs"
  },
  "language_info": {
   "codemirror_mode": {
    "name": "ipython",
    "version": 3
   },
   "file_extension": ".py",
   "mimetype": "text/x-python",
   "name": "python",
   "nbconvert_exporter": "python",
   "pygments_lexer": "ipython3",
   "version": "3.8.8"
  }
 },
 "nbformat": 4,
 "nbformat_minor": 5
}
