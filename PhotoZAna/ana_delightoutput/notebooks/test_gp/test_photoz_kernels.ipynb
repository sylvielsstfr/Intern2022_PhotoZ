{
 "cells": [
  {
   "cell_type": "markdown",
   "id": "08c26cda",
   "metadata": {},
   "source": [
    "# Test routines from photoz_kernels.py"
   ]
  },
  {
   "cell_type": "code",
   "execution_count": null,
   "id": "061e6bc0",
   "metadata": {},
   "outputs": [],
   "source": []
  },
  {
   "cell_type": "code",
   "execution_count": 1,
   "id": "39dbc9d1",
   "metadata": {},
   "outputs": [],
   "source": [
    "import numpy as np\n",
    "from delight.utils import *\n",
    "from delight.photoz_kernels_cy import kernelparts, kernelparts_diag\n",
    "from delight.photoz_kernels import Photoz_mean_function, Photoz_kernel\n"
   ]
  },
  {
   "cell_type": "code",
   "execution_count": 2,
   "id": "1947a25d",
   "metadata": {},
   "outputs": [],
   "source": [
    "size = 5\n",
    "NREPEAT = 2\n",
    "numBands = 2\n",
    "numLines = 3\n",
    "numCoefs = 5\n",
    "relative_accuracy = 0.1"
   ]
  },
  {
   "cell_type": "code",
   "execution_count": 3,
   "id": "8a4dfa71",
   "metadata": {},
   "outputs": [],
   "source": [
    "def test_kernel():\n",
    "\n",
    "    for i in range(NREPEAT):\n",
    "        X = random_X_bzl(size, numBands=numBands)\n",
    "\n",
    "        fcoefs_amp, fcoefs_mu, fcoefs_sig \\\n",
    "            = random_filtercoefs(numBands, numCoefs)\n",
    "        lines_mu, lines_sig = random_linecoefs(numLines)\n",
    "        var_C, var_L, alpha_C, alpha_L, alpha_T = random_hyperparams()\n",
    "        print('Failed with params:', var_C, var_L, alpha_C, alpha_L, alpha_T)\n",
    "\n",
    "        gp = Photoz_kernel(fcoefs_amp, fcoefs_mu, fcoefs_sig,\n",
    "                           lines_mu, lines_sig, var_C, var_L,\n",
    "                           alpha_C, alpha_L, alpha_T,\n",
    "                           use_interpolators=True)"
   ]
  },
  {
   "cell_type": "code",
   "execution_count": 4,
   "id": "34b0a213",
   "metadata": {},
   "outputs": [
    {
     "name": "stdout",
     "output_type": "stream",
     "text": [
      "Failed with params: 1.3613884779012317 0.9863079393691663 954.1901235145456 23.14972853004565 1.6197413812831842\n",
      "Failed with params: 0.631957977922307 1.3277436700992964 432.4264127354628 496.4991558270597 0.9915995058291069\n"
     ]
    }
   ],
   "source": [
    " test_kernel()"
   ]
  },
  {
   "cell_type": "code",
   "execution_count": 7,
   "id": "9ddaa085",
   "metadata": {},
   "outputs": [],
   "source": [
    "def test_meanfunction():\n",
    "    \"\"\"\n",
    "    Other tests of the mean function\n",
    "    \"\"\"\n",
    "    fcoefs_amp, fcoefs_mu, fcoefs_sig \\\n",
    "        = random_filtercoefs(numBands, numCoefs)\n",
    "    for i in range(NREPEAT):\n",
    "        X = random_X_bzl(size, numBands=numBands)\n",
    "        bands, redshifts, luminosities = np.split(X, 3, axis=1)\n",
    "        bands = bands.astype(int)\n",
    "        mf = Photoz_mean_function(0.0, fcoefs_amp, fcoefs_mu, fcoefs_sig)\n",
    "        assert mf.f(X).shape == (size, 1)\n",
    "\n",
    "        f_mod = np.zeros((size, ))\n",
    "        oneplusz = 1 + redshifts\n",
    "        norms = np.sqrt(2*np.pi) * np.sum(fcoefs_amp * fcoefs_sig, axis=1)\n",
    "        for i in range(numCoefs):\n",
    "            amp, mu, sig = fcoefs_amp[bands, i],\\\n",
    "                           fcoefs_mu[bands, i],\\\n",
    "                           fcoefs_sig[bands, i]\n",
    "            for k in range(size):\n",
    "                ell = luminosities[k]\n",
    "                lambdaMin = mu[k] - 4*sig[k]\n",
    "                lambdaMax = mu[k] + 4*sig[k]\n",
    "                xf = np.linspace(lambdaMin, lambdaMax, num=200)\n",
    "                yf = amp[k] * np.exp(-0.5*((xf-mu[k])/sig[k])**2)\n",
    "                xfz = xf/oneplusz[k]\n",
    "                sed = ell * np.exp(-mf.alpha*(xfz-4.5e3))\n",
    "                fac = oneplusz[k] / mf.DL_z(redshifts[k])**2 / (4*np.pi)\n",
    "                f_mod[k] += mu[k] * np.trapz(sed*yf, x=xf) / norms[bands[k]] * fac\n",
    "\n",
    "        f_mod2 = mf.f(X).ravel()\n",
    "        assert np.allclose(f_mod, f_mod2, rtol=relative_accuracy)"
   ]
  },
  {
   "cell_type": "code",
   "execution_count": 8,
   "id": "42cfcc84",
   "metadata": {},
   "outputs": [
    {
     "ename": "ValueError",
     "evalue": "setting an array element with a sequence.",
     "output_type": "error",
     "traceback": [
      "\u001b[0;31m---------------------------------------------------------------------------\u001b[0m",
      "\u001b[0;31mTypeError\u001b[0m                                 Traceback (most recent call last)",
      "\u001b[0;31mTypeError\u001b[0m: only size-1 arrays can be converted to Python scalars",
      "\nThe above exception was the direct cause of the following exception:\n",
      "\u001b[0;31mValueError\u001b[0m                                Traceback (most recent call last)",
      "\u001b[0;32m<ipython-input-8-47adcd3ad4b8>\u001b[0m in \u001b[0;36m<module>\u001b[0;34m\u001b[0m\n\u001b[0;32m----> 1\u001b[0;31m \u001b[0mtest_meanfunction\u001b[0m\u001b[0;34m(\u001b[0m\u001b[0;34m)\u001b[0m\u001b[0;34m\u001b[0m\u001b[0;34m\u001b[0m\u001b[0m\n\u001b[0m",
      "\u001b[0;32m<ipython-input-7-87878a32cc1b>\u001b[0m in \u001b[0;36mtest_meanfunction\u001b[0;34m()\u001b[0m\n\u001b[1;32m     28\u001b[0m                 \u001b[0msed\u001b[0m \u001b[0;34m=\u001b[0m \u001b[0mell\u001b[0m \u001b[0;34m*\u001b[0m \u001b[0mnp\u001b[0m\u001b[0;34m.\u001b[0m\u001b[0mexp\u001b[0m\u001b[0;34m(\u001b[0m\u001b[0;34m-\u001b[0m\u001b[0mmf\u001b[0m\u001b[0;34m.\u001b[0m\u001b[0malpha\u001b[0m\u001b[0;34m*\u001b[0m\u001b[0;34m(\u001b[0m\u001b[0mxfz\u001b[0m\u001b[0;34m-\u001b[0m\u001b[0;36m4.5e3\u001b[0m\u001b[0;34m)\u001b[0m\u001b[0;34m)\u001b[0m\u001b[0;34m\u001b[0m\u001b[0;34m\u001b[0m\u001b[0m\n\u001b[1;32m     29\u001b[0m                 \u001b[0mfac\u001b[0m \u001b[0;34m=\u001b[0m \u001b[0moneplusz\u001b[0m\u001b[0;34m[\u001b[0m\u001b[0mk\u001b[0m\u001b[0;34m]\u001b[0m \u001b[0;34m/\u001b[0m \u001b[0mmf\u001b[0m\u001b[0;34m.\u001b[0m\u001b[0mDL_z\u001b[0m\u001b[0;34m(\u001b[0m\u001b[0mredshifts\u001b[0m\u001b[0;34m[\u001b[0m\u001b[0mk\u001b[0m\u001b[0;34m]\u001b[0m\u001b[0;34m)\u001b[0m\u001b[0;34m**\u001b[0m\u001b[0;36m2\u001b[0m \u001b[0;34m/\u001b[0m \u001b[0;34m(\u001b[0m\u001b[0;36m4\u001b[0m\u001b[0;34m*\u001b[0m\u001b[0mnp\u001b[0m\u001b[0;34m.\u001b[0m\u001b[0mpi\u001b[0m\u001b[0;34m)\u001b[0m\u001b[0;34m\u001b[0m\u001b[0;34m\u001b[0m\u001b[0m\n\u001b[0;32m---> 30\u001b[0;31m                 \u001b[0mf_mod\u001b[0m\u001b[0;34m[\u001b[0m\u001b[0mk\u001b[0m\u001b[0;34m]\u001b[0m \u001b[0;34m+=\u001b[0m \u001b[0mmu\u001b[0m\u001b[0;34m[\u001b[0m\u001b[0mk\u001b[0m\u001b[0;34m]\u001b[0m \u001b[0;34m*\u001b[0m \u001b[0mnp\u001b[0m\u001b[0;34m.\u001b[0m\u001b[0mtrapz\u001b[0m\u001b[0;34m(\u001b[0m\u001b[0msed\u001b[0m\u001b[0;34m*\u001b[0m\u001b[0myf\u001b[0m\u001b[0;34m,\u001b[0m \u001b[0mx\u001b[0m\u001b[0;34m=\u001b[0m\u001b[0mxf\u001b[0m\u001b[0;34m)\u001b[0m \u001b[0;34m/\u001b[0m \u001b[0mnorms\u001b[0m\u001b[0;34m[\u001b[0m\u001b[0mbands\u001b[0m\u001b[0;34m[\u001b[0m\u001b[0mk\u001b[0m\u001b[0;34m]\u001b[0m\u001b[0;34m]\u001b[0m \u001b[0;34m*\u001b[0m \u001b[0mfac\u001b[0m\u001b[0;34m\u001b[0m\u001b[0;34m\u001b[0m\u001b[0m\n\u001b[0m\u001b[1;32m     31\u001b[0m \u001b[0;34m\u001b[0m\u001b[0m\n\u001b[1;32m     32\u001b[0m         \u001b[0mf_mod2\u001b[0m \u001b[0;34m=\u001b[0m \u001b[0mmf\u001b[0m\u001b[0;34m.\u001b[0m\u001b[0mf\u001b[0m\u001b[0;34m(\u001b[0m\u001b[0mX\u001b[0m\u001b[0;34m)\u001b[0m\u001b[0;34m.\u001b[0m\u001b[0mravel\u001b[0m\u001b[0;34m(\u001b[0m\u001b[0;34m)\u001b[0m\u001b[0;34m\u001b[0m\u001b[0;34m\u001b[0m\u001b[0m\n",
      "\u001b[0;31mValueError\u001b[0m: setting an array element with a sequence."
     ]
    }
   ],
   "source": [
    "test_meanfunction()"
   ]
  },
  {
   "cell_type": "code",
   "execution_count": null,
   "id": "aa98d9cc",
   "metadata": {},
   "outputs": [],
   "source": [
    "def test_interpolation():\n",
    "\n",
    "    for i in range(NREPEAT):\n",
    "\n",
    "        fcoefs_amp, fcoefs_mu, fcoefs_sig \\\n",
    "            = random_filtercoefs(numBands, numCoefs)\n",
    "        lines_mu, lines_sig = random_linecoefs(numLines)\n",
    "        var_C, var_L, alpha_C, alpha_L, alpha_T = random_hyperparams()\n",
    "        norms = np.sqrt(2*np.pi) * np.sum(fcoefs_amp * fcoefs_sig, axis=1)\n",
    "        print('Failed with params:', var_C, var_L, alpha_C, alpha_L, alpha_T)\n",
    "\n",
    "        kern = Photoz_kernel(fcoefs_amp, fcoefs_mu, fcoefs_sig,\n",
    "                             lines_mu, lines_sig, var_C, var_L,\n",
    "                             alpha_C, alpha_L, alpha_T)\n",
    "\n",
    "        for j in range(numBands):\n",
    "\n",
    "            X = np.vstack((np.repeat(j, kern.nz),\n",
    "                           kern.redshiftGrid,\n",
    "                           np.repeat(1, kern.nz),\n",
    "                           np.repeat(0, kern.nz))).T\n",
    "            assert X.shape[0] == kern.nz\n",
    "            assert X.shape[1] == 4\n",
    "\n",
    "            Kfull = kern.K(X)\n",
    "            Kdiag = kern.Kdiag(X)\n",
    "            assert np.allclose(np.diag(Kfull), Kdiag, rtol=relative_accuracy)\n",
    "\n",
    "            b1 = kern.roundband(X[:, 0])\n",
    "            fz1 = (1. + X[:, 1])\n",
    "\n",
    "            kern.construct_interpolators()\n",
    "            kern.update_kernelparts(X)\n",
    "\n",
    "            ts = (kern.nz, kern.nz)\n",
    "            KC, KL = np.zeros(ts), np.zeros(ts)\n",
    "            D_alpha_C, D_alpha_L, D_alpha_z\\\n",
    "                = np.zeros(ts), np.zeros(ts), np.zeros(ts)\n",
    "            kernelparts(kern.nz, kern.nz, numCoefs, numLines,\n",
    "                        alpha_C, alpha_L,\n",
    "                        fcoefs_amp, fcoefs_mu, fcoefs_sig,\n",
    "                        lines_mu, lines_sig,\n",
    "                        norms, b1, fz1, b1, fz1,\n",
    "                        True, KL, KC,\n",
    "                        D_alpha_C, D_alpha_L, D_alpha_z)\n",
    "\n",
    "            assert np.allclose(KL, kern.KL, rtol=relative_accuracy)\n",
    "            assert np.allclose(KC, kern.KC, rtol=relative_accuracy)\n",
    "            assert np.allclose(D_alpha_C, kern.D_alpha_C,\n",
    "                               rtol=relative_accuracy)\n",
    "            assert np.allclose(D_alpha_L, kern.D_alpha_L,\n",
    "                               rtol=relative_accuracy)\n"
   ]
  },
  {
   "cell_type": "code",
   "execution_count": null,
   "id": "9879f909",
   "metadata": {},
   "outputs": [],
   "source": [
    "test_interpolation()"
   ]
  }
 ],
 "metadata": {
  "kernelspec": {
   "display_name": "anaconda3pbs",
   "language": "python",
   "name": "anaconda3_pbs"
  },
  "language_info": {
   "codemirror_mode": {
    "name": "ipython",
    "version": 3
   },
   "file_extension": ".py",
   "mimetype": "text/x-python",
   "name": "python",
   "nbconvert_exporter": "python",
   "pygments_lexer": "ipython3",
   "version": "3.8.8"
  }
 },
 "nbformat": 4,
 "nbformat_minor": 5
}
