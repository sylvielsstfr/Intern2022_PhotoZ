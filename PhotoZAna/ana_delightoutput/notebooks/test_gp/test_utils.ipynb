{
 "cells": [
  {
   "cell_type": "markdown",
   "id": "15ce76fe",
   "metadata": {},
   "source": [
    "# Test Utils"
   ]
  },
  {
   "cell_type": "code",
   "execution_count": 1,
   "id": "55926947",
   "metadata": {},
   "outputs": [],
   "source": [
    "from scipy.interpolate import interp2d\n",
    "from delight.utils import *\n",
    "from astropy.cosmology import FlatLambdaCDM\n",
    "from delight.utils import approx_flux_likelihood\n",
    "from delight.posteriors import gaussian, gaussian2d\n",
    "from delight.utils_cy import approx_flux_likelihood_cy\n",
    "from delight.utils_cy import find_positions, bilininterp_precomputedbins\n",
    "from time import time"
   ]
  },
  {
   "cell_type": "code",
   "execution_count": 2,
   "id": "277b1e97",
   "metadata": {},
   "outputs": [],
   "source": [
    "relative_accuracy = 0.05"
   ]
  },
  {
   "cell_type": "markdown",
   "id": "de09b7bd",
   "metadata": {},
   "source": [
    "# Luminosity Distance"
   ]
  },
  {
   "cell_type": "code",
   "execution_count": 3,
   "id": "16ef0d71",
   "metadata": {},
   "outputs": [],
   "source": [
    "def test_approx_DL():\n",
    "    for z in np.linspace(0.01, 4, num=10):\n",
    "        z = 2.\n",
    "        v1 = approx_DL()(z)\n",
    "        cosmo = FlatLambdaCDM(H0=70, Om0=0.3, Ob0=None)\n",
    "        v2 = cosmo.luminosity_distance(z).value\n",
    "        assert abs(v1/v2 - 1) < 0.01\n"
   ]
  },
  {
   "cell_type": "code",
   "execution_count": 10,
   "id": "5e622572",
   "metadata": {},
   "outputs": [],
   "source": [
    "test_approx_DL()"
   ]
  },
  {
   "cell_type": "markdown",
   "id": "bc4599c0",
   "metadata": {},
   "source": [
    "# X\n",
    "\n",
    "\n",
    "- each galaxy:\n",
    "\n",
    "- series of band number\n",
    "- redshift \n",
    "- luminosity factor"
   ]
  },
  {
   "cell_type": "code",
   "execution_count": 17,
   "id": "e059f849",
   "metadata": {},
   "outputs": [],
   "source": [
    "def test_random_X():\n",
    "    size = 10\n",
    "    X = random_X_bzl(size, numBands=5, redshiftMax=3.0)\n",
    "    assert X.shape == (size, 3)\n",
    "    return X\n"
   ]
  },
  {
   "cell_type": "code",
   "execution_count": 18,
   "id": "e707d25e",
   "metadata": {},
   "outputs": [],
   "source": [
    "my_X=test_random_X()"
   ]
  },
  {
   "cell_type": "code",
   "execution_count": 19,
   "id": "d233b626",
   "metadata": {},
   "outputs": [
    {
     "data": {
      "text/plain": [
       "array([[2.        , 2.61255729, 1.6659364 ],\n",
       "       [2.        , 0.84709004, 8.30901241],\n",
       "       [3.        , 1.63319522, 1.60018817],\n",
       "       [1.        , 1.85445865, 4.22032986],\n",
       "       [2.        , 2.67952122, 8.60220811],\n",
       "       [1.        , 1.1254082 , 1.60323513],\n",
       "       [0.        , 2.17401963, 3.75437558],\n",
       "       [2.        , 1.33965448, 9.85252369],\n",
       "       [0.        , 1.73222746, 8.07912821],\n",
       "       [3.        , 2.79667415, 3.77591693]])"
      ]
     },
     "execution_count": 19,
     "metadata": {},
     "output_type": "execute_result"
    }
   ],
   "source": [
    "my_X"
   ]
  },
  {
   "cell_type": "markdown",
   "id": "491d9263",
   "metadata": {},
   "source": [
    "# Flux likelihood"
   ]
  },
  {
   "cell_type": "code",
   "execution_count": 20,
   "id": "702a5158",
   "metadata": {},
   "outputs": [],
   "source": [
    "def test_full_fluxlikelihood():\n",
    "\n",
    "    nz, nt, nf = 100, 100, 5\n",
    "\n",
    "    for i in range(3):\n",
    "        f_obs = np.random.uniform(low=1, high=2, size=nf)\n",
    "        f_obs_var = np.random.uniform(low=.1, high=.2, size=nf)\n",
    "        f_mod = np.random.uniform(low=1, high=2, size=nz*nt*nf)\\\n",
    "            .reshape((nz, nt, nf))\n",
    "        f_mod_covar = np.random.uniform(low=.1, high=.2, size=nz*nt*nf)\\\n",
    "            .reshape((nz, nt, nf))\n",
    "        ell_hat, ell_var = np.ones((nz, )), 0.01*np.ones((nz, ))\n",
    "\n",
    "        t1 = time()\n",
    "        res1 = approx_flux_likelihood(f_obs, f_obs_var, f_mod, f_mod_covar=f_mod_covar,ell_hat=ell_hat, ell_var=ell_var)\n",
    "        t2 = time()\n",
    "        res2 = np.zeros_like(res1)\n",
    "        approx_flux_likelihood_cy(res2, nz, nt, nf,f_obs, f_obs_var, f_mod, f_mod_covar,ell_hat, ell_var)\n",
    "        t3 = time()\n",
    "        print(t2-t1, t3-t2)\n",
    "        np.allclose(res1, res2, rtol=relative_accuracy)"
   ]
  },
  {
   "cell_type": "code",
   "execution_count": 12,
   "id": "6383db06",
   "metadata": {},
   "outputs": [
    {
     "name": "stdout",
     "output_type": "stream",
     "text": [
      "0.11535930633544922 0.03470969200134277\n",
      "0.10862207412719727 0.016116857528686523\n",
      "0.08503580093383789 0.016093730926513672\n"
     ]
    }
   ],
   "source": [
    "test_full_fluxlikelihood()"
   ]
  },
  {
   "cell_type": "markdown",
   "id": "c26259ea",
   "metadata": {},
   "source": [
    "# Approximate Flux likelihood"
   ]
  },
  {
   "cell_type": "code",
   "execution_count": 6,
   "id": "58b6ffcf",
   "metadata": {},
   "outputs": [],
   "source": [
    "def test_flux_likelihood_approxscalemarg():\n",
    "\n",
    "    nz, nt, nf = 3, 2, 5\n",
    "    fluxes = np.random.uniform(low=1, high=2, size=nf)\n",
    "    fluxesVar = np.random.uniform(low=.1, high=.2, size=nf)\n",
    "    model_mean = np.random.uniform(low=1, high=2, size=nz*nt*nf)\\\n",
    "        .reshape((nz, nt, nf))\n",
    "    model_var = np.random.uniform(low=.1, high=.2, size=nz*nt*nf)\\\n",
    "        .reshape((nz, nt, nf))\n",
    "    model_covar = np.zeros((nz, nt, nf, nf))\n",
    "    for i in range(nz):\n",
    "        for j in range(nt):\n",
    "            model_covar[i, j, :, :] = np.diag(model_var[i, j, :])\n",
    "\n",
    "    ell, ell_var = 0, 0\n",
    "    like_grid1 = approx_flux_likelihood(\n",
    "        fluxes, fluxesVar,\n",
    "        model_mean,\n",
    "        f_mod_covar=0*model_var,\n",
    "        ell_hat=ell,\n",
    "        ell_var=ell_var,\n",
    "        normalized=False, marginalizeEll=True, renormalize=False\n",
    "    )\n",
    "    like_grid2, ells = scalefree_flux_likelihood(\n",
    "        fluxes, fluxesVar,\n",
    "        model_mean\n",
    "    )\n",
    "    relative_accuracy = 1e-2\n",
    "    np.allclose(like_grid1, like_grid2, rtol=relative_accuracy)"
   ]
  },
  {
   "cell_type": "code",
   "execution_count": 13,
   "id": "f7db53df",
   "metadata": {},
   "outputs": [],
   "source": [
    "test_flux_likelihood_approxscalemarg()"
   ]
  },
  {
   "cell_type": "code",
   "execution_count": 7,
   "id": "b5b4ff26",
   "metadata": {},
   "outputs": [],
   "source": [
    "def test_interp():\n",
    "\n",
    "    numBands, nobj = 3, 10\n",
    "    nz1, nz2 = 40, 50\n",
    "    grid1, grid2 = np.logspace(0., 1., nz1), np.linspace(1., 10., nz2)\n",
    "\n",
    "    v1s, v2s = np.random.uniform(1, 10, nobj), np.random.uniform(1, 10, nobj)\n",
    "    p1s = np.zeros((nobj, ), dtype=int)\n",
    "    find_positions(nobj, nz1, v1s, p1s, grid1)\n",
    "    p2s = np.zeros((nobj, ), dtype=int)\n",
    "    find_positions(nobj, nz2, v2s, p2s, grid2)\n",
    "\n",
    "    Kgrid = np.zeros((numBands, nz1, nz2))\n",
    "    for b in range(numBands):\n",
    "        Kgrid[b, :, :] = (grid1[:, None] * grid2[None, :])**(b+1.)\n",
    "\n",
    "    Kinterp = np.zeros((numBands, nobj))\n",
    "    bilininterp_precomputedbins(numBands, nobj, Kinterp, v1s, v2s, p1s, p2s,\n",
    "                                grid1, grid2, Kgrid)\n",
    "    Kinterp2 = np.zeros((numBands, nobj))\n",
    "\n",
    "    for b in range(numBands):\n",
    "        interp = interp2d(grid2, grid1, Kgrid[b, :, :])\n",
    "        for o in range(nobj):\n",
    "            Kinterp2[b, o] = interp(v1s[o], v2s[o])\n",
    "\n",
    "    np.allclose(Kinterp, Kinterp2, rtol=relative_accuracy)"
   ]
  },
  {
   "cell_type": "code",
   "execution_count": 14,
   "id": "23b1d171",
   "metadata": {},
   "outputs": [],
   "source": [
    "test_interp()"
   ]
  },
  {
   "cell_type": "code",
   "execution_count": 8,
   "id": "fca19ce7",
   "metadata": {},
   "outputs": [],
   "source": [
    "def test_correlatedgaussianfactorization():\n",
    "\n",
    "    mu_ell, mu_lnz, var_ell, var_lnz, rho = np.random.uniform(0, 1, 5)\n",
    "    rho *= np.sqrt(var_ell*var_lnz)\n",
    "\n",
    "    for i in range(10):\n",
    "        lnz, ell = np.random.uniform(-1, 2, 2)\n",
    "        mu_ell_prime = mu_ell + rho * (lnz - mu_lnz) / var_lnz\n",
    "        var_ell_prime = var_ell - rho**2 / var_lnz\n",
    "        val1 = gaussian(mu_ell_prime, ell, var_ell_prime**0.5)\n",
    "        val1 *= gaussian(mu_lnz, lnz, var_lnz**0.5)\n",
    "        val2 = gaussian2d(ell, lnz, mu_ell, mu_lnz, var_ell, var_lnz, rho)\n",
    "        assert np.abs(val1/val2) - 1 < 1e-12\n",
    "\n",
    "        rho = 0\n",
    "        val2 = gaussian2d(ell, lnz, mu_ell, mu_lnz, var_ell, var_lnz, rho)\n",
    "        val3 = gaussian(ell, mu_ell, var_ell**0.5) *\\\n",
    "            gaussian(lnz, mu_lnz, var_lnz**0.5)\n",
    "        assert np.abs(val2/val3) - 1 < 1e-12\n"
   ]
  },
  {
   "cell_type": "code",
   "execution_count": 15,
   "id": "8cd6d72f",
   "metadata": {},
   "outputs": [],
   "source": [
    "test_correlatedgaussianfactorization()"
   ]
  },
  {
   "cell_type": "code",
   "execution_count": null,
   "id": "13d89b78",
   "metadata": {},
   "outputs": [],
   "source": []
  }
 ],
 "metadata": {
  "kernelspec": {
   "display_name": "anaconda3pbs",
   "language": "python",
   "name": "anaconda3_pbs"
  },
  "language_info": {
   "codemirror_mode": {
    "name": "ipython",
    "version": 3
   },
   "file_extension": ".py",
   "mimetype": "text/x-python",
   "name": "python",
   "nbconvert_exporter": "python",
   "pygments_lexer": "ipython3",
   "version": "3.8.8"
  }
 },
 "nbformat": 4,
 "nbformat_minor": 5
}
