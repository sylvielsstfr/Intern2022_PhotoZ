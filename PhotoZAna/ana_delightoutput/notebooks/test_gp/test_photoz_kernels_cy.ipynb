{
 "cells": [
  {
   "cell_type": "markdown",
   "id": "ae710bbb",
   "metadata": {},
   "source": [
    "#  Test PhotoZ Kernels Cython"
   ]
  },
  {
   "cell_type": "code",
   "execution_count": 3,
   "id": "855c9be5",
   "metadata": {},
   "outputs": [],
   "source": [
    "import numpy as np\n",
    "from delight.utils import *\n",
    "from delight.photoz_kernels_cy import \\\n",
    "    kernelparts, kernelparts_diag, kernel_parts_interp\n",
    "from delight.utils_cy import find_positions\n"
   ]
  },
  {
   "cell_type": "code",
   "execution_count": 4,
   "id": "9f186f8e",
   "metadata": {},
   "outputs": [],
   "source": [
    "size = 50\n",
    "nz = 150\n",
    "numBands = 2\n",
    "numLines = 5\n",
    "numCoefs = 10\n",
    "relative_accuracy = 0.1"
   ]
  },
  {
   "cell_type": "code",
   "execution_count": 5,
   "id": "5a4a2872",
   "metadata": {},
   "outputs": [],
   "source": [
    "def test_diagonalOfKernels():\n",
    "    \"\"\"\n",
    "    Test that diagonal of kernels and derivatives are correct across functions.\n",
    "    \"\"\"\n",
    "    X = random_X_bzl(size, numBands=numBands)\n",
    "    X2 = X\n",
    "\n",
    "    fcoefs_amp, fcoefs_mu, fcoefs_sig = random_filtercoefs(numBands, numCoefs)\n",
    "    lines_mu, lines_sig = random_linecoefs(numLines)\n",
    "    var_C, var_L, alpha_C, alpha_L, alpha_T = random_hyperparams()\n",
    "    norms = np.sqrt(2*np.pi) * np.sum(fcoefs_amp * fcoefs_sig, axis=1)\n",
    "\n",
    "    NO1, NO2 = X.shape[0], X2.shape[0]\n",
    "    b1 = X[:, 0].astype(int)\n",
    "    b2 = X2[:, 0].astype(int)\n",
    "    fz1 = 1 + X[:, 1]\n",
    "    fz2 = 1 + X2[:, 1]\n",
    "    KC, KL \\\n",
    "        = np.zeros((NO1, NO2)), np.zeros((NO1, NO2))\n",
    "    D_alpha_C, D_alpha_L, D_alpha_z \\\n",
    "        = np.zeros((NO1, NO2)), np.zeros((NO1, NO2)), np.zeros((NO1, NO2))\n",
    "    kernelparts(NO1, NO2, numCoefs, numLines,\n",
    "                alpha_C, alpha_L,\n",
    "                fcoefs_amp, fcoefs_mu, fcoefs_sig,\n",
    "                lines_mu[:numLines], lines_sig[:numLines], norms,\n",
    "                b1, fz1, b2, fz2, True,\n",
    "                KL, KC,\n",
    "                D_alpha_C, D_alpha_L, D_alpha_z)\n",
    "\n",
    "    KC_diag, KL_diag\\\n",
    "        = np.zeros((NO1,)), np.zeros((NO1,))\n",
    "    D_alpha_C_diag, D_alpha_L_diag = np.zeros((NO1,)), np.zeros((NO1,))\n",
    "    kernelparts_diag(NO1, numCoefs, numLines,\n",
    "                     alpha_C, alpha_L,\n",
    "                     fcoefs_amp, fcoefs_mu, fcoefs_sig,\n",
    "                     lines_mu[:numLines], lines_sig[:numLines], norms,\n",
    "                     b1, fz1, True, KL_diag, KC_diag,\n",
    "                     D_alpha_C_diag, D_alpha_L_diag)\n",
    "\n",
    "    np.testing.assert_almost_equal(KL_diag, np.diag(KL))\n",
    "    np.testing.assert_almost_equal(KC_diag, np.diag(KC))\n",
    "    np.testing.assert_almost_equal(D_alpha_C_diag, np.diag(D_alpha_C))\n",
    "    np.testing.assert_almost_equal(D_alpha_L_diag, np.diag(D_alpha_L))\n",
    "\n",
    "\n"
   ]
  },
  {
   "cell_type": "code",
   "execution_count": 8,
   "id": "1be13086",
   "metadata": {},
   "outputs": [],
   "source": [
    "test_diagonalOfKernels()"
   ]
  },
  {
   "cell_type": "code",
   "execution_count": 6,
   "id": "92ab1623",
   "metadata": {},
   "outputs": [],
   "source": [
    "def test_find_positions():\n",
    "\n",
    "    a = np.array([0., 1., 2., 3., 4.])\n",
    "    b = np.array([0.5, 2.5, 3.0, 3.1, 4.0])\n",
    "    pos = np.zeros(b.size, dtype=np.long)\n",
    "    find_positions(b.size, a.size, b, pos, a)\n",
    "    np.testing.assert_almost_equal(pos, [0, 2, 2, 3, 3])"
   ]
  },
  {
   "cell_type": "code",
   "execution_count": 9,
   "id": "bf8ac27f",
   "metadata": {},
   "outputs": [
    {
     "name": "stderr",
     "output_type": "stream",
     "text": [
      "<ipython-input-6-f1afc12af21e>:5: DeprecationWarning: `np.long` is a deprecated alias for `np.compat.long`. To silence this warning, use `np.compat.long` by itself. In the likely event your code does not need to work on Python 2 you can use the builtin `int` for which `np.compat.long` is itself an alias. Doing this will not modify any behaviour and is safe. When replacing `np.long`, you may wish to use e.g. `np.int64` or `np.int32` to specify the precision. If you wish to review your current use, check the release note link for additional information.\n",
      "Deprecated in NumPy 1.20; for more details and guidance: https://numpy.org/devdocs/release/1.20.0-notes.html#deprecations\n",
      "  pos = np.zeros(b.size, dtype=np.long)\n"
     ]
    }
   ],
   "source": [
    "test_find_positions()"
   ]
  },
  {
   "cell_type": "code",
   "execution_count": 7,
   "id": "28d0615a",
   "metadata": {},
   "outputs": [],
   "source": [
    "def test_kernel_parts_interp():\n",
    "\n",
    "    fcoefs_amp, fcoefs_mu, fcoefs_sig = random_filtercoefs(numBands, numCoefs)\n",
    "    lines_mu, lines_sig = random_linecoefs(numLines)\n",
    "    var_C, var_L, alpha_C, alpha_L, alpha_T = random_hyperparams()\n",
    "    norms = np.sqrt(2*np.pi) * np.sum(fcoefs_amp * fcoefs_sig, axis=1)\n",
    "\n",
    "    zgrid = np.linspace(0, 3, num=nz)\n",
    "    opzgrid = 1 + zgrid\n",
    "\n",
    "    KC_grid, KL_grid =\\\n",
    "        np.zeros((numBands, numBands, nz, nz)),\\\n",
    "        np.zeros((numBands, numBands, nz, nz))\n",
    "    D_alpha_C_grid, D_alpha_L_grid, D_alpha_z_grid =\\\n",
    "        np.zeros((numBands, numBands, nz, nz)),\\\n",
    "        np.zeros((numBands, numBands, nz, nz)),\\\n",
    "        np.zeros((numBands, numBands, nz, nz))\n",
    "    for ib1 in range(numBands):\n",
    "        for ib2 in range(numBands):\n",
    "            b1 = np.repeat(ib1, nz)\n",
    "            b2 = np.repeat(ib2, nz)\n",
    "            fz1 = 1 + zgrid\n",
    "            fz2 = 1 + zgrid\n",
    "            kernelparts(nz, nz, numCoefs, numLines,\n",
    "                        alpha_C, alpha_L,\n",
    "                        fcoefs_amp, fcoefs_mu, fcoefs_sig,\n",
    "                        lines_mu[:numLines], lines_sig[:numLines], norms,\n",
    "                        b1, fz1, b2, fz2, True,\n",
    "                        KL_grid[ib1, ib2, :, :], KC_grid[ib1, ib2, :, :],\n",
    "                        D_alpha_C_grid[ib1, ib2, :, :],\n",
    "                        D_alpha_L_grid[ib1, ib2, :, :],\n",
    "                        D_alpha_z_grid[ib1, ib2, :, :])\n",
    "\n",
    "    Xrand = random_X_bzl(size, numBands=numBands)\n",
    "    X2rand = random_X_bzl(size, numBands=numBands)\n",
    "    NO1, NO2 = Xrand.shape[0], X2rand.shape[0]\n",
    "    b1 = Xrand[:, 0].astype(int)\n",
    "    b2 = X2rand[:, 0].astype(int)\n",
    "    fz1 = 1 + Xrand[:, 1]\n",
    "    fz2 = 1 + X2rand[:, 1]\n",
    "\n",
    "    KC_rand, KL_rand =\\\n",
    "        np.zeros((NO1, NO2)),\\\n",
    "        np.zeros((NO1, NO2))\n",
    "    D_alpha_C_rand, D_alpha_L_rand, D_alpha_z_rand =\\\n",
    "        np.zeros((NO1, NO2)),\\\n",
    "        np.zeros((NO1, NO2)),\\\n",
    "        np.zeros((NO1, NO2))\n",
    "    kernelparts(NO1, NO2, numCoefs, numLines,\n",
    "                alpha_C, alpha_L,\n",
    "                fcoefs_amp, fcoefs_mu, fcoefs_sig,\n",
    "                lines_mu[:numLines], lines_sig[:numLines], norms,\n",
    "                b1, fz1, b2, fz2, True,\n",
    "                KL_rand, KC_rand,\n",
    "                D_alpha_C_rand, D_alpha_L_rand, D_alpha_z_rand)\n",
    "\n",
    "    p1s = np.zeros(size, dtype=int)\n",
    "    p2s = np.zeros(size, dtype=int)\n",
    "    find_positions(size, nz, fz1, p1s, opzgrid)\n",
    "    find_positions(size, nz, fz2, p2s, opzgrid)\n",
    "\n",
    "    KC_interp, KL_interp =\\\n",
    "        np.zeros((NO1, NO2)),\\\n",
    "        np.zeros((NO1, NO2))\n",
    "    KC_diag_interp, KL_diag_interp =\\\n",
    "        np.zeros((NO1, )),\\\n",
    "        np.zeros((NO1, ))\n",
    "    D_alpha_C_interp, D_alpha_L_interp, D_alpha_z_interp =\\\n",
    "        np.zeros((NO1, NO2)),\\\n",
    "        np.zeros((NO1, NO2)),\\\n",
    "        np.zeros((NO1, NO2))\n",
    "\n",
    "    kernel_parts_interp(size, size,\n",
    "                        KC_interp,\n",
    "                        b1, fz1, p1s,\n",
    "                        b2, fz2, p2s,\n",
    "                        opzgrid, KC_grid)\n",
    "    print(np.abs(KC_interp/KC_rand - 1))\n",
    "    assert np.mean(np.abs(KC_interp/KC_rand - 1)) < relative_accuracy\n",
    "    assert np.max(np.abs(KC_interp/KC_rand - 1)) < relative_accuracy\n",
    "\n",
    "    kernel_parts_interp(size, size,\n",
    "                        D_alpha_C_interp,\n",
    "                        b1, fz1, p1s,\n",
    "                        b2, fz2, p2s,\n",
    "                        opzgrid, D_alpha_C_grid)\n",
    "    print(np.abs(D_alpha_C_interp/D_alpha_C_rand - 1))\n",
    "    assert np.mean(np.abs(D_alpha_C_interp/D_alpha_C_rand - 1))\\\n",
    "        < relative_accuracy\n",
    "    assert np.max(np.abs(D_alpha_C_interp/D_alpha_C_rand - 1))\\\n",
    "        < relative_accuracy\n"
   ]
  },
  {
   "cell_type": "code",
   "execution_count": 10,
   "id": "70095809",
   "metadata": {},
   "outputs": [
    {
     "name": "stdout",
     "output_type": "stream",
     "text": [
      "[[8.97092702e-05 3.67034278e-06 3.63348520e-05 ... 5.31899541e-05\n",
      "  8.09036888e-05 4.86043500e-05]\n",
      " [9.38291995e-05 1.20232293e-05 2.05555107e-05 ... 3.63594716e-05\n",
      "  1.10470151e-04 7.85785526e-05]\n",
      " [6.28121503e-05 4.59175152e-05 1.07162273e-05 ... 3.71324445e-06\n",
      "  8.50594723e-05 5.87258104e-05]\n",
      " ...\n",
      " [3.18911701e-05 2.69580782e-05 1.81002369e-05 ... 2.93615419e-05\n",
      "  2.61134316e-05 1.03537812e-05]\n",
      " [1.30294820e-05 3.17806392e-04 3.27572839e-05 ... 2.14115580e-05\n",
      "  9.43893851e-05 1.22967635e-04]\n",
      " [4.69498654e-05 1.09548058e-06 7.94204093e-05 ... 7.61731337e-05\n",
      "  7.38831195e-05 5.63076021e-05]]\n",
      "[[1.56976096e-04 1.62558467e-04 4.16112652e-05 ... 4.71222327e-05\n",
      "  6.63992333e-05 9.52424328e-05]\n",
      " [1.89668031e-04 3.39921728e-04 7.03846472e-05 ... 3.59605177e-05\n",
      "  9.22450511e-05 2.17642296e-05]\n",
      " [9.84252759e-05 2.07159296e-04 1.75574096e-06 ... 1.62806643e-05\n",
      "  4.63706600e-05 6.15905196e-05]\n",
      " ...\n",
      " [8.86363469e-05 3.58799631e-06 9.34995430e-05 ... 5.29337525e-05\n",
      "  6.46187560e-05 2.93401764e-05]\n",
      " [3.76956802e-04 8.99139113e-04 6.91787536e-05 ... 9.65170066e-05\n",
      "  3.44717599e-04 2.16521741e-04]\n",
      " [2.24183881e-04 2.88090532e-04 2.47682067e-05 ... 1.68017840e-05\n",
      "  1.45344346e-05 7.27710274e-05]]\n"
     ]
    }
   ],
   "source": [
    "test_kernel_parts_interp()"
   ]
  },
  {
   "cell_type": "code",
   "execution_count": null,
   "id": "b2ea8892",
   "metadata": {},
   "outputs": [],
   "source": []
  }
 ],
 "metadata": {
  "kernelspec": {
   "display_name": "anaconda3pbs",
   "language": "python",
   "name": "anaconda3_pbs"
  },
  "language_info": {
   "codemirror_mode": {
    "name": "ipython",
    "version": 3
   },
   "file_extension": ".py",
   "mimetype": "text/x-python",
   "name": "python",
   "nbconvert_exporter": "python",
   "pygments_lexer": "ipython3",
   "version": "3.8.8"
  }
 },
 "nbformat": 4,
 "nbformat_minor": 5
}
