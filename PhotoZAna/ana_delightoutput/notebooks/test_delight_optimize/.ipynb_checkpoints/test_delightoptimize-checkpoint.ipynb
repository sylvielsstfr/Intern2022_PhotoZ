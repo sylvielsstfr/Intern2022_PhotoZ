{
 "cells": [
  {
   "cell_type": "markdown",
   "id": "industrial-chile",
   "metadata": {},
   "source": [
    "# Test Delight Optimize"
   ]
  },
  {
   "cell_type": "markdown",
   "id": "color-green",
   "metadata": {},
   "source": [
    "- author : Sylvie Dagoret-Campagne\n",
    "\n",
    "- affiliation : IJCLab/IN2P3/CNRS\n",
    "- creation date : March 17th 2021\n",
    "- update : April 4th 2021"
   ]
  },
  {
   "cell_type": "code",
   "execution_count": 1,
   "id": "collect-disclaimer",
   "metadata": {},
   "outputs": [],
   "source": [
    "%matplotlib inline\n",
    "import numpy as np\n",
    "import matplotlib.pyplot as plt\n",
    "import scipy.stats\n",
    "import sys\n",
    "sys.path.append('../')\n",
    "from delight.io import *\n",
    "from delight.utils import *\n",
    "from delight.photoz_gp import PhotozGP\n",
    "from delight.utils_cy import approx_flux_likelihood_cy\n",
    "from time import time"
   ]
  },
  {
   "cell_type": "code",
   "execution_count": 2,
   "id": "reported-hello",
   "metadata": {},
   "outputs": [],
   "source": [
    "from mpi4py import MPI\n",
    "from delight.photoz_kernels import Photoz_mean_function, Photoz_kernel"
   ]
  },
  {
   "cell_type": "code",
   "execution_count": 3,
   "id": "occupied-weapon",
   "metadata": {},
   "outputs": [],
   "source": [
    "logger = logging.getLogger(__name__)\n",
    "coloredlogs.install(level='DEBUG', logger=logger,fmt='%(asctime)s,%(msecs)03d %(programname)s, %(name)s[%(process)d] %(levelname)s %(message)s')"
   ]
  },
  {
   "cell_type": "code",
   "execution_count": 4,
   "id": "bottom-benefit",
   "metadata": {},
   "outputs": [],
   "source": [
    "plt.rcParams[\"figure.figsize\"] = (6,4)\n",
    "plt.rcParams[\"axes.labelsize\"] = 'xx-large'\n",
    "plt.rcParams['axes.titlesize'] = 'xx-large'\n",
    "plt.rcParams['xtick.labelsize']= 'xx-large'\n",
    "plt.rcParams['ytick.labelsize']= 'xx-large'"
   ]
  },
  {
   "cell_type": "markdown",
   "id": "decent-duncan",
   "metadata": {},
   "source": [
    "# Configuration\n",
    "\n",
    "- select if want to control Delight internal simulation or DC2"
   ]
  },
  {
   "cell_type": "code",
   "execution_count": 5,
   "id": "swedish-serve",
   "metadata": {},
   "outputs": [],
   "source": [
    "FLAG_DC2=False"
   ]
  },
  {
   "cell_type": "code",
   "execution_count": 6,
   "id": "convinced-samoa",
   "metadata": {},
   "outputs": [],
   "source": [
    "if FLAG_DC2:\n",
    "    configfilename='tmp/parametersTest.cfg'\n",
    "else:\n",
    "    configfilename='tmpsim/parametersTest.cfg'"
   ]
  },
  {
   "cell_type": "markdown",
   "id": "hawaiian-absence",
   "metadata": {},
   "source": [
    "# Load config and data"
   ]
  },
  {
   "cell_type": "code",
   "execution_count": 7,
   "id": "impaired-brave",
   "metadata": {},
   "outputs": [
    {
     "name": "stderr",
     "output_type": "stream",
     "text": [
      "2021-04-04 14:35:21,414 ipykernel_launcher.py, __main__[95] INFO --- DELIGHT-OPTIMIZE ---\n"
     ]
    }
   ],
   "source": [
    "params = parseParamFile(configfilename, verbose=False)\n",
    "\n",
    "\n",
    "comm = MPI.COMM_WORLD\n",
    "threadNum = comm.Get_rank()\n",
    "numThreads = comm.Get_size()\n",
    "\n",
    "\n",
    "if threadNum == 0:\n",
    "    #print(\"--- DELIGHT-APPLY ---\")\n",
    "    logger.info(\"--- DELIGHT-OPTIMIZE ---\")\n",
    "\n"
   ]
  },
  {
   "cell_type": "markdown",
   "id": "specific-plant",
   "metadata": {},
   "source": [
    "## Read filter coefficients, compute normalization of filters"
   ]
  },
  {
   "cell_type": "code",
   "execution_count": 8,
   "id": "existing-purse",
   "metadata": {},
   "outputs": [],
   "source": [
    "# Read filter coefficients, compute normalization of filters\n",
    "bandCoefAmplitudes, bandCoefPositions, bandCoefWidths, norms\\\n",
    "    = readBandCoefficients(params)\n",
    "numBands = bandCoefAmplitudes.shape[0]"
   ]
  },
  {
   "cell_type": "markdown",
   "id": "concrete-retention",
   "metadata": {},
   "source": [
    "## Read SED"
   ]
  },
  {
   "cell_type": "code",
   "execution_count": 10,
   "id": "purple-ranking",
   "metadata": {},
   "outputs": [],
   "source": [
    "redshiftDistGrid, redshiftGrid, redshiftGridGP = createGrids(params)\n",
    "f_mod = readSEDs(params)\n",
    "DL = approx_DL()"
   ]
  },
  {
   "cell_type": "markdown",
   "id": "thorough-hopkins",
   "metadata": {},
   "source": [
    "## Load Model"
   ]
  },
  {
   "cell_type": "code",
   "execution_count": 11,
   "id": "false-appreciation",
   "metadata": {},
   "outputs": [],
   "source": [
    "dir_seds = params['templates_directory']\n",
    "dir_filters = params['bands_directory']\n",
    "lambdaRef = params['lambdaRef']\n",
    "sed_names = params['templates_names']\n",
    "f_mod_grid = np.zeros((redshiftGrid.size, len(sed_names),\n",
    "                       len(params['bandNames'])))\n",
    "for t, sed_name in enumerate(sed_names):\n",
    "    f_mod_grid[:, t, :] = np.loadtxt(dir_seds + '/' + sed_name +\n",
    "                                     '_fluxredshiftmod.txt')\n"
   ]
  },
  {
   "cell_type": "markdown",
   "id": "every-viewer",
   "metadata": {},
   "source": [
    "## Check config"
   ]
  },
  {
   "cell_type": "code",
   "execution_count": 12,
   "id": "lucky-accident",
   "metadata": {},
   "outputs": [
    {
     "name": "stdout",
     "output_type": "stream",
     "text": [
      "Number of Training Objects 1000\n",
      "Number of Target Objects 1000\n"
     ]
    },
    {
     "name": "stderr",
     "output_type": "stream",
     "text": [
      "<ipython-input-12-d1e8029ad26b>:4: DeprecationWarning: Calling np.sum(generator) is deprecated, and in the future will give a different result. Use np.sum(np.fromiter(generator)) or the python sum builtin instead.\n",
      "  numObjectsTraining = np.sum(1 for line in open(params['training_catFile']))\n",
      "<ipython-input-12-d1e8029ad26b>:5: DeprecationWarning: Calling np.sum(generator) is deprecated, and in the future will give a different result. Use np.sum(np.fromiter(generator)) or the python sum builtin instead.\n",
      "  numObjectsTarget = np.sum(1 for line in open(params['target_catFile']))\n"
     ]
    }
   ],
   "source": [
    "numZbins = redshiftDistGrid.size - 1\n",
    "numZ = redshiftGrid.size\n",
    "numConfLevels = len(params['confidenceLevels'])\n",
    "numObjectsTraining = np.sum(1 for line in open(params['training_catFile']))\n",
    "numObjectsTarget = np.sum(1 for line in open(params['target_catFile']))\n",
    "print('Number of Training Objects', numObjectsTraining)\n",
    "print('Number of Target Objects', numObjectsTarget)"
   ]
  },
  {
   "cell_type": "markdown",
   "id": "automatic-peter",
   "metadata": {},
   "source": [
    "## Optimize"
   ]
  },
  {
   "cell_type": "code",
   "execution_count": 13,
   "id": "behind-painting",
   "metadata": {
    "scrolled": false
   },
   "outputs": [
    {
     "name": "stderr",
     "output_type": "stream",
     "text": [
      "<ipython-input-13-21bd703169a5>:116: RuntimeWarning: invalid value encountered in true_divide\n",
      "  confFractions /= binnobj[None, :]\n",
      "<ipython-input-13-21bd703169a5>:117: RuntimeWarning: invalid value encountered in true_divide\n",
      "  bias_nz /= binnobj\n",
      "<ipython-input-13-21bd703169a5>:123: RuntimeWarning: invalid value encountered in true_divide\n",
      "  bias_zmap /= binnobj\n",
      "<ipython-input-13-21bd703169a5>:124: RuntimeWarning: invalid value encountered in true_divide\n",
      "  bias_zmean /= binnobj\n"
     ]
    },
    {
     "name": "stdout",
     "output_type": "stream",
     "text": [
      "\n",
      " =======================================\n",
      "  ellSTD 1.0 fluxError 0.01 V_C 0.1 zSTD 0.1\n",
      "-------------------------------->>  0.225\n",
      ">>  0.397   0.358   0.191   0.259   0.266   0.323   0.21   0.256   0.272   0.0839   0.195   0.205   0.0877   0.251   0.335 \n",
      " >>>> mean z bias 0.0852 mean N(z) bias 0.0853  <<<<\n",
      " >>>> max z bias 0.375 max N(z) bias 0.36  <<<<\n",
      " > bias_zmap :  -0.00857  -0.00394  -0.00694  0.000846  -0.00357  0.00258  0.00657  -0.0438  -0.0775  -0.036  -0.125  -0.143  -0.192  -0.188  -0.378  nan\n",
      " > z bias :  -0.0261  -0.0211  -0.012  -0.00545  -0.0279  -0.0116  -0.000512  -0.0208  -0.118  -0.0555  -0.127  -0.131  -0.177  -0.169  -0.375  .\n",
      " > nzbias :  -0.0256  -0.0251  -0.0134  -0.0148  -0.0304  -0.0119  -0.0129  -0.00966  -0.127  -0.0608  -0.128  -0.134  -0.163  -0.162  -0.36  .\n",
      " --------------------------------\n",
      " > 0.1  ::  0.2  0.257  0.301  0.361  0.343  0.433  0.41  0.475  0.424  0.386  0.524  0.507  0.343  0.408  0.307  .\n",
      " > 0.5  ::  0.76  0.716  0.781  0.705  0.8  0.896  0.787  0.836  0.847  0.771  0.825  0.841  0.757  0.75  0.727  .\n",
      " > 0.68  ::  0.8  0.865  0.863  0.77  0.929  0.94  0.918  0.902  0.898  0.88  0.889  0.913  0.843  0.816  0.818  .\n",
      " > 0.95  ::  0.96  0.973  0.986  0.934  0.986  1  0.984  1  1  0.976  0.984  0.957  0.914  0.961  0.864  .\n",
      " =======================================\n",
      "\n",
      " =======================================\n",
      "  ellSTD 1.0 fluxError 0.01 V_C 0.1 zSTD 1.0\n",
      "-------------------------------->>  0.231\n",
      ">>  0.442   0.377   0.195   0.266   0.289   0.279   0.23   0.319   0.251   0.0649   0.229   0.176   0.105   0.237   0.348 \n",
      " >>>> mean z bias 0.0874 mean N(z) bias 0.087  <<<<\n",
      " >>>> max z bias 0.371 max N(z) bias 0.361  <<<<\n",
      " > bias_zmap :  -0.0124  -0.00348  -0.00526  0.00133  -0.00411  0.00145  -0.0332  -0.0823  -0.043  -0.0214  -0.169  -0.134  -0.229  -0.19  -0.376  nan\n",
      " > z bias :  -0.032  -0.0177  -0.00955  -0.0223  -0.00676  -0.0149  -0.0345  -0.0506  -0.0638  -0.022  -0.157  -0.127  -0.206  -0.176  -0.371  .\n",
      " > nzbias :  -0.0313  -0.0184  -0.00886  -0.0306  -0.00796  -0.0176  -0.0428  -0.0407  -0.0727  -0.024  -0.16  -0.128  -0.197  -0.163  -0.361  .\n",
      " --------------------------------\n",
      " > 0.1  ::  0.222  0.25  0.347  0.381  0.338  0.448  0.426  0.492  0.5  0.383  0.524  0.529  0.329  0.453  0.281  .\n",
      " > 0.5  ::  0.741  0.721  0.787  0.714  0.794  0.896  0.787  0.841  0.833  0.753  0.841  0.843  0.743  0.76  0.708  .\n",
      " > 0.68  ::  0.778  0.853  0.867  0.778  0.926  0.94  0.918  0.889  0.933  0.901  0.889  0.943  0.829  0.827  0.82  .\n",
      " > 0.95  ::  0.926  0.985  0.987  0.937  0.985  1  0.984  1  0.983  0.975  0.984  0.957  0.929  0.947  0.865  .\n",
      " =======================================\n",
      "\n",
      " =======================================\n",
      "  ellSTD 1.0 fluxError 0.01 V_C 1.0 zSTD 0.1\n",
      "-------------------------------->>  0.223\n",
      ">>  0.397   0.358   0.191   0.242   0.266   0.323   0.21   0.252   0.241   0.094   0.195   0.221   0.0877   0.251   0.348 \n",
      " >>>> mean z bias 0.0855 mean N(z) bias 0.0857  <<<<\n",
      " >>>> max z bias 0.375 max N(z) bias 0.36  <<<<\n",
      " > bias_zmap :  -0.00857  -0.00394  -0.00694  0.000846  -0.00357  0.00258  0.00657  -0.0438  -0.0788  -0.0363  -0.123  -0.143  -0.192  -0.188  -0.378  nan\n",
      " > z bias :  -0.0262  -0.0212  -0.0124  -0.00547  -0.0292  -0.0116  -0.000379  -0.0207  -0.118  -0.0528  -0.134  -0.131  -0.177  -0.169  -0.375  .\n",
      " > nzbias :  -0.0257  -0.0252  -0.0136  -0.0148  -0.0309  -0.012  -0.0129  -0.00982  -0.127  -0.0591  -0.136  -0.134  -0.163  -0.162  -0.36  .\n",
      " --------------------------------\n",
      " > 0.1  ::  0.2  0.257  0.301  0.361  0.357  0.493  0.426  0.459  0.397  0.398  0.516  0.522  0.343  0.408  0.33  .\n",
      " > 0.5  ::  0.76  0.716  0.781  0.705  0.8  0.896  0.787  0.836  0.845  0.771  0.828  0.841  0.743  0.75  0.727  .\n",
      " > 0.68  ::  0.8  0.865  0.863  0.77  0.929  0.94  0.918  0.902  0.897  0.88  0.891  0.913  0.843  0.816  0.83  .\n",
      " > 0.95  ::  0.96  0.973  0.986  0.934  0.986  1  0.984  1  1  0.976  0.984  0.957  0.914  0.961  0.864  .\n",
      " =======================================\n",
      "\n",
      " =======================================\n",
      "  ellSTD 1.0 fluxError 0.01 V_C 1.0 zSTD 1.0\n",
      "-------------------------------->>  0.228\n",
      ">>  0.442   0.377   0.192   0.277   0.274   0.279   0.23   0.319   0.264   0.0649   0.229   0.18   0.105   0.237   0.362 \n",
      " >>>> mean z bias 0.0877 mean N(z) bias 0.0872  <<<<\n",
      " >>>> max z bias 0.371 max N(z) bias 0.361  <<<<\n",
      " > bias_zmap :  -0.0124  -0.00348  -0.00538  0.00136  -0.00411  0.00145  -0.0332  -0.0822  -0.043  -0.0215  -0.169  -0.134  -0.229  -0.19  -0.376  nan\n",
      " > z bias :  -0.0321  -0.0178  -0.0069  -0.0259  -0.00676  -0.0149  -0.0344  -0.0506  -0.0673  -0.022  -0.157  -0.127  -0.206  -0.176  -0.371  .\n",
      " > nzbias :  -0.0314  -0.0184  -0.00654  -0.0347  -0.00796  -0.0177  -0.0428  -0.0408  -0.0742  -0.024  -0.16  -0.128  -0.198  -0.163  -0.361  .\n",
      " --------------------------------\n",
      " > 0.1  ::  0.222  0.25  0.338  0.391  0.324  0.478  0.443  0.524  0.483  0.383  0.524  0.529  0.329  0.44  0.326  .\n",
      " > 0.5  ::  0.741  0.721  0.797  0.719  0.794  0.896  0.787  0.841  0.833  0.753  0.841  0.843  0.729  0.76  0.708  .\n",
      " > 0.68  ::  0.778  0.853  0.865  0.781  0.926  0.94  0.918  0.889  0.933  0.901  0.889  0.943  0.829  0.827  0.831  .\n",
      " > 0.95  ::  0.926  0.985  0.986  0.938  0.985  1  0.984  1  0.983  0.975  0.984  0.957  0.929  0.947  0.865  .\n",
      " =======================================\n",
      "\n",
      " =======================================\n",
      "  ellSTD 10.0 fluxError 0.01 V_C 0.1 zSTD 0.1\n",
      "-------------------------------->>  0.225\n",
      ">>  0.397   0.358   0.191   0.259   0.266   0.323   0.21   0.256   0.272   0.0839   0.195   0.205   0.0877   0.251   0.335 \n",
      " >>>> mean z bias 0.0851 mean N(z) bias 0.0852  <<<<\n",
      " >>>> max z bias 0.375 max N(z) bias 0.36  <<<<\n",
      " > bias_zmap :  -0.00857  -0.00394  -0.00694  0.000846  -0.00357  0.00258  0.00657  -0.0438  -0.0775  -0.036  -0.125  -0.143  -0.192  -0.188  -0.378  nan\n",
      " > z bias :  -0.0259  -0.0211  -0.012  -0.00545  -0.0279  -0.0116  -0.000512  -0.0208  -0.117  -0.0555  -0.127  -0.131  -0.177  -0.169  -0.375  .\n",
      " > nzbias :  -0.0255  -0.0251  -0.0134  -0.0148  -0.0303  -0.0119  -0.0129  -0.00966  -0.127  -0.0608  -0.128  -0.134  -0.163  -0.162  -0.36  .\n",
      " --------------------------------\n",
      " > 0.1  ::  0.2  0.257  0.301  0.361  0.343  0.433  0.41  0.475  0.424  0.386  0.524  0.507  0.343  0.408  0.307  .\n",
      " > 0.5  ::  0.76  0.716  0.781  0.705  0.8  0.896  0.787  0.836  0.847  0.771  0.825  0.841  0.757  0.75  0.727  .\n",
      " > 0.68  ::  0.8  0.865  0.863  0.77  0.929  0.94  0.918  0.902  0.898  0.88  0.889  0.913  0.843  0.816  0.818  .\n",
      " > 0.95  ::  0.96  0.973  0.986  0.934  0.986  1  0.984  1  1  0.976  0.984  0.957  0.914  0.961  0.864  .\n",
      " =======================================\n",
      "\n",
      " =======================================\n",
      "  ellSTD 10.0 fluxError 0.01 V_C 0.1 zSTD 1.0\n",
      "-------------------------------->>  0.231\n",
      ">>  0.442   0.377   0.195   0.266   0.289   0.279   0.23   0.33   0.239   0.0649   0.229   0.176   0.105   0.237   0.348 \n",
      " >>>> mean z bias 0.0872 mean N(z) bias 0.0867  <<<<\n",
      " >>>> max z bias 0.371 max N(z) bias 0.361  <<<<\n",
      " > bias_zmap :  -0.0124  -0.00348  -0.00526  0.00133  -0.00411  0.00145  -0.0332  -0.0811  -0.0437  -0.0214  -0.169  -0.134  -0.229  -0.19  -0.376  nan\n",
      " > z bias :  -0.0318  -0.0177  -0.00955  -0.0223  -0.00676  -0.0149  -0.0345  -0.0742  -0.0376  -0.022  -0.157  -0.127  -0.206  -0.176  -0.371  .\n",
      " > nzbias :  -0.0312  -0.0184  -0.00886  -0.0306  -0.00796  -0.0176  -0.0428  -0.0635  -0.0459  -0.024  -0.16  -0.128  -0.197  -0.163  -0.361  .\n",
      " --------------------------------\n",
      " > 0.1  ::  0.222  0.25  0.347  0.381  0.338  0.448  0.426  0.5  0.492  0.383  0.524  0.529  0.329  0.453  0.281  .\n",
      " > 0.5  ::  0.741  0.721  0.787  0.714  0.794  0.896  0.787  0.844  0.831  0.753  0.841  0.843  0.743  0.76  0.708  .\n",
      " > 0.68  ::  0.778  0.853  0.867  0.778  0.926  0.94  0.918  0.891  0.932  0.901  0.889  0.943  0.829  0.827  0.82  .\n",
      " > 0.95  ::  0.926  0.985  0.987  0.937  0.985  1  0.984  1  0.983  0.975  0.984  0.957  0.929  0.947  0.865  .\n",
      " =======================================\n",
      "\n",
      " =======================================\n",
      "  ellSTD 10.0 fluxError 0.01 V_C 1.0 zSTD 0.1\n",
      "-------------------------------->>  0.223\n",
      ">>  0.397   0.358   0.191   0.242   0.266   0.323   0.21   0.252   0.241   0.094   0.195   0.221   0.0877   0.251   0.348 \n",
      " >>>> mean z bias 0.0855 mean N(z) bias 0.0857  <<<<\n",
      " >>>> max z bias 0.375 max N(z) bias 0.36  <<<<\n",
      " > bias_zmap :  -0.00857  -0.00394  -0.00694  0.000846  -0.00357  0.00258  0.00657  -0.0438  -0.0788  -0.0363  -0.123  -0.143  -0.192  -0.188  -0.378  nan\n",
      " > z bias :  -0.026  -0.0212  -0.0124  -0.00547  -0.0291  -0.0115  -0.000379  -0.0207  -0.117  -0.0528  -0.133  -0.131  -0.177  -0.169  -0.375  .\n",
      " > nzbias :  -0.0255  -0.0252  -0.0136  -0.0148  -0.0309  -0.012  -0.0129  -0.00982  -0.126  -0.059  -0.136  -0.134  -0.163  -0.162  -0.36  .\n",
      " --------------------------------\n",
      " > 0.1  ::  0.2  0.257  0.301  0.361  0.357  0.493  0.426  0.459  0.397  0.398  0.516  0.522  0.343  0.408  0.33  .\n",
      " > 0.5  ::  0.76  0.716  0.781  0.705  0.8  0.896  0.787  0.836  0.845  0.771  0.828  0.841  0.743  0.75  0.727  .\n",
      " > 0.68  ::  0.8  0.865  0.863  0.77  0.929  0.94  0.918  0.902  0.897  0.88  0.891  0.913  0.843  0.816  0.83  .\n",
      " > 0.95  ::  0.96  0.973  0.986  0.934  0.986  1  0.984  1  1  0.976  0.984  0.957  0.914  0.961  0.864  .\n",
      " =======================================\n"
     ]
    },
    {
     "name": "stdout",
     "output_type": "stream",
     "text": [
      "\n",
      " =======================================\n",
      "  ellSTD 10.0 fluxError 0.01 V_C 1.0 zSTD 1.0\n",
      "-------------------------------->>  0.228\n",
      ">>  0.442   0.377   0.192   0.277   0.274   0.279   0.23   0.33   0.256   0.0649   0.229   0.18   0.105   0.237   0.362 \n",
      " >>>> mean z bias 0.0875 mean N(z) bias 0.087  <<<<\n",
      " >>>> max z bias 0.371 max N(z) bias 0.361  <<<<\n",
      " > bias_zmap :  -0.0124  -0.00348  -0.00538  0.00136  -0.00411  0.00145  -0.0332  -0.081  -0.0437  -0.0215  -0.169  -0.134  -0.229  -0.19  -0.376  nan\n",
      " > z bias :  -0.0319  -0.0178  -0.00689  -0.0259  -0.00676  -0.0149  -0.0344  -0.0742  -0.0411  -0.022  -0.157  -0.127  -0.206  -0.176  -0.371  .\n",
      " > nzbias :  -0.0313  -0.0184  -0.00654  -0.0347  -0.00796  -0.0177  -0.0428  -0.0636  -0.0474  -0.024  -0.16  -0.128  -0.198  -0.163  -0.361  .\n",
      " --------------------------------\n",
      " > 0.1  ::  0.222  0.25  0.338  0.391  0.324  0.478  0.443  0.531  0.475  0.383  0.524  0.529  0.329  0.44  0.326  .\n",
      " > 0.5  ::  0.741  0.721  0.797  0.719  0.794  0.896  0.787  0.844  0.831  0.753  0.841  0.843  0.729  0.76  0.708  .\n",
      " > 0.68  ::  0.778  0.853  0.865  0.781  0.926  0.94  0.918  0.891  0.932  0.901  0.889  0.943  0.829  0.827  0.831  .\n",
      " > 0.95  ::  0.926  0.985  0.986  0.938  0.985  1  0.984  1  0.983  0.975  0.984  0.957  0.929  0.947  0.865  .\n",
      " =======================================\n"
     ]
    }
   ],
   "source": [
    "for ellPriorSigma in [1.0, 10.0]:\n",
    "    alpha_C = 1e3\n",
    "    alpha_L = 1e2\n",
    "    V_C, V_L = 1.0, 1.0\n",
    "    gp = PhotozGP(\n",
    "        f_mod,\n",
    "        bandCoefAmplitudes, bandCoefPositions, bandCoefWidths,\n",
    "        params['lines_pos'], params['lines_width'],\n",
    "        V_C, V_L, alpha_C, alpha_L,\n",
    "        redshiftGridGP, use_interpolators=True)\n",
    "\n",
    "    for extraFracFluxError in [1e-2]:\n",
    "        redshifts = np.zeros((numObjectsTraining, ))\n",
    "        bestTypes = np.zeros((numObjectsTraining, ), dtype=int)\n",
    "        ellMLs = np.zeros((numObjectsTraining, ))\n",
    "        model_mean = np.zeros((numZ, numObjectsTraining, numBands))\n",
    "        model_covar = np.zeros((numZ, numObjectsTraining, numBands))\n",
    "        # params['training_extraFracFluxError'] = extraFracFluxError\n",
    "        params['target_extraFracFluxError'] = extraFracFluxError\n",
    "\n",
    "        for V_C in [0.1, 1.0]:\n",
    "\n",
    "            gp.var_C = V_C\n",
    "            gp.var_L = V_L\n",
    "            loc = - 1\n",
    "            trainingDataIter = getDataFromFile(\n",
    "                params, 0, numObjectsTraining,\n",
    "                prefix=\"training_\", getXY=True)\n",
    "            for z, normedRefFlux, bands, fluxes,\\\n",
    "                fluxesVar, bCV, fCV, fvCV, X, Y, Yvar\\\n",
    "                    in trainingDataIter:\n",
    "                loc += 1\n",
    "                redshifts[loc] = z\n",
    "                themod = np.zeros((1, f_mod_grid.shape[1], bands.size))\n",
    "                for it in range(f_mod_grid.shape[1]):\n",
    "                    for ib, band in enumerate(bands):\n",
    "                        themod[0, it, ib] = np.interp(z, redshiftGrid,\n",
    "                                                      f_mod_grid[:, it, band])\n",
    "                chi2_grid, theellMLs = scalefree_flux_likelihood(\n",
    "                    fluxes,\n",
    "                    fluxesVar,\n",
    "                    themod,\n",
    "                    returnChi2=True\n",
    "                )\n",
    "                bestTypes[loc] = np.argmin(chi2_grid)\n",
    "                ellMLs[loc] = theellMLs[0, bestTypes[loc]]\n",
    "                X[:, 2] = ellMLs[loc]\n",
    "                gp.setData(X, Y, Yvar, bestTypes[loc])\n",
    "                model_mean[:, loc, :], model_covar[:, loc, :] =\\\n",
    "                    gp.predictAndInterpolate(redshiftGrid, ell=ellMLs[loc])\n",
    "\n",
    "            for redshiftSigma in [0.1, 1.0]:\n",
    "\n",
    "                loc = - 1\n",
    "                targetDataIter = getDataFromFile(params, 0, numObjectsTarget,\n",
    "                                                 prefix=\"target_\", getXY=False)\n",
    "\n",
    "                bias_zmap = np.zeros((redshiftDistGrid.size, ))\n",
    "                bias_zmean = np.zeros((redshiftDistGrid.size, ))\n",
    "                confFractions = np.zeros((numConfLevels,\n",
    "                                          redshiftDistGrid.size))\n",
    "                binnobj = np.zeros((redshiftDistGrid.size, ))\n",
    "                bias_nz = np.zeros((redshiftDistGrid.size, ))\n",
    "                stackedPdfs = np.zeros((redshiftGrid.size,\n",
    "                                        redshiftDistGrid.size))\n",
    "                cis = np.zeros((numObjectsTarget, ))\n",
    "                zmeanBinLocs = np.zeros((numObjectsTarget, ), dtype=int)\n",
    "                for z, normedRefFlux, bands, fluxes, fluxesVar, bCV, fCV, fvCV\\\n",
    "                        in targetDataIter:\n",
    "                    loc += 1\n",
    "                    like_grid = np.zeros((model_mean.shape[0],\n",
    "                                          model_mean.shape[1]))\n",
    "                    ell_hat_z = normedRefFlux * 4 * np.pi\\\n",
    "                        * params['fluxLuminosityNorm'] \\\n",
    "                        * (DL(redshiftGrid)**2. * (1+redshiftGrid))\n",
    "                    ell_hat_z[:] = 1\n",
    "                    approx_flux_likelihood_cy(\n",
    "                        like_grid,\n",
    "                        model_mean.shape[0], model_mean.shape[1], bands.size,\n",
    "                        fluxes, fluxesVar,\n",
    "                        model_mean[:, :, bands],\n",
    "                        V_C*model_covar[:, :, bands],\n",
    "                        ell_hat_z, (ell_hat_z*ellPriorSigma)**2)\n",
    "                    like_grid *= np.exp(-0.5*((redshiftGrid[:, None] -\n",
    "                                               redshifts[None, :]) /\n",
    "                                              redshiftSigma)**2)\n",
    "                    pdf = like_grid.sum(axis=1)\n",
    "                    if pdf.sum() == 0:\n",
    "                        print(\"NULL PDF with galaxy\", loc)\n",
    "                    if pdf.sum() > 0:\n",
    "                        metrics\\\n",
    "                            = computeMetrics(z, redshiftGrid, pdf,\n",
    "                                             params['confidenceLevels'])\n",
    "                        ztrue, zmean, zstdzmean, zmap, zstdzmean,\\\n",
    "                            pdfAtZ, cumPdfAtZ = metrics[0:7]\n",
    "                        confidencelevels = metrics[7:]\n",
    "                        zmeanBinLoc = -1\n",
    "                        for i in range(numZbins):\n",
    "                            if zmean >= redshiftDistGrid[i]\\\n",
    "                                    and zmean < redshiftDistGrid[i+1]:\n",
    "                                zmeanBinLoc = i\n",
    "                                bias_zmap[i] += ztrue - zmap\n",
    "                                bias_zmean[i] += ztrue - zmean\n",
    "                                binnobj[i] += 1\n",
    "                                bias_nz[i] += ztrue\n",
    "                        zmeanBinLocs[loc] = zmeanBinLoc\n",
    "                        for i in range(numConfLevels):\n",
    "                            if pdfAtZ >= confidencelevels[i]:\n",
    "                                confFractions[i, zmeanBinLoc] += 1\n",
    "                        stackedPdfs[:, zmeanBinLoc]\\\n",
    "                            += pdf / numObjectsTraining\n",
    "                        ind = pdf >= pdfAtZ\n",
    "                        pdf /= np.trapz(pdf, x=redshiftGrid)\n",
    "                        cis[loc] = np.trapz(pdf[ind], x=redshiftGrid[ind])\n",
    "\n",
    "                confFractions /= binnobj[None, :]\n",
    "                bias_nz /= binnobj\n",
    "                for i in range(numZbins):\n",
    "                    if stackedPdfs[:, i].sum():\n",
    "                        bias_nz[i] -= np.average(redshiftGrid,\n",
    "                                                 weights=stackedPdfs[:, i])\n",
    "                ind = binnobj > 0\n",
    "                bias_zmap /= binnobj\n",
    "                bias_zmean /= binnobj\n",
    "                print(\"\\n\")\n",
    "                print(' ==============================================================================\\n')\n",
    "                print(\"  ellSTD\", ellPriorSigma,\n",
    "                      \"fluxError\", extraFracFluxError,\n",
    "                      \"V_C\", V_C, \"zSTD\", redshiftSigma)\n",
    "                cis_pdf, e = np.histogram(cis, 50, range=[0, 1])\n",
    "                cis_pdfcum = np.cumsum(cis_pdf) / np.sum(cis_pdf)\n",
    "                print(\"-------------------------------->>  %.3g\"\n",
    "                      % (np.max(np.abs(np.abs(e[1:] - cis_pdfcum)))))\n",
    "                print(\">>\", end=\"\")\n",
    "                for i in range(numZbins):\n",
    "                    ind2 = zmeanBinLocs == i\n",
    "                    if ind2.sum() > 2:\n",
    "                        cis_pdf, e = np.histogram(cis[ind2], 50, range=[0, 1])\n",
    "                        cis_pdfcum = np.cumsum(cis_pdf) / np.sum(cis_pdf)\n",
    "                        print(\"  %.3g\" % (np.max(np.abs(e[1:] - cis_pdfcum))),\n",
    "                              end=\" \")\n",
    "                print(\"\")\n",
    "                print(' >>>> mean z bias %.3g'\\\n",
    "                % np.abs(bias_zmean[ind]).mean(),\\\n",
    "                 'mean N(z) bias %.3g' % np.abs(bias_nz[ind]).mean(), ' <<<<')\n",
    "                \n",
    "                print(' >>>> max z bias %.3g'\\\n",
    "                % np.abs(bias_zmean[ind]).max(),\\\n",
    "                'max N(z) bias %.3g' % np.abs(bias_nz[ind]).max(), ' <<<<')\n",
    "                print(' > bias_zmap : ',\\\n",
    "                '  '.join(['%.3g' % x for x in bias_zmap]))\n",
    "                print(' > z bias : ',\\\n",
    "                '  '.join([('%.3g' % x) if np.isfinite(x) else '.' for x in bias_zmean]))\n",
    "                print(' > nzbias : ',\\\n",
    "                '  '.join([('%.3g' % x) if np.isfinite(x) else '.' for x in bias_nz]))\n",
    "                print(' --------------------------------\\n')\n",
    "                for i in range(numConfLevels):\n",
    "                    print(' >', params['confidenceLevels'][i],\\\n",
    "                    ' :: ', '  '.join([('%.3g' % x) if np.isfinite(x) else '.' for x in confFractions[i, :]]))\n",
    "                print(' ==================================================================================\\n')\n"
   ]
  },
  {
   "cell_type": "code",
   "execution_count": null,
   "id": "raised-extent",
   "metadata": {},
   "outputs": [],
   "source": []
  }
 ],
 "metadata": {
  "kernelspec": {
   "display_name": "Python 3",
   "language": "python",
   "name": "python3"
  },
  "language_info": {
   "codemirror_mode": {
    "name": "ipython",
    "version": 3
   },
   "file_extension": ".py",
   "mimetype": "text/x-python",
   "name": "python",
   "nbconvert_exporter": "python",
   "pygments_lexer": "ipython3",
   "version": "3.8.8"
  }
 },
 "nbformat": 4,
 "nbformat_minor": 5
}
