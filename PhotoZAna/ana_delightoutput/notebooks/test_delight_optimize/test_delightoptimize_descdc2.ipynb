{
 "cells": [
  {
   "cell_type": "markdown",
   "id": "98d5d602",
   "metadata": {},
   "source": [
    "# Test Delight Optimize for DC2 data"
   ]
  },
  {
   "cell_type": "markdown",
   "id": "bcd4913f",
   "metadata": {},
   "source": [
    "- author : Sylvie Dagoret-Campagne\n",
    "\n",
    "- affiliation : IJCLab/IN2P3/CNRS\n",
    "- creation date : March 17th 2021\n",
    "- update : April 4th 2021"
   ]
  },
  {
   "cell_type": "code",
   "execution_count": 3,
   "id": "8e4f7748",
   "metadata": {},
   "outputs": [],
   "source": [
    "%matplotlib inline\n",
    "import numpy as np\n",
    "import matplotlib.pyplot as plt\n",
    "import scipy.stats\n",
    "import sys\n",
    "sys.path.append('../')\n",
    "from delight.io import *\n",
    "from delight.utils import *\n",
    "from delight.photoz_gp import PhotozGP\n",
    "from delight.utils_cy import approx_flux_likelihood_cy\n",
    "from time import time"
   ]
  },
  {
   "cell_type": "code",
   "execution_count": 4,
   "id": "782da6a2",
   "metadata": {},
   "outputs": [],
   "source": [
    "from mpi4py import MPI\n",
    "from delight.photoz_kernels import Photoz_mean_function, Photoz_kernel"
   ]
  },
  {
   "cell_type": "code",
   "execution_count": 5,
   "id": "998a73d3",
   "metadata": {},
   "outputs": [],
   "source": [
    "logger = logging.getLogger(__name__)\n",
    "coloredlogs.install(level='DEBUG', logger=logger,fmt='%(asctime)s,%(msecs)03d %(programname)s, %(name)s[%(process)d] %(levelname)s %(message)s')"
   ]
  },
  {
   "cell_type": "code",
   "execution_count": 6,
   "id": "7e050777",
   "metadata": {},
   "outputs": [],
   "source": [
    "plt.rcParams[\"figure.figsize\"] = (6,4)\n",
    "plt.rcParams[\"axes.labelsize\"] = 'xx-large'\n",
    "plt.rcParams['axes.titlesize'] = 'xx-large'\n",
    "plt.rcParams['xtick.labelsize']= 'xx-large'\n",
    "plt.rcParams['ytick.labelsize']= 'xx-large'"
   ]
  },
  {
   "cell_type": "markdown",
   "id": "024d603a",
   "metadata": {},
   "source": [
    "# Configuration\n",
    "\n",
    "- select if want to control Delight internal simulation or DC2"
   ]
  },
  {
   "cell_type": "code",
   "execution_count": 7,
   "id": "0f1a7d6a",
   "metadata": {},
   "outputs": [],
   "source": [
    "FLAG_DC2=True"
   ]
  },
  {
   "cell_type": "code",
   "execution_count": 8,
   "id": "a1e0fe19",
   "metadata": {},
   "outputs": [],
   "source": [
    "if FLAG_DC2:\n",
    "    configfilename='tmp/parametersTest.cfg'\n",
    "else:\n",
    "    configfilename='tmpsim/parametersTest.cfg'"
   ]
  },
  {
   "cell_type": "code",
   "execution_count": 9,
   "id": "cf6d0241",
   "metadata": {},
   "outputs": [],
   "source": [
    "configfileparamdir=\"tmp\"\n",
    "configfilerootname=\"parametersTest_\"\n",
    "Nconfigfilenum = 21"
   ]
  },
  {
   "cell_type": "code",
   "execution_count": 10,
   "id": "4a84f586",
   "metadata": {},
   "outputs": [],
   "source": [
    "configFileList = []\n",
    "\n",
    "for idx in np.arange(1,Nconfigfilenum+1):\n",
    "    configfilename=configfilerootname+str(idx)+\".cfg\"\n",
    "    configfullfilename = os.path.join(configfileparamdir,configfilename)\n",
    "    configFileList.append(configfullfilename)"
   ]
  },
  {
   "cell_type": "markdown",
   "id": "7e8af2c9",
   "metadata": {},
   "source": [
    "# Load config and data"
   ]
  },
  {
   "cell_type": "code",
   "execution_count": 7,
   "id": "d0ddc944",
   "metadata": {},
   "outputs": [
    {
     "name": "stderr",
     "output_type": "stream",
     "text": [
      "2021-07-14 18:39:42,067 ipykernel_launcher.py, __main__[454] INFO --- DELIGHT-OPTIMIZE ---\n"
     ]
    }
   ],
   "source": [
    "params = parseParamFile(configfilename, verbose=False)\n",
    "\n",
    "\n",
    "comm = MPI.COMM_WORLD\n",
    "threadNum = comm.Get_rank()\n",
    "numThreads = comm.Get_size()\n",
    "\n",
    "\n",
    "if threadNum == 0:\n",
    "    #print(\"--- DELIGHT-APPLY ---\")\n",
    "    logger.info(\"--- DELIGHT-OPTIMIZE ---\")\n",
    "\n"
   ]
  },
  {
   "cell_type": "markdown",
   "id": "4233b27d",
   "metadata": {},
   "source": [
    "## Read filter coefficients, compute normalization of filters"
   ]
  },
  {
   "cell_type": "code",
   "execution_count": 8,
   "id": "49eb0ec0",
   "metadata": {},
   "outputs": [],
   "source": [
    "# Read filter coefficients, compute normalization of filters\n",
    "bandCoefAmplitudes, bandCoefPositions, bandCoefWidths, norms\\\n",
    "    = readBandCoefficients(params)\n",
    "numBands = bandCoefAmplitudes.shape[0]"
   ]
  },
  {
   "cell_type": "markdown",
   "id": "9ad6f595",
   "metadata": {},
   "source": [
    "## Read SED"
   ]
  },
  {
   "cell_type": "code",
   "execution_count": 9,
   "id": "4987cbfd",
   "metadata": {},
   "outputs": [],
   "source": [
    "redshiftDistGrid, redshiftGrid, redshiftGridGP = createGrids(params)\n",
    "f_mod = readSEDs(params)\n",
    "DL = approx_DL()"
   ]
  },
  {
   "cell_type": "markdown",
   "id": "4bb86a96",
   "metadata": {},
   "source": [
    "## Load Model"
   ]
  },
  {
   "cell_type": "code",
   "execution_count": 10,
   "id": "613fb043",
   "metadata": {},
   "outputs": [],
   "source": [
    "dir_seds = params['templates_directory']\n",
    "dir_filters = params['bands_directory']\n",
    "lambdaRef = params['lambdaRef']\n",
    "sed_names = params['templates_names']\n",
    "f_mod_grid = np.zeros((redshiftGrid.size, len(sed_names),\n",
    "                       len(params['bandNames'])))\n",
    "for t, sed_name in enumerate(sed_names):\n",
    "    f_mod_grid[:, t, :] = np.loadtxt(dir_seds + '/' + sed_name +\n",
    "                                     '_fluxredshiftmod.txt')\n"
   ]
  },
  {
   "cell_type": "markdown",
   "id": "f8608313",
   "metadata": {},
   "source": [
    "## Check config"
   ]
  },
  {
   "cell_type": "code",
   "execution_count": 11,
   "id": "aa53a5f7",
   "metadata": {},
   "outputs": [
    {
     "name": "stdout",
     "output_type": "stream",
     "text": [
      "Number of Training Objects 3755\n",
      "Number of Target Objects 10692\n"
     ]
    },
    {
     "name": "stderr",
     "output_type": "stream",
     "text": [
      "/tmp/ipykernel_454/2030800343.py:4: DeprecationWarning: Calling np.sum(generator) is deprecated, and in the future will give a different result. Use np.sum(np.fromiter(generator)) or the python sum builtin instead.\n",
      "  numObjectsTraining = np.sum(1 for line in open(params['training_catFile']))\n",
      "/tmp/ipykernel_454/2030800343.py:5: DeprecationWarning: Calling np.sum(generator) is deprecated, and in the future will give a different result. Use np.sum(np.fromiter(generator)) or the python sum builtin instead.\n",
      "  numObjectsTarget = np.sum(1 for line in open(params['target_catFile']))\n"
     ]
    }
   ],
   "source": [
    "numZbins = redshiftDistGrid.size - 1\n",
    "numZ = redshiftGrid.size\n",
    "numConfLevels = len(params['confidenceLevels'])\n",
    "numObjectsTraining = np.sum(1 for line in open(params['training_catFile']))\n",
    "numObjectsTarget = np.sum(1 for line in open(params['target_catFile']))\n",
    "print('Number of Training Objects', numObjectsTraining)\n",
    "print('Number of Target Objects', numObjectsTarget)"
   ]
  },
  {
   "cell_type": "markdown",
   "id": "c1dc72ad",
   "metadata": {},
   "source": [
    "## Optimize"
   ]
  },
  {
   "cell_type": "code",
   "execution_count": null,
   "id": "f33a555f",
   "metadata": {},
   "outputs": [],
   "source": [
    "for ellPriorSigma in [1.0, 10.0]:\n",
    "    alpha_C = 1e3\n",
    "    alpha_L = 1e2\n",
    "    V_C, V_L = 1.0, 1.0\n",
    "    gp = PhotozGP(\n",
    "        f_mod,\n",
    "        bandCoefAmplitudes, bandCoefPositions, bandCoefWidths,\n",
    "        params['lines_pos'], params['lines_width'],\n",
    "        V_C, V_L, alpha_C, alpha_L,\n",
    "        redshiftGridGP, use_interpolators=True)\n",
    "\n",
    "    for extraFracFluxError in [1e-2]:\n",
    "        redshifts = np.zeros((numObjectsTraining, ))\n",
    "        bestTypes = np.zeros((numObjectsTraining, ), dtype=int)\n",
    "        ellMLs = np.zeros((numObjectsTraining, ))\n",
    "        model_mean = np.zeros((numZ, numObjectsTraining, numBands))\n",
    "        model_covar = np.zeros((numZ, numObjectsTraining, numBands))\n",
    "        # params['training_extraFracFluxError'] = extraFracFluxError\n",
    "        params['target_extraFracFluxError'] = extraFracFluxError\n",
    "\n",
    "        for V_C in [0.1, 1.0]:\n",
    "\n",
    "            gp.var_C = V_C\n",
    "            gp.var_L = V_L\n",
    "            loc = - 1\n",
    "            trainingDataIter = getDataFromFile(\n",
    "                params, 0, numObjectsTraining,\n",
    "                prefix=\"training_\", getXY=True)\n",
    "            for z, normedRefFlux, bands, fluxes,\\\n",
    "                fluxesVar, bCV, fCV, fvCV, X, Y, Yvar\\\n",
    "                    in trainingDataIter:\n",
    "                loc += 1\n",
    "                redshifts[loc] = z\n",
    "                themod = np.zeros((1, f_mod_grid.shape[1], bands.size))\n",
    "                for it in range(f_mod_grid.shape[1]):\n",
    "                    for ib, band in enumerate(bands):\n",
    "                        themod[0, it, ib] = np.interp(z, redshiftGrid,\n",
    "                                                      f_mod_grid[:, it, band])\n",
    "                chi2_grid, theellMLs = scalefree_flux_likelihood(\n",
    "                    fluxes,\n",
    "                    fluxesVar,\n",
    "                    themod,\n",
    "                    returnChi2=True\n",
    "                )\n",
    "                bestTypes[loc] = np.argmin(chi2_grid)\n",
    "                ellMLs[loc] = theellMLs[0, bestTypes[loc]]\n",
    "                X[:, 2] = ellMLs[loc]\n",
    "                gp.setData(X, Y, Yvar, bestTypes[loc])\n",
    "                model_mean[:, loc, :], model_covar[:, loc, :] =\\\n",
    "                    gp.predictAndInterpolate(redshiftGrid, ell=ellMLs[loc])\n",
    "\n",
    "            for redshiftSigma in [0.1, 1.0]:\n",
    "\n",
    "                loc = - 1\n",
    "                targetDataIter = getDataFromFile(params, 0, numObjectsTarget,\n",
    "                                                 prefix=\"target_\", getXY=False)\n",
    "\n",
    "                bias_zmap = np.zeros((redshiftDistGrid.size, ))\n",
    "                bias_zmean = np.zeros((redshiftDistGrid.size, ))\n",
    "                confFractions = np.zeros((numConfLevels,\n",
    "                                          redshiftDistGrid.size))\n",
    "                binnobj = np.zeros((redshiftDistGrid.size, ))\n",
    "                bias_nz = np.zeros((redshiftDistGrid.size, ))\n",
    "                stackedPdfs = np.zeros((redshiftGrid.size,\n",
    "                                        redshiftDistGrid.size))\n",
    "                cis = np.zeros((numObjectsTarget, ))\n",
    "                zmeanBinLocs = np.zeros((numObjectsTarget, ), dtype=int)\n",
    "                for z, normedRefFlux, bands, fluxes, fluxesVar, bCV, fCV, fvCV\\\n",
    "                        in targetDataIter:\n",
    "                    loc += 1\n",
    "                    like_grid = np.zeros((model_mean.shape[0],\n",
    "                                          model_mean.shape[1]))\n",
    "                    ell_hat_z = normedRefFlux * 4 * np.pi\\\n",
    "                        * params['fluxLuminosityNorm'] \\\n",
    "                        * (DL(redshiftGrid)**2. * (1+redshiftGrid))\n",
    "                    ell_hat_z[:] = 1\n",
    "                    approx_flux_likelihood_cy(\n",
    "                        like_grid,\n",
    "                        model_mean.shape[0], model_mean.shape[1], bands.size,\n",
    "                        fluxes, fluxesVar,\n",
    "                        model_mean[:, :, bands],\n",
    "                        V_C*model_covar[:, :, bands],\n",
    "                        ell_hat_z, (ell_hat_z*ellPriorSigma)**2)\n",
    "                    like_grid *= np.exp(-0.5*((redshiftGrid[:, None] -\n",
    "                                               redshifts[None, :]) /\n",
    "                                              redshiftSigma)**2)\n",
    "                    pdf = like_grid.sum(axis=1)\n",
    "                    if pdf.sum() == 0:\n",
    "                        print(\"NULL PDF with galaxy\", loc)\n",
    "                    if pdf.sum() > 0:\n",
    "                        metrics\\\n",
    "                            = computeMetrics(z, redshiftGrid, pdf,\n",
    "                                             params['confidenceLevels'])\n",
    "                        ztrue, zmean, zstdzmean, zmap, zstdzmean,\\\n",
    "                            pdfAtZ, cumPdfAtZ = metrics[0:7]\n",
    "                        confidencelevels = metrics[7:]\n",
    "                        zmeanBinLoc = -1\n",
    "                        for i in range(numZbins):\n",
    "                            if zmean >= redshiftDistGrid[i]\\\n",
    "                                    and zmean < redshiftDistGrid[i+1]:\n",
    "                                zmeanBinLoc = i\n",
    "                                bias_zmap[i] += ztrue - zmap\n",
    "                                bias_zmean[i] += ztrue - zmean\n",
    "                                binnobj[i] += 1\n",
    "                                bias_nz[i] += ztrue\n",
    "                        zmeanBinLocs[loc] = zmeanBinLoc\n",
    "                        for i in range(numConfLevels):\n",
    "                            if pdfAtZ >= confidencelevels[i]:\n",
    "                                confFractions[i, zmeanBinLoc] += 1\n",
    "                        stackedPdfs[:, zmeanBinLoc]\\\n",
    "                            += pdf / numObjectsTraining\n",
    "                        ind = pdf >= pdfAtZ\n",
    "                        pdf /= np.trapz(pdf, x=redshiftGrid)\n",
    "                        cis[loc] = np.trapz(pdf[ind], x=redshiftGrid[ind])\n",
    "\n",
    "                confFractions /= binnobj[None, :]\n",
    "                bias_nz /= binnobj\n",
    "                for i in range(numZbins):\n",
    "                    if stackedPdfs[:, i].sum():\n",
    "                        bias_nz[i] -= np.average(redshiftGrid,\n",
    "                                                 weights=stackedPdfs[:, i])\n",
    "                ind = binnobj > 0\n",
    "                bias_zmap /= binnobj\n",
    "                bias_zmean /= binnobj\n",
    "                print(\"\\n\")\n",
    "                print(' ==============================================================================\\n')\n",
    "                print(\"  ellSTD\", ellPriorSigma,\n",
    "                      \"fluxError\", extraFracFluxError,\n",
    "                      \"V_C\", V_C, \"zSTD\", redshiftSigma)\n",
    "                cis_pdf, e = np.histogram(cis, 50, range=[0, 1])\n",
    "                cis_pdfcum = np.cumsum(cis_pdf) / np.sum(cis_pdf)\n",
    "                print(\"-------------------------------->>  %.3g\"\n",
    "                      % (np.max(np.abs(np.abs(e[1:] - cis_pdfcum)))))\n",
    "                print(\">>\", end=\"\")\n",
    "                for i in range(numZbins):\n",
    "                    ind2 = zmeanBinLocs == i\n",
    "                    if ind2.sum() > 2:\n",
    "                        cis_pdf, e = np.histogram(cis[ind2], 50, range=[0, 1])\n",
    "                        cis_pdfcum = np.cumsum(cis_pdf) / np.sum(cis_pdf)\n",
    "                        print(\"  %.3g\" % (np.max(np.abs(e[1:] - cis_pdfcum))),\n",
    "                              end=\" \")\n",
    "                print(\"\")\n",
    "                print(' >>>> mean z bias %.3g'\\\n",
    "                % np.abs(bias_zmean[ind]).mean(),\\\n",
    "                 'mean N(z) bias %.3g' % np.abs(bias_nz[ind]).mean(), ' <<<<')\n",
    "                \n",
    "                print(' >>>> max z bias %.3g'\\\n",
    "                % np.abs(bias_zmean[ind]).max(),\\\n",
    "                'max N(z) bias %.3g' % np.abs(bias_nz[ind]).max(), ' <<<<')\n",
    "                print(' > bias_zmap : ',\\\n",
    "                '  '.join(['%.3g' % x for x in bias_zmap]))\n",
    "                print(' > z bias : ',\\\n",
    "                '  '.join([('%.3g' % x) if np.isfinite(x) else '.' for x in bias_zmean]))\n",
    "                print(' > nzbias : ',\\\n",
    "                '  '.join([('%.3g' % x) if np.isfinite(x) else '.' for x in bias_nz]))\n",
    "                print(' --------------------------------\\n')\n",
    "                for i in range(numConfLevels):\n",
    "                    print(' >', params['confidenceLevels'][i],\\\n",
    "                    ' :: ', '  '.join([('%.3g' % x) if np.isfinite(x) else '.' for x in confFractions[i, :]]))\n",
    "                print(' ==================================================================================\\n')\n"
   ]
  },
  {
   "cell_type": "code",
   "execution_count": null,
   "id": "cfe3771a",
   "metadata": {},
   "outputs": [],
   "source": []
  }
 ],
 "metadata": {
  "kernelspec": {
   "display_name": "anaconda3pbs",
   "language": "python",
   "name": "anaconda3_pbs"
  },
  "language_info": {
   "codemirror_mode": {
    "name": "ipython",
    "version": 3
   },
   "file_extension": ".py",
   "mimetype": "text/x-python",
   "name": "python",
   "nbconvert_exporter": "python",
   "pygments_lexer": "ipython3",
   "version": "3.8.8"
  }
 },
 "nbformat": 4,
 "nbformat_minor": 5
}
