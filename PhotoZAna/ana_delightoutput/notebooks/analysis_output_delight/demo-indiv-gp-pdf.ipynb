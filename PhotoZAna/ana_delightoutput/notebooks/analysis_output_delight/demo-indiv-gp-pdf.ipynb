{
 "cells": [
  {
   "cell_type": "markdown",
   "id": "active-illustration",
   "metadata": {},
   "source": [
    "# demo indiv GP pdf"
   ]
  },
  {
   "cell_type": "code",
   "execution_count": 1,
   "id": "combined-cycling",
   "metadata": {},
   "outputs": [],
   "source": [
    "import sys\n",
    "import numpy as np\n",
    "import itertools\n",
    "from delight.io import *\n",
    "from delight.utils import *\n",
    "from delight.photoz_gp import PhotozGP\n",
    "from scipy.interpolate import interp1d\n",
    "import matplotlib.pyplot as plt\n",
    "from matplotlib.ticker import FormatStrFormatter\n",
    "\n",
    "%matplotlib inline"
   ]
  },
  {
   "cell_type": "code",
   "execution_count": 2,
   "id": "conditional-march",
   "metadata": {},
   "outputs": [
    {
     "name": "stdout",
     "output_type": "stream",
     "text": [
      "delight_data  parametersTest.cfg\r\n"
     ]
    }
   ],
   "source": [
    "!ls tmpsim"
   ]
  },
  {
   "cell_type": "code",
   "execution_count": 3,
   "id": "framed-european",
   "metadata": {},
   "outputs": [],
   "source": [
    "configfilename=\"tmpsim/parametersTest.cfg\""
   ]
  },
  {
   "cell_type": "code",
   "execution_count": 4,
   "id": "presidential-nickname",
   "metadata": {},
   "outputs": [
    {
     "name": "stderr",
     "output_type": "stream",
     "text": [
      "2021-04-05 11:51:15,587 ipykernel_launcher.py, delight.io[83] WARNING Input parameter file:tmpsim/parametersTest.cfg\n",
      "2021-04-05 11:51:15,589 ipykernel_launcher.py, delight.io[83] WARNING Parameters read:\n"
     ]
    },
    {
     "name": "stdout",
     "output_type": "stream",
     "text": [
      ">  rootDir              ./\n",
      ">  bands_directory      /home/ubuntu/.local/lib/python3.8/site-packages/delight/../data/FILTERS\n",
      ">  bandNames            lsst_u lsst_g lsst_r lsst_i lsst_z lsst_y\n",
      ">  numCoefs             15\n",
      ">  bands_verbose        True\n",
      ">  bands_debug          True\n",
      ">  bands_makeplots      False\n",
      ">  templates_directory  /home/ubuntu/.local/lib/python3.8/site-packages/delight/../data/CWW_SEDs\n",
      ">  lambdaRef            4500.0\n",
      ">  templates_names      El_B2004a Sbc_B2004a Scd_B2004a SB3_B2004a SB2_B2004a Im_B2004a ssp_25Myr_z008 ssp_5Myr_z008\n",
      ">  p_t                  [0.27   0.26   0.25   0.069  0.021  0.11   0.0061 0.0079]\n",
      ">  p_z_t                [0.23 0.39 0.33 0.31 1.1  0.34 1.2  0.14]\n",
      ">  templates_verbose    False\n",
      ">  templates_debug      False\n",
      ">  training_numChunks   1\n",
      ">  training_paramFile   ./tmpsim/delight_data/galaxies-gpparams.txt\n",
      ">  training_catFile     ./tmpsim/delight_data/galaxies-fluxredshifts.txt\n",
      ">  training_referenceBand lsst_i\n",
      ">  training_bandOrder   lsst_u lsst_u_var lsst_g lsst_g_var lsst_r lsst_r_var lsst_i lsst_i_var lsst_z lsst_z_var lsst_y lsst_y_var redshift\n",
      ">  training_extraFracFluxError 0.0001\n",
      ">  training_crossValidate False\n",
      ">  training_CV_bandOrder _ _ _ _ lsst_r lsst_r_var _ _ _ _ _ _\n",
      ">  training_CVfile      ./tmpsim/delight_data/galaxies-gpCV.txt\n",
      ">  trainingFile         ./tmpsim/delight_data/galaxies-fluxredshifts.txt\n",
      ">  targetFile           ./tmpsim/delight_data/galaxies-fluxredshifts2.txt\n",
      ">  numObjects           1000\n",
      ">  noiseLevel           0.03\n",
      ">  target_extraFracFluxError 0.0001\n",
      ">  target_catFile       ./tmpsim/delight_data/galaxies-fluxredshifts2.txt\n",
      ">  target_bandOrder     lsst_u lsst_u_var lsst_g lsst_g_var lsst_r lsst_r_var lsst_i lsst_i_var lsst_z lsst_z_var lsst_y lsst_y_var redshift\n",
      ">  target_referenceBand lsst_r\n",
      ">  compressIndicesFile  ./tmpsim/delight_data/galaxies-compressionIndices.txt\n",
      ">  compressMargLikFile  ./tmpsim/delight_data/galaxies-compressionMargLikes.txt\n",
      ">  compressionFilesFound False\n",
      ">  Ncompress            10\n",
      ">  useCompression       False\n",
      ">  redshiftpdfFile      ./tmpsim/delight_data/galaxies-redshiftpdfs.txt\n",
      ">  redshiftpdfFileComp  ./tmpsim/delight_data/galaxies-redshiftpdfs-comp.txt\n",
      ">  redshiftpdfFileTemp  ./tmpsim/delight_data/galaxies-redshiftpdfs-cww.txt\n",
      ">  metricsFile          ./tmpsim/delight_data/galaxies-redshiftmetrics.txt\n",
      ">  metricsFileTemp      ./tmpsim/delight_data/galaxies-redshiftmetrics-cww.txt\n",
      ">  zPriorSigma          0.2\n",
      ">  ellPriorSigma        0.5\n",
      ">  fluxLuminosityNorm   1.0\n",
      ">  alpha_C              1000.0\n",
      ">  alpha_L              100.0\n",
      ">  V_C                  0.1\n",
      ">  V_L                  0.1\n",
      ">  redshiftMin          0.01\n",
      ">  redshiftMax          3.01\n",
      ">  redshiftBinSize      0.01\n",
      ">  redshiftNumBinsGPpred 300\n",
      ">  redshiftDisBinSize   0.2\n",
      ">  lines_pos            6500.0 5002.26 3732.22\n",
      ">  lines_width          20.0 20.0 20.0 20.0\n",
      ">  confidenceLevels     0.1 0.5 0.68 0.95\n"
     ]
    }
   ],
   "source": [
    "params = parseParamFile(configfilename, verbose=True)"
   ]
  },
  {
   "cell_type": "code",
   "execution_count": 5,
   "id": "lyric-reputation",
   "metadata": {},
   "outputs": [
    {
     "name": "stdout",
     "output_type": "stream",
     "text": [
      "Number of Training Objects 1000\n"
     ]
    },
    {
     "name": "stderr",
     "output_type": "stream",
     "text": [
      "<ipython-input-5-e48178789b1f>:8: DeprecationWarning: Calling np.sum(generator) is deprecated, and in the future will give a different result. Use np.sum(np.fromiter(generator)) or the python sum builtin instead.\n",
      "  numObjectsTraining = np.sum(1 for line in open(params['training_catFile']))\n"
     ]
    }
   ],
   "source": [
    "#Read filter coefficients, compute normalization of filters\n",
    "bandCoefAmplitudes, bandCoefPositions, bandCoefWidths, norms = readBandCoefficients(params)\n",
    "numBands = bandCoefAmplitudes.shape[0]\n",
    "\n",
    "redshiftDistGrid, redshiftGrid, redshiftGridGP = createGrids(params)\n",
    "f_mod = readSEDs(params)\n",
    "\n",
    "numObjectsTraining = np.sum(1 for line in open(params['training_catFile']))\n",
    "print('Number of Training Objects', numObjectsTraining)"
   ]
  },
  {
   "cell_type": "code",
   "execution_count": 6,
   "id": "mexican-exploration",
   "metadata": {},
   "outputs": [],
   "source": [
    "gp = PhotozGP(f_mod, bandCoefAmplitudes, bandCoefPositions, bandCoefWidths,\n",
    "              params['lines_pos'], params['lines_width'],\n",
    "              params['V_C'], params['V_L'],\n",
    "              params['alpha_C'], params['alpha_L'],\n",
    "              redshiftGridGP, use_interpolators=True)"
   ]
  },
  {
   "cell_type": "code",
   "execution_count": 7,
   "id": "emotional-alpha",
   "metadata": {},
   "outputs": [],
   "source": [
    "numZ = redshiftGrid.size\n",
    "all_z = np.zeros((numObjectsTraining, ))\n",
    "all_fluxes = np.zeros((numObjectsTraining, numBands))\n",
    "all_fluxes_var = np.zeros((numObjectsTraining, numBands))\n",
    "bestTypes = np.zeros((numObjectsTraining, ), dtype=int)\n",
    "model_mean = np.zeros((numZ, numObjectsTraining, numBands))\n",
    "model_covar = np.zeros((numZ, numObjectsTraining, numBands))\n",
    "bandIndices_TRN, bandNames_TRN, bandColumns_TRN,bandVarColumns_TRN, redshiftColumn_TRN,\\\n",
    "    refBandColumn_TRN = readColumnPositions(params, prefix='training_')\n",
    "bandIndices, bandNames, bandColumns,\\\n",
    "    bandVarColumns, redshiftColumn,\\\n",
    "    refBandColumn = readColumnPositions(params, prefix='target_')\n",
    "bandNames = params['bandNames']\n",
    "Ncompress = params['Ncompress']"
   ]
  },
  {
   "cell_type": "code",
   "execution_count": 8,
   "id": "elect-interval",
   "metadata": {},
   "outputs": [],
   "source": [
    "dir_seds = params['templates_directory']\n",
    "dir_filters = params['bands_directory']\n",
    "lambdaRef = params['lambdaRef']\n",
    "sed_names = params['templates_names']\n",
    "f_mod = np.zeros((redshiftGrid.size, len(sed_names),\n",
    "                  len(params['bandNames'])))\n",
    "for t, sed_name in enumerate(sed_names):\n",
    "    f_mod[:, t, :] = np.loadtxt(dir_seds + '/' + sed_name +\n",
    "                                '_fluxredshiftmod.txt')"
   ]
  },
  {
   "cell_type": "code",
   "execution_count": 9,
   "id": "aware-flooring",
   "metadata": {},
   "outputs": [],
   "source": [
    "loc = - 1\n",
    "trainingDataIter = getDataFromFile(params, 0, numObjectsTraining,\n",
    "                                   prefix=\"training_\", getXY=True)\n",
    "targetDataIter = getDataFromFile(params, 0, numObjectsTraining,\n",
    "                                 prefix=\"target_\", getXY=False)"
   ]
  },
  {
   "cell_type": "code",
   "execution_count": 10,
   "id": "usual-assembly",
   "metadata": {},
   "outputs": [
    {
     "ename": "AttributeError",
     "evalue": "'PhotozGP' object has no attribute 'drawSED'",
     "output_type": "error",
     "traceback": [
      "\u001b[0;31m\u001b[0m",
      "\u001b[0;31mAttributeError\u001b[0mTraceback (most recent call last)",
      "\u001b[0;32m<ipython-input-10-814b228756e5>\u001b[0m in \u001b[0;36m<module>\u001b[0;34m\u001b[0m\n\u001b[1;32m     44\u001b[0m                             \u001b[0myerr\u001b[0m\u001b[0;34m=\u001b[0m\u001b[0mnp\u001b[0m\u001b[0;34m.\u001b[0m\u001b[0msqrt\u001b[0m\u001b[0;34m(\u001b[0m\u001b[0mYvar\u001b[0m\u001b[0;34m[\u001b[0m\u001b[0mi\u001b[0m\u001b[0;34m,\u001b[0m \u001b[0;36m0\u001b[0m\u001b[0;34m]\u001b[0m\u001b[0;34m)\u001b[0m\u001b[0;34m,\u001b[0m \u001b[0mxerr\u001b[0m\u001b[0;34m=\u001b[0m\u001b[0;36m1.5\u001b[0m\u001b[0;34m*\u001b[0m\u001b[0mfilterStdWav\u001b[0m\u001b[0;34m[\u001b[0m\u001b[0mi\u001b[0m\u001b[0;34m]\u001b[0m\u001b[0;34m,\u001b[0m\u001b[0;34m\u001b[0m\u001b[0;34m\u001b[0m\u001b[0m\n\u001b[1;32m     45\u001b[0m                             fmt='-o', markersize=5, color='k', lw=2)\n\u001b[0;32m---> 46\u001b[0;31m         \u001b[0msed\u001b[0m\u001b[0;34m,\u001b[0m \u001b[0mfac\u001b[0m\u001b[0;34m,\u001b[0m \u001b[0mcov\u001b[0m\u001b[0;34m,\u001b[0m \u001b[0mfilters\u001b[0m \u001b[0;34m=\u001b[0m \u001b[0mgp\u001b[0m\u001b[0;34m.\u001b[0m\u001b[0mdrawSED\u001b[0m\u001b[0;34m(\u001b[0m\u001b[0mz\u001b[0m\u001b[0;34m,\u001b[0m \u001b[0mell\u001b[0m\u001b[0;34m,\u001b[0m \u001b[0mwavs\u001b[0m\u001b[0;34m)\u001b[0m\u001b[0;34m\u001b[0m\u001b[0;34m\u001b[0m\u001b[0m\n\u001b[0m\u001b[1;32m     47\u001b[0m         \u001b[0msed\u001b[0m \u001b[0;34m=\u001b[0m \u001b[0mnp\u001b[0m\u001b[0;34m.\u001b[0m\u001b[0minterp\u001b[0m\u001b[0;34m(\u001b[0m\u001b[0mwavs\u001b[0m\u001b[0;34m,\u001b[0m \u001b[0mfilterMidWav\u001b[0m\u001b[0;34m[\u001b[0m\u001b[0;34m:\u001b[0m\u001b[0;34m]\u001b[0m\u001b[0;34m,\u001b[0m \u001b[0mY\u001b[0m\u001b[0;34m[\u001b[0m\u001b[0;34m:\u001b[0m\u001b[0;34m,\u001b[0m \u001b[0;36m0\u001b[0m\u001b[0;34m]\u001b[0m\u001b[0;34m)\u001b[0m\u001b[0;34m\u001b[0m\u001b[0;34m\u001b[0m\u001b[0m\n\u001b[1;32m     48\u001b[0m         \u001b[0msedfluxes\u001b[0m \u001b[0;34m=\u001b[0m \u001b[0mnp\u001b[0m\u001b[0;34m.\u001b[0m\u001b[0mzeros\u001b[0m\u001b[0;34m(\u001b[0m\u001b[0;34m(\u001b[0m\u001b[0mbandIndices_TRN\u001b[0m\u001b[0;34m.\u001b[0m\u001b[0msize\u001b[0m\u001b[0;34m,\u001b[0m \u001b[0;34m)\u001b[0m\u001b[0;34m)\u001b[0m\u001b[0;34m\u001b[0m\u001b[0;34m\u001b[0m\u001b[0m\n",
      "\u001b[0;31mAttributeError\u001b[0m: 'PhotozGP' object has no attribute 'drawSED'"
     ]
    },
    {
     "data": {
      "image/png": "[encoded data removed]",
      "text/plain": [
       "<Figure size 576x432 with 2 Axes>"
      ]
     },
     "metadata": {
      "needs_background": "light"
     },
     "output_type": "display_data"
    }
   ],
   "source": [
    "for z, normedRefFlux, bands, fluxes, fluxesVar, bCV, fCV, fvCV, X, Y, Yvar\\\n",
    "        in trainingDataIter:\n",
    "    loc += 1\n",
    "\n",
    "    themod = np.zeros((1, f_mod.shape[1], bands.size))\n",
    "    for it in range(f_mod.shape[1]):\n",
    "        for ib, band in enumerate(bands):\n",
    "            themod[0, it, ib] = np.interp(z, redshiftGrid, f_mod[:, it, band])\n",
    "    chi2_grid = scalefree_flux_likelihood(\n",
    "        fluxes,\n",
    "        fluxesVar,\n",
    "        themod,\n",
    "        returnChi2=True\n",
    "    )\n",
    "    bestTypes[loc] = np.argmin(chi2_grid)\n",
    "    gp.setData(X, Y, Yvar, bestTypes[loc])\n",
    "\n",
    "    ell = gp.X[0, 2]\n",
    "    model_mean[:, loc, :], model_covar[:, loc, :]\\\n",
    "        = gp.predictAndInterpolate(redshiftGrid, ell=ell, z=z)\n",
    "    all_z[loc] = z\n",
    "    all_fluxes[loc, bands] = fluxes\n",
    "    all_fluxes_var[loc, bands] = fluxesVar\n",
    "\n",
    "    if True:\n",
    "        wavs = np.linspace(bandCoefPositions.min(),\n",
    "                           bandCoefPositions.max(), num=300)\n",
    "        fig, axs = plt.subplots(2, 1, figsize=(8, 6), sharex=True)\n",
    "        for mu in params['lines_pos']:\n",
    "            axs[0].axvline(mu*(1+z), c='gray', ls='dashed')\n",
    "        filterMidWav = 0*bandIndices_TRN\n",
    "        filterStdWav = 0*bandIndices_TRN\n",
    "        for i, ib in enumerate(bandIndices_TRN):\n",
    "            y = 0*wavs\n",
    "            for amp, mu, sig in zip(bandCoefAmplitudes[ib, :],\n",
    "                                    bandCoefPositions[ib, :],\n",
    "                                    bandCoefWidths[ib, :]):\n",
    "                y += amp * np.exp(-0.5*((wavs-mu)/sig)**2)\n",
    "            filterMidWav[i] = np.average(wavs, weights=y)\n",
    "            filterStdWav[i] = np.sqrt(\n",
    "                np.average((wavs-filterMidWav[i])**2, weights=y))\n",
    "            axs[1].plot(wavs, y, c='k')\n",
    "            axs[0].errorbar(filterMidWav[i], Y[i, 0],\n",
    "                            yerr=np.sqrt(Yvar[i, 0]), xerr=1.5*filterStdWav[i],\n",
    "                            fmt='-o', markersize=5, color='k', lw=2)\n",
    "        sed, fac, cov, filters = gp.drawSED(z, ell, wavs)\n",
    "        sed = np.interp(wavs, filterMidWav[:], Y[:, 0])\n",
    "        sedfluxes = np.zeros((bandIndices_TRN.size, ))\n",
    "        for i, ib in enumerate(bandIndices_TRN):\n",
    "            sedfluxes[i] = np.trapz(filters[ib]*sed, x=wavs) /\\\n",
    "                np.trapz(filters[ib], x=wavs)\n",
    "        lp = np.sum(-0.5*(sedfluxes - fluxes)**2/fluxesVar)\n",
    "        numsamples = 200\n",
    "        seds = np.zeros((numsamples, wavs.size))\n",
    "        off = 0\n",
    "        for i in range(numsamples):\n",
    "            sed_p = 1*sed +\\\n",
    "                fac * np.random.multivariate_normal(0*wavs, cov/10**2)\n",
    "            for i, ib in enumerate(bandIndices_TRN):\n",
    "                sedfluxes[i] = np.trapz(filters[ib]*sed_p, x=wavs) /\\\n",
    "                    np.trapz(filters[ib], x=wavs)\n",
    "            lp_prime = np.sum(-0.5*(sedfluxes - fluxes)**2/fluxesVar)\n",
    "            if np.random.rand() <= np.exp(lp_prime - lp):\n",
    "                sed = 1*sed_p\n",
    "                seds[off, :] = sed_p\n",
    "                off += 1\n",
    "                lp = 1*lp_prime\n",
    "        print(\"Number of accepted samples:\", off)\n",
    "        sedmean, sedstd = seds[:off, :].mean(axis=0), seds[:off, :].std(axis=0)\n",
    "        axs[0].plot(wavs, sedmean, c='b')\n",
    "        axs[0].fill_between(wavs, sedmean+sedstd, sedmean-sedstd,\n",
    "                            color='b', alpha=0.2)\n",
    "        for i in np.random.choice(off, 2, replace=False):\n",
    "            axs[0].plot(wavs, seds[i, :], c='k', alpha=0.3)\n",
    "        axs[0].set_ylabel('Flux')\n",
    "        axs[1].set_ylabel('Filters')\n",
    "        axs[1].set_xlabel('Wavelength')\n",
    "        # axs[0].set_yscale('log')\n",
    "        axs[1].set_xlim([wavs[0], wavs[-1]])\n",
    "        axs[1].set_ylim([0, 1.1*np.max(filters)])\n",
    "        axs[1].set_yticks([])\n",
    "        fig.tight_layout()\n",
    "        #fig.savefig('data/data-sed-'+str(loc)+'.png')\n",
    "        fig.savefig('data-sed-'+str(loc)+'.png')\n"
   ]
  },
  {
   "cell_type": "code",
   "execution_count": 21,
   "id": "apparent-basics",
   "metadata": {},
   "outputs": [],
   "source": [
    "p_t = params['p_t'][bestTypes][None, :]\n",
    "p_z_t = params['p_z_t'][bestTypes][None, :]\n",
    "\n",
    "prior = np.exp(-0.5*((redshiftGrid[:, None]-all_z[None, :]) /\n",
    "                     params['zPriorSigma'])**2)\n",
    "# prior[prior < 1e-6] = 0\n",
    "# prior *= p_t * redshiftGrid[:, None] *\n",
    "# np.exp(-0.5 * redshiftGrid[:, None]**2 / p_z_t) / p_z_t"
   ]
  },
  {
   "cell_type": "code",
   "execution_count": null,
   "id": "internal-moldova",
   "metadata": {},
   "outputs": [],
   "source": [
    "loc = -1\n",
    "for z, normedRefFlux, bands, fluxes, fluxesVar,\\\n",
    "        bCV, fCV, fvCV in targetDataIter:\n",
    "    loc += 1\n",
    "    fulllike_grid = approx_flux_likelihood(\n",
    "        fluxes,\n",
    "        fluxesVar,\n",
    "        model_mean[:, :, bands],\n",
    "        f_mod_covar=model_covar[:, :, bands],\n",
    "        marginalizeEll=True,\n",
    "        ell_hat=1, ell_var=params['ellPriorSigma']**2\n",
    "    )\n",
    "    fulllike_grid *= prior\n",
    "    evidences = np.trapz(fulllike_grid, x=redshiftGrid, axis=0)\n",
    "    sortind = np.argsort(evidences)[::-1][0:Ncompress]\n",
    "    like_grid = fulllike_grid.sum(axis=1)\n",
    "    like_grid_comp = fulllike_grid[:, sortind].sum(axis=1)\n",
    "    alllike_grid_cww = approx_flux_likelihood(\n",
    "        fluxes,\n",
    "        fluxesVar,\n",
    "        f_mod[:, :, bands],\n",
    "        marginalizeEll=True\n",
    "    )\n",
    "    besttype = np.argmax(alllike_grid_cww.sum(axis=0))\n",
    "    like_grid_cww = alllike_grid_cww.sum(axis=1)  # [:, besttype]\n",
    "    if like_grid.sum() > 0:\n",
    "        zphotmean = np.average(redshiftGrid, weights=like_grid)\n",
    "        if zphotmean > 0.0 and zphotmean < 2.5 and z < 2.8:\n",
    "\n",
    "            fig, ax = plt.subplots(1, 1, figsize=(7, 4))\n",
    "            for ii in sortind:\n",
    "                ax.plot(redshiftGrid, fulllike_grid[:, ii], c='gray', alpha=.6)\n",
    "            ax.plot(redshiftGrid, like_grid, c='k', lw=2, label='GP')\n",
    "            like_grid_cww = like_grid_cww * np.max(like_grid) /\\\n",
    "                np.max(like_grid_cww)\n",
    "            ax.plot(redshiftGrid, like_grid_cww,\n",
    "                    c='blue', lw=2, label='CWW')\n",
    "            ax.plot(redshiftGrid, like_grid_comp,\n",
    "                    c='r', ls='dashed', label='Compressed GP')\n",
    "            ax.axvline(z, c='orange', lw=2, ls='dashed', label='True redshift')\n",
    "\n",
    "            # ax.axvline(zphotmean, c='r', lw=2)\n",
    "            ax.set_ylabel('Likelihood')\n",
    "            ax.set_xlabel('Redshift')\n",
    "            ax.set_xlim([0, 2.])  # redshiftGrid[-1]])\n",
    "            ylimax = 1.3*np.max(np.concatenate((like_grid, like_grid_cww)))\n",
    "            ax.set_ylim([0, ylimax])\n",
    "            for ii in sortind:\n",
    "                ax.scatter(all_z[ii], ylimax*0.99, c='gray', marker='x', s=10)\n",
    "            ax.yaxis.set_major_formatter(FormatStrFormatter('%.2e'))\n",
    "            ax.legend(loc='upper right', frameon=False, ncol=2)\n",
    "            # ax.set_yscale('log')\n",
    "            fig.tight_layout()\n",
    "            #fig.savefig('data/data-pdfs-'+str(loc)+'.pdf')\n",
    "            fig.savefig('data-pdfs-'+str(loc)+'.pdf')\n",
    "\n",
    "            if True:\n",
    "                usedBands = list(np.unique(np.concatenate((\n",
    "                    bandIndices_TRN, bandIndices))))\n",
    "\n",
    "                fig, axs = plt.subplots(3, len(usedBands)//3 + 1,\n",
    "                                        figsize=(10, 5),\n",
    "                                        sharex=True, sharey=True)\n",
    "                axs = axs.ravel()\n",
    "                fac = redshiftGrid**2\n",
    "                ylims = [0.25*np.min(model_mean[2:-2, :, :] *\n",
    "                                     fac[2:-2, None, None]),\n",
    "                         2*np.max(model_mean[2:-2, :, :] *\n",
    "                                  fac[2:-2, None, None])]\n",
    "                for i, ib in enumerate(bands):\n",
    "                    pos = usedBands.index(ib)\n",
    "                    axs[pos].axvline(zphotmean, c='r', lw=2)\n",
    "                    axs[pos].axvline(z, c='k', lw=2)\n",
    "                    axs[pos].axhspan(fluxes[i] - np.sqrt(fluxesVar[i]),\n",
    "                                     fluxes[i] + np.sqrt(fluxesVar[i]),\n",
    "                                     color='k', alpha=0.4)\n",
    "                for i, ib in enumerate(usedBands):\n",
    "                    for t, sed_name in enumerate(sed_names):\n",
    "                        if t == besttype:\n",
    "                            fac = ell\n",
    "                            fac /= np.interp(z, redshiftGrid, f_mod[:, t, ib])\n",
    "                            axs[i].plot(redshiftGrid, f_mod[:, t, ib]*fac, 'k')\n",
    "                for ii in sortind:\n",
    "                    for i, ib in enumerate(bandIndices_TRN):\n",
    "                        if False and all_fluxes[ii, ib] > 0:\n",
    "                            pos = usedBands.index(ib)\n",
    "                            axs[pos].errorbar(all_z[ii], all_fluxes[ii, ib],\n",
    "                                              np.sqrt(all_fluxes_var[ii, ib]),\n",
    "                                              fmt='-o', markersize=5, alpha=.1)\n",
    "                    for i, ib in enumerate(usedBands):\n",
    "                        axs[i].set_title(bandNames[ib])\n",
    "                        axs[i].axvline(all_z[ii], c='gray', alpha=0.3)\n",
    "                        fac = ell /\\\n",
    "                            np.interp(z, redshiftGrid, model_mean[:, ii, ib])\n",
    "                        axs[i].fill_between(\n",
    "                            redshiftGrid,\n",
    "                            (model_mean[:, ii, ib] -\n",
    "                             np.sqrt(model_covar[:, ii, ib]))*fac,\n",
    "                            (model_mean[:, ii, ib] +\n",
    "                             np.sqrt(model_covar[:, ii, ib]))*fac,\n",
    "                            color='b', alpha=0.1)\n",
    "                        # axs[i].plot(redshiftGrid, model_mean[:, ii, ib],\n",
    "                        # c='b', alpha=0.1)\n",
    "                        axs[i].set_yscale('log')\n",
    "                        # axs[i].set_ylim(ylims)\n",
    "                        axs[i].set_xlim([redshiftGrid[0], redshiftGrid[-1]])\n",
    "\n",
    "                fig.tight_layout()\n",
    "                #fig.savefig('data/data-fluxes-'+str(loc)+'.pdf')\n",
    "                fig.savefig('data-fluxes-'+str(loc)+'.pdf')"
   ]
  },
  {
   "cell_type": "code",
   "execution_count": null,
   "id": "animal-midnight",
   "metadata": {},
   "outputs": [],
   "source": []
  }
 ],
 "metadata": {
  "kernelspec": {
   "display_name": "Python 3",
   "language": "python",
   "name": "python3"
  },
  "language_info": {
   "codemirror_mode": {
    "name": "ipython",
    "version": 3
   },
   "file_extension": ".py",
   "mimetype": "text/x-python",
   "name": "python",
   "nbconvert_exporter": "python",
   "pygments_lexer": "ipython3",
   "version": "3.8.8"
  }
 },
 "nbformat": 4,
 "nbformat_minor": 5
}
