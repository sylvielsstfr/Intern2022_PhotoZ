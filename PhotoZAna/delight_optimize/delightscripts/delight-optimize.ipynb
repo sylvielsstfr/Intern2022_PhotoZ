{
 "cells": [
  {
   "cell_type": "markdown",
   "id": "humanitarian-illinois",
   "metadata": {},
   "source": [
    "# Delight Optimize"
   ]
  },
  {
   "cell_type": "markdown",
   "id": "936d2c1a-95b5-4cb4-8fdd-4a2a9ec45764",
   "metadata": {},
   "source": [
    "- author : Sylvie Dagoret-Campagne\n",
    "- affiliation : IJCLab/IN2P3/CNES, DESC-LSST fullmember, behalf AuxTel Teal VERA C. Rubin observatory\n",
    "- Creation date : October 25th 2021\n",
    "\n",
    "- **CC : kernel anaconda3pbspzrail**\n",
    "\n",
    "**Purpose is to optmize likelihood **"
   ]
  },
  {
   "cell_type": "code",
   "execution_count": 1,
   "id": "aa830e7c-b6f4-40bc-bc17-336a06c53981",
   "metadata": {},
   "outputs": [],
   "source": [
    "import numpy as np\n",
    "import matplotlib.pyplot as plt\n",
    "%matplotlib inline\n",
    "import scipy.stats\n",
    "import sys\n",
    "import os"
   ]
  },
  {
   "cell_type": "code",
   "execution_count": 2,
   "id": "44671fbc-c86e-4a02-9a3f-d5792763505a",
   "metadata": {},
   "outputs": [],
   "source": [
    "import sys\n",
    "from mpi4py import MPI\n",
    "import numpy as np\n",
    "from delight.io import *\n",
    "from delight.utils import *\n",
    "from delight.photoz_gp import PhotozGP\n",
    "from delight.photoz_kernels import Photoz_mean_function, Photoz_kernel\n",
    "from delight.utils_cy import approx_flux_likelihood_cy"
   ]
  },
  {
   "cell_type": "code",
   "execution_count": 3,
   "id": "954194dc-e9d8-4cd8-b80f-3d270afb52ff",
   "metadata": {},
   "outputs": [],
   "source": [
    "plt.rcParams[\"figure.figsize\"] = (12,6)\n",
    "plt.rcParams[\"axes.labelsize\"] = 'xx-large'\n",
    "plt.rcParams['axes.titlesize'] = 'xx-large'\n",
    "plt.rcParams['xtick.labelsize']= 'xx-large'\n",
    "plt.rcParams['ytick.labelsize']= 'xx-large'"
   ]
  },
  {
   "cell_type": "code",
   "execution_count": 4,
   "id": "c99ab521-d598-46be-a102-805df1e8773b",
   "metadata": {},
   "outputs": [
    {
     "data": {
      "text/plain": [
       "False"
      ]
     },
     "execution_count": 4,
     "metadata": {},
     "output_type": "execute_result"
    }
   ],
   "source": [
    "filename_config=\"../tmp/parametersTest.cfg\"\n",
    "filename_config==\"../tmpsim/parametersTest.cfg\""
   ]
  },
  {
   "cell_type": "code",
   "execution_count": 5,
   "id": "377053d4-681c-49ad-9893-25b4d47e4578",
   "metadata": {},
   "outputs": [
    {
     "name": "stderr",
     "output_type": "stream",
     "text": [
      "2021-10-25 17:39:50,288 ipykernel_launcher.py, delight.io[1583] WARNING Input parameter file:../tmp/parametersTest.cfg\n",
      "2021-10-25 17:39:50,289 ipykernel_launcher.py, delight.io[1583] WARNING Parameters read:\n"
     ]
    },
    {
     "name": "stdout",
     "output_type": "stream",
     "text": [
      ">  rootDir              ./\n",
      ">  bands_directory      ./tmp/delight_indata/FILTERS\n",
      ">  bandNames            lsst_u lsst_g lsst_r lsst_i lsst_z lsst_y\n",
      ">  numCoefs             15\n",
      ">  bands_verbose        True\n",
      ">  bands_debug          True\n",
      ">  bands_makeplots      False\n",
      ">  templates_directory  ./tmp/delight_indata/CWW_SEDs\n",
      ">  lambdaRef            4500.0\n",
      ">  templates_names      El_B2004a Sbc_B2004a Scd_B2004a SB3_B2004a SB2_B2004a Im_B2004a ssp_25Myr_z008 ssp_5Myr_z008\n",
      ">  p_t                  [0.27   0.26   0.25   0.069  0.021  0.11   0.0061 0.0079]\n",
      ">  p_z_t                [0.23 0.39 0.33 0.31 1.1  0.34 1.2  0.14]\n",
      ">  templates_verbose    False\n",
      ">  templates_debug      False\n",
      ">  training_numChunks   1\n",
      ">  training_paramFile   ./tmp/delight_data/galaxies-gpparams.txt\n",
      ">  training_catFile     ./tmp/delight_data/galaxies-fluxredshifts.txt\n",
      ">  training_referenceBand lsst_i\n",
      ">  training_bandOrder   lsst_u lsst_u_var lsst_g lsst_g_var lsst_r lsst_r_var lsst_i lsst_i_var lsst_z lsst_z_var lsst_y lsst_y_var redshift\n",
      ">  training_extraFracFluxError 0.0001\n",
      ">  training_crossValidate False\n",
      ">  training_CV_bandOrder _ _ _ _ lsst_r lsst_r_var _ _ _ _ _ _\n",
      ">  training_CVfile      ./tmp/delight_data/galaxies-gpCV.txt\n",
      ">  trainingFile         ./tmp/delight_data/galaxies-fluxredshifts.txt\n",
      ">  targetFile           ./tmp/delight_data/galaxies-fluxredshifts2.txt\n",
      ">  numObjects           1000\n",
      ">  noiseLevel           0.03\n",
      ">  target_extraFracFluxError 0.0001\n",
      ">  target_catFile       ./tmp/delight_data/galaxies-fluxredshifts2.txt\n",
      ">  target_bandOrder     lsst_u lsst_u_var lsst_g lsst_g_var lsst_r lsst_r_var lsst_i lsst_i_var lsst_z lsst_z_var lsst_y lsst_y_var redshift\n",
      ">  target_referenceBand lsst_r\n",
      ">  compressIndicesFile  ./tmp/delight_data/galaxies-compressionIndices.txt\n",
      ">  compressMargLikFile  ./tmp/delight_data/galaxies-compressionMargLikes.txt\n",
      ">  compressionFilesFound False\n",
      ">  Ncompress            10\n",
      ">  useCompression       False\n",
      ">  redshiftpdfFile      ./tmp/delight_data/galaxies-redshiftpdfs.txt\n",
      ">  redshiftpdfFileComp  ./tmp/delight_data/galaxies-redshiftpdfs-comp.txt\n",
      ">  redshiftpdfFileTemp  ./tmp/delight_data/galaxies-redshiftpdfs-cww.txt\n",
      ">  metricsFile          ./tmp/delight_data/galaxies-redshiftmetrics.txt\n",
      ">  metricsFileTemp      ./tmp/delight_data/galaxies-redshiftmetrics-cww.txt\n",
      ">  zPriorSigma          0.2\n",
      ">  ellPriorSigma        0.5\n",
      ">  fluxLuminosityNorm   1.0\n",
      ">  alpha_C              1000.0\n",
      ">  alpha_L              100.0\n",
      ">  V_C                  0.1\n",
      ">  V_L                  0.1\n",
      ">  redshiftMin          0.01\n",
      ">  redshiftMax          3.01\n",
      ">  redshiftBinSize      0.01\n",
      ">  redshiftNumBinsGPpred 300\n",
      ">  redshiftDisBinSize   0.2\n",
      ">  lines_pos            6500.0 5002.26 3732.22\n",
      ">  lines_width          20.0 20.0 20.0 20.0\n",
      ">  confidenceLevels     0.1 0.5 0.68 0.95\n"
     ]
    }
   ],
   "source": [
    "# Parse parameters file\n",
    "params = parseParamFile(filename_config, verbose=True)"
   ]
  },
  {
   "cell_type": "code",
   "execution_count": 6,
   "id": "legal-attribute",
   "metadata": {},
   "outputs": [],
   "source": [
    "# Read filter coefficients, compute normalization of filters\n",
    "bandCoefAmplitudes, bandCoefPositions, bandCoefWidths, norms\\\n",
    "    = readBandCoefficients(params)\n",
    "numBands = bandCoefAmplitudes.shape[0]\n"
   ]
  },
  {
   "cell_type": "code",
   "execution_count": 7,
   "id": "2a202a2f-052e-4a4a-a006-d9b29146f83b",
   "metadata": {},
   "outputs": [],
   "source": [
    "redshiftDistGrid, redshiftGrid, redshiftGridGP = createGrids(params)\n",
    "f_mod = readSEDs(params)\n",
    "DL = approx_DL()"
   ]
  },
  {
   "cell_type": "code",
   "execution_count": 8,
   "id": "ed09ae94-a66a-4353-a288-0bb154354fff",
   "metadata": {},
   "outputs": [],
   "source": [
    "dir_seds = params['templates_directory']\n",
    "dir_filters = params['bands_directory']\n",
    "lambdaRef = params['lambdaRef']\n",
    "sed_names = params['templates_names']\n",
    "f_mod_grid = np.zeros((redshiftGrid.size, len(sed_names),\n",
    "                       len(params['bandNames'])))\n",
    "for t, sed_name in enumerate(sed_names):\n",
    "    f_mod_grid[:, t, :] = np.loadtxt(dir_seds + '/' + sed_name +\n",
    "                                     '_fluxredshiftmod.txt')"
   ]
  },
  {
   "cell_type": "code",
   "execution_count": 9,
   "id": "c1b34ff9-180c-41af-9c60-8f51145ad1ee",
   "metadata": {},
   "outputs": [
    {
     "name": "stdout",
     "output_type": "stream",
     "text": [
      "Number of Training Objects 3755\n",
      "Number of Target Objects 10692\n"
     ]
    },
    {
     "name": "stderr",
     "output_type": "stream",
     "text": [
      "/tmp/ipykernel_1583/2030800343.py:4: DeprecationWarning: Calling np.sum(generator) is deprecated, and in the future will give a different result. Use np.sum(np.fromiter(generator)) or the python sum builtin instead.\n",
      "  numObjectsTraining = np.sum(1 for line in open(params['training_catFile']))\n",
      "/tmp/ipykernel_1583/2030800343.py:5: DeprecationWarning: Calling np.sum(generator) is deprecated, and in the future will give a different result. Use np.sum(np.fromiter(generator)) or the python sum builtin instead.\n",
      "  numObjectsTarget = np.sum(1 for line in open(params['target_catFile']))\n"
     ]
    }
   ],
   "source": [
    "numZbins = redshiftDistGrid.size - 1\n",
    "numZ = redshiftGrid.size\n",
    "numConfLevels = len(params['confidenceLevels'])\n",
    "numObjectsTraining = np.sum(1 for line in open(params['training_catFile']))\n",
    "numObjectsTarget = np.sum(1 for line in open(params['target_catFile']))\n",
    "print('Number of Training Objects', numObjectsTraining)\n",
    "print('Number of Target Objects', numObjectsTarget)"
   ]
  },
  {
   "cell_type": "code",
   "execution_count": null,
   "id": "2738c8bf-a660-4e95-b19f-874c04db02a9",
   "metadata": {},
   "outputs": [
    {
     "name": "stderr",
     "output_type": "stream",
     "text": [
      "/tmp/ipykernel_1583/3143773151.py:116: RuntimeWarning: invalid value encountered in true_divide\n",
      "  confFractions /= binnobj[None, :]\n",
      "/tmp/ipykernel_1583/3143773151.py:117: RuntimeWarning: invalid value encountered in true_divide\n",
      "  bias_nz /= binnobj\n",
      "/tmp/ipykernel_1583/3143773151.py:123: RuntimeWarning: invalid value encountered in true_divide\n",
      "  bias_zmap /= binnobj\n",
      "/tmp/ipykernel_1583/3143773151.py:124: RuntimeWarning: invalid value encountered in true_divide\n",
      "  bias_zmean /= binnobj\n"
     ]
    },
    {
     "name": "stdout",
     "output_type": "stream",
     "text": [
      "\n",
      " =======================================\n",
      "  ellSTD 1.0 fluxError 0.01 V_C 0.1 zSTD 0.1\n",
      "-------------------------------->>  0.565\n",
      ">>  0.651   0.626   0.544   0.707   0.643   0.507   0.533   0.524   0.522   0.31   0.347   0.401   0.631   0.74   0.48 \n",
      " =======================================\n",
      "  ellSTD 1.0 fluxError 0.01 V_C 0.1 zSTD 1.0\n",
      "-------------------------------->>  0.553\n",
      ">>  0.685   0.631   0.555   0.688   0.644   0.505   0.53   0.506   0.505   0.255   0.255   0.299   0.525   0.634   0.94 \n",
      " =======================================\n",
      "  ellSTD 1.0 fluxError 0.01 V_C 1.0 zSTD 0.1\n",
      "-------------------------------->>  0.565\n",
      ">>  0.653   0.624   0.551   0.707   0.643   0.507   0.534   0.521   0.528   0.31   0.347   0.401   0.631   0.74   0.647 \n",
      " =======================================\n",
      "  ellSTD 1.0 fluxError 0.01 V_C 1.0 zSTD 1.0\n",
      "-------------------------------->>  0.554\n",
      ">>  0.684   0.627   0.557   0.688   0.649   0.503   0.53   0.508   0.501   0.254   0.255   0.294   0.519   0.653   0.94 \n",
      " =======================================\n",
      "  ellSTD 10.0 fluxError 0.01 V_C 0.1 zSTD 0.1\n",
      "-------------------------------->>  0.566\n",
      ">>  0.656   0.617   0.537   0.708   0.646   0.511   0.532   0.52   0.523   0.323   0.337   0.426   0.68   0.773   0.813 \n",
      " =======================================\n",
      "  ellSTD 10.0 fluxError 0.01 V_C 0.1 zSTD 1.0\n",
      "-------------------------------->>  0.554\n",
      ">>  0.683   0.63   0.578   0.691   0.648   0.506   0.514   0.484   0.502   0.254   0.272   0.335   0.588   0.856   0.953 "
     ]
    }
   ],
   "source": [
    "for ellPriorSigma in [1.0, 10.0]:\n",
    "    alpha_C = 1e3\n",
    "    alpha_L = 1e2\n",
    "    V_C, V_L = 1.0, 1.0\n",
    "    gp = PhotozGP(\n",
    "        f_mod,\n",
    "        bandCoefAmplitudes, bandCoefPositions, bandCoefWidths,\n",
    "        params['lines_pos'], params['lines_width'],\n",
    "        V_C, V_L, alpha_C, alpha_L,\n",
    "        redshiftGridGP, use_interpolators=True)\n",
    "\n",
    "    for extraFracFluxError in [1e-2]:\n",
    "        redshifts = np.zeros((numObjectsTraining, ))\n",
    "        bestTypes = np.zeros((numObjectsTraining, ), dtype=int)\n",
    "        ellMLs = np.zeros((numObjectsTraining, ))\n",
    "        model_mean = np.zeros((numZ, numObjectsTraining, numBands))\n",
    "        model_covar = np.zeros((numZ, numObjectsTraining, numBands))\n",
    "        # params['training_extraFracFluxError'] = extraFracFluxError\n",
    "        params['target_extraFracFluxError'] = extraFracFluxError\n",
    "\n",
    "        for V_C in [0.1, 1.0]:\n",
    "\n",
    "            gp.var_C = V_C\n",
    "            gp.var_L = V_L\n",
    "            loc = - 1\n",
    "            trainingDataIter = getDataFromFile(\n",
    "                params, 0, numObjectsTraining,\n",
    "                prefix=\"training_\", getXY=True)\n",
    "            for z, normedRefFlux, bands, fluxes,\\\n",
    "                fluxesVar, bCV, fCV, fvCV, X, Y, Yvar\\\n",
    "                    in trainingDataIter:\n",
    "                loc += 1\n",
    "                redshifts[loc] = z\n",
    "                themod = np.zeros((1, f_mod_grid.shape[1], bands.size))\n",
    "                for it in range(f_mod_grid.shape[1]):\n",
    "                    for ib, band in enumerate(bands):\n",
    "                        themod[0, it, ib] = np.interp(z, redshiftGrid,\n",
    "                                                      f_mod_grid[:, it, band])\n",
    "                chi2_grid, theellMLs = scalefree_flux_likelihood(\n",
    "                    fluxes,\n",
    "                    fluxesVar,\n",
    "                    themod,\n",
    "                    returnChi2=True\n",
    "                )\n",
    "                bestTypes[loc] = np.argmin(chi2_grid)\n",
    "                ellMLs[loc] = theellMLs[0, bestTypes[loc]]\n",
    "                X[:, 2] = ellMLs[loc]\n",
    "                gp.setData(X, Y, Yvar, bestTypes[loc])\n",
    "                model_mean[:, loc, :], model_covar[:, loc, :] =\\\n",
    "                    gp.predictAndInterpolate(redshiftGrid, ell=ellMLs[loc])\n",
    "\n",
    "            for redshiftSigma in [0.1, 1.0]:\n",
    "\n",
    "                loc = - 1\n",
    "                targetDataIter = getDataFromFile(params, 0, numObjectsTarget,\n",
    "                                                 prefix=\"target_\", getXY=False)\n",
    "\n",
    "                bias_zmap = np.zeros((redshiftDistGrid.size, ))\n",
    "                bias_zmean = np.zeros((redshiftDistGrid.size, ))\n",
    "                confFractions = np.zeros((numConfLevels,\n",
    "                                          redshiftDistGrid.size))\n",
    "                binnobj = np.zeros((redshiftDistGrid.size, ))\n",
    "                bias_nz = np.zeros((redshiftDistGrid.size, ))\n",
    "                stackedPdfs = np.zeros((redshiftGrid.size,\n",
    "                                        redshiftDistGrid.size))\n",
    "                cis = np.zeros((numObjectsTarget, ))\n",
    "                zmeanBinLocs = np.zeros((numObjectsTarget, ), dtype=int)\n",
    "                for z, normedRefFlux, bands, fluxes, fluxesVar, bCV, fCV, fvCV\\\n",
    "                        in targetDataIter:\n",
    "                    loc += 1\n",
    "                    like_grid = np.zeros((model_mean.shape[0],\n",
    "                                          model_mean.shape[1]))\n",
    "                    ell_hat_z = normedRefFlux * 4 * np.pi\\\n",
    "                        * params['fluxLuminosityNorm'] \\\n",
    "                        * (DL(redshiftGrid)**2. * (1+redshiftGrid))\n",
    "                    ell_hat_z[:] = 1\n",
    "                    approx_flux_likelihood_cy(\n",
    "                        like_grid,\n",
    "                        model_mean.shape[0], model_mean.shape[1], bands.size,\n",
    "                        fluxes, fluxesVar,\n",
    "                        model_mean[:, :, bands],\n",
    "                        V_C*model_covar[:, :, bands],\n",
    "                        ell_hat_z, (ell_hat_z*ellPriorSigma)**2)\n",
    "                    like_grid *= np.exp(-0.5*((redshiftGrid[:, None] -\n",
    "                                               redshifts[None, :]) /\n",
    "                                              redshiftSigma)**2)\n",
    "                    pdf = like_grid.sum(axis=1)\n",
    "                    if pdf.sum() == 0:\n",
    "                        print(\"NULL PDF with galaxy\", loc)\n",
    "                    if pdf.sum() > 0:\n",
    "                        metrics\\\n",
    "                            = computeMetrics(z, redshiftGrid, pdf,\n",
    "                                             params['confidenceLevels'])\n",
    "                        ztrue, zmean, zstdzmean, zmap, zstdzmean,\\\n",
    "                            pdfAtZ, cumPdfAtZ = metrics[0:7]\n",
    "                        confidencelevels = metrics[7:]\n",
    "                        zmeanBinLoc = -1\n",
    "                        for i in range(numZbins):\n",
    "                            if zmean >= redshiftDistGrid[i]\\\n",
    "                                    and zmean < redshiftDistGrid[i+1]:\n",
    "                                zmeanBinLoc = i\n",
    "                                bias_zmap[i] += ztrue - zmap\n",
    "                                bias_zmean[i] += ztrue - zmean\n",
    "                                binnobj[i] += 1\n",
    "                                bias_nz[i] += ztrue\n",
    "                        zmeanBinLocs[loc] = zmeanBinLoc\n",
    "                        for i in range(numConfLevels):\n",
    "                            if pdfAtZ >= confidencelevels[i]:\n",
    "                                confFractions[i, zmeanBinLoc] += 1\n",
    "                        stackedPdfs[:, zmeanBinLoc]\\\n",
    "                            += pdf / numObjectsTraining\n",
    "                        ind = pdf >= pdfAtZ\n",
    "                        pdf /= np.trapz(pdf, x=redshiftGrid)\n",
    "                        cis[loc] = np.trapz(pdf[ind], x=redshiftGrid[ind])\n",
    "\n",
    "                confFractions /= binnobj[None, :]\n",
    "                bias_nz /= binnobj\n",
    "                for i in range(numZbins):\n",
    "                    if stackedPdfs[:, i].sum():\n",
    "                        bias_nz[i] -= np.average(redshiftGrid,\n",
    "                                                 weights=stackedPdfs[:, i])\n",
    "                ind = binnobj > 0\n",
    "                bias_zmap /= binnobj\n",
    "                bias_zmean /= binnobj\n",
    "                print(\"\")\n",
    "                print(' =======================================')\n",
    "                print(\"  ellSTD\", ellPriorSigma,\n",
    "                      \"fluxError\", extraFracFluxError,\n",
    "                      \"V_C\", V_C, \"zSTD\", redshiftSigma)\n",
    "                cis_pdf, e = np.histogram(cis, 50, range=[0, 1])\n",
    "                cis_pdfcum = np.cumsum(cis_pdf) / np.sum(cis_pdf)\n",
    "                print(\"-------------------------------->>  %.3g\"\n",
    "                      % (np.max(np.abs(np.abs(e[1:] - cis_pdfcum)))))\n",
    "                print(\">>\", end=\"\")\n",
    "                for i in range(numZbins):\n",
    "                    ind2 = zmeanBinLocs == i\n",
    "                    if ind2.sum() > 2:\n",
    "                        cis_pdf, e = np.histogram(cis[ind2], 50, range=[0, 1])\n",
    "                        cis_pdfcum = np.cumsum(cis_pdf) / np.sum(cis_pdf)\n",
    "                        print(\"  %.3g\" % (np.max(np.abs(e[1:] - cis_pdfcum))),\n",
    "                              end=\" \")\n"
   ]
  },
  {
   "cell_type": "code",
   "execution_count": null,
   "id": "d3668d2d-f658-4585-89c0-d68d6bcd96c0",
   "metadata": {},
   "outputs": [],
   "source": [
    "print(\"\")\n",
    "print(' >>>> mean z bias %.3g'\n",
    "% np.abs(bias_zmean[ind]).mean(),'mean N(z) bias %.3g' % np.abs(bias_nz[ind]).mean(), ' <<<<')\n",
    "print(' >>>> max z bias %.3g'% np.abs(bias_zmean[ind]).max(),'max N(z) bias %.3g' % np.abs(bias_nz[ind]).max(), ' <<<<')\n",
    "print(' > bias_zmap : ','  '.join(['%.3g' % x for x in bias_zmap]))\n",
    "print(' > z bias : ','  '.join([('%.3g' % x) if np.isfinite(x) else '.' for x in bias_zmean]))\n",
    "print(' > nzbias : ','  '.join([('%.3g' % x) if np.isfinite(x) else '.' for x in bias_nz]))\n",
    "print(' --------------------------------')\n",
    "for i in range(numConfLevels):\n",
    "    print(' >', params['confidenceLevels'][i],' :: ', '  '.join([('%.3g' % x) if np.isfinite(x) else '.' for x in confFractions[i, :]]))\n",
    "print(' =======================================')\n"
   ]
  }
 ],
 "metadata": {
  "kernelspec": {
   "display_name": "Python 3 (ipykernel)",
   "language": "python",
   "name": "python3"
  },
  "language_info": {
   "codemirror_mode": {
    "name": "ipython",
    "version": 3
   },
   "file_extension": ".py",
   "mimetype": "text/x-python",
   "name": "python",
   "nbconvert_exporter": "python",
   "pygments_lexer": "ipython3",
   "version": "3.9.2"
  }
 },
 "nbformat": 4,
 "nbformat_minor": 5
}
