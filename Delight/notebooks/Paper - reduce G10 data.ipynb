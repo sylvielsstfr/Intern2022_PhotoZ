{
 "cells": [
  {
   "cell_type": "code",
   "execution_count": 1,
   "metadata": {},
   "outputs": [],
   "source": [
    "%matplotlib inline\n",
    "import numpy as np\n",
    "import matplotlib.pyplot as plt\n",
    "from astropy.table import Table\n",
    "import seaborn as sns"
   ]
  },
  {
   "cell_type": "code",
   "execution_count": 2,
   "metadata": {},
   "outputs": [
    {
     "data": {
      "image/png": "[encoded data removed]",
      "text/plain": [
       "<matplotlib.figure.Figure at 0x1150c43c8>"
      ]
     },
     "metadata": {},
     "output_type": "display_data"
    }
   ],
   "source": [
    "# Setting style\n",
    "from matplotlib import rcParams\n",
    "rcParams[\"font.family\"] = \"sans-serif\"\n",
    "rcParams[\"font.sans-serif\"] = [\"Computer Modern Sans\"]\n",
    "sns.set_style('white')\n",
    "sns.set_palette(\"Paired\", 2) #colorblind\n",
    "sns.palplot(sns.color_palette())"
   ]
  },
  {
   "cell_type": "code",
   "execution_count": 3,
   "metadata": {},
   "outputs": [],
   "source": [
    "# Reading the data, which can be downloaded here:\n",
    "# http://ict.icrar.org/cutout/G10/dataRelease.php\n",
    "tb4 = Table.read('../G10CosmosCatv04/G10CosmosCatv04.csv')\n",
    "# Changing strange column names with spurious D\n",
    "tb4['IA427_08_ERR'] = tb4['DIA427_08_ERR']\n",
    "tb4['KC_08_ERR'] = tb4['DKC_08_ERR']"
   ]
  },
  {
   "cell_type": "code",
   "execution_count": 4,
   "metadata": {},
   "outputs": [
    {
     "data": {
      "text/plain": [
       "array(['CATAID', 'ID_06', 'RA_06', 'DEC_06', 'I_FWHM_06', 'I_STAR_06',\n",
       "       'I_MAG_AUTO_06', 'AUTO_FLAG_06', 'U_06', 'U_06_ERR', 'B_06',\n",
       "       'B_06_ERR', 'V_06', 'V_06_ERR', 'G_06', 'G_06_ERR', 'R_06',\n",
       "       'R_06_ERR', 'I_06', 'I_06_ERR', 'Z_06', 'Z_06_ERR', 'K_06',\n",
       "       'K_06_ERR', 'I_CFHT_06', 'I_CFHT_06_ERR', 'U_SDSS_06',\n",
       "       'U_SDSS_06_ERR', 'G_SDSS_06', 'G_SDSS_06_ERR', 'R_SDSS_06',\n",
       "       'R_SDSS_06_ERR', 'I_SDSS_06', 'I_SDSS_06_ERR', 'Z_SDSS_06',\n",
       "       'Z_SDSS_06_ERR', 'F814W_06', 'F814W_06_ERR', 'NB816_06',\n",
       "       'NB816_06_ERR', 'LOGMASS_06', 'STAR_06', 'B_MASK_06', 'V_MASK_06',\n",
       "       'I_MASK_06', 'Z_MASK_06', 'ID_08', 'RA_08', 'DEC__08', 'I_FWHM_08',\n",
       "       'I_STAR_08', 'I_AUTO_08', 'AUTO_FLAG_08', 'U_08', 'U_08_ERR',\n",
       "       'B_08', 'B_08_ERR', 'V_08', 'V_08_ERR', 'G_08', 'G_08_ERR', 'R_08',\n",
       "       'R_08_ERR', 'I_08', 'I_08_ERR', 'Z_08', 'Z_08_ERR', 'K_08',\n",
       "       'K_08_ERR', 'IC_08', 'IC_08_ERR', 'U_SDSS_08', 'U_SDSS_08_ERR',\n",
       "       'G_SDSS_08', 'G_SDSS_08_ERR', 'R_SDSS_08', 'R_SDSS_08_ERR',\n",
       "       'I_SDSS_08', 'I_SDSS_08_ERR', 'Z_SDSS_08', 'Z_SDSS_08_ERR',\n",
       "       'F814W_08', 'F814W_08_ERR', 'NB816_08', 'NB816_08_ERR', 'IA427_08',\n",
       "       'DIA427_08_ERR', 'IA464_08', 'IA464_08_ERR', 'IA505_08',\n",
       "       'IA505_08_ERR', 'IA574_08', 'IA574_08_ERR', 'IA709_08',\n",
       "       'IA709_08_ERR', 'IA827_08', 'IA827_08_ERR', 'NB711_08',\n",
       "       'NB711_08_ERR', 'KC_08', 'DKC_08_ERR', 'J_08', 'J_08_ERR',\n",
       "       'IA484_08', 'IA484_08_ERR', 'IA527_08', 'IA527_08_ERR', 'IA624_08',\n",
       "       'IA624_08_ERR', 'IA679_08', 'IA679_08_ERR', 'IA738_08',\n",
       "       'IA738_08_ERR', 'IA767_08', 'IA767_08_ERR', 'EB_V_08', 'FUV_08',\n",
       "       'FUV_08_ERR', 'NUV_08', 'NUV_08_ERR', 'MASK_FUV_08', 'MASK_NUV_08',\n",
       "       'B_MASK_08', 'V_MASK_08', 'I_MASK_08', 'Z_MASK_08', 'DEEP_MASK_08',\n",
       "       'ZP_ILBERT', 'STAR_GALAXY_CLASS', 'ZL68_ILBERT', 'ZU68_ILBERT',\n",
       "       'ZL99_ILBERT', 'ZU99_ILBERT', 'CHI2_ILBERT', 'RA_ZCOS', 'DEC_ZCOS',\n",
       "       'Z_ZCOS', 'ZQUALITY_ZCOS', 'filename_ZCOS', 'RA_PRIMUS',\n",
       "       'DEC_PRIMUS', 'Z_PRIMUS', 'ZQUALITY_PRIMUS', 'SLIT_RA_14',\n",
       "       'SLIT_DEC_14', 'SLIT_OFF', 'Z_BEST', 'Z_GEN', 'Z_USE', 'AUTOZ1',\n",
       "       'AUTOZ1_SIGMA', 'AUTOZ1_TEMP', 'AUTOZ2', 'AUTOZ2_SIGMA',\n",
       "       'AUTOZ2_TEMP', 'AUTOZ3', 'AUTOZ3_SIGMA', 'AUTOZ3_TEMP', 'AUTOZ4',\n",
       "       'AUTOZ4_SIGMA', 'AUTOZ4_TEMP', 'SPEC_FILENAME', 'Z_EYE',\n",
       "       'ZQUALITY_EYE', 'R_MAG_BEST', 'QUALITY_FLAG', 'RA_VVDS', 'DEC_VVDS',\n",
       "       'Z_VVDS', 'ZQUALITY_VVDS', 'RA_SDSS', 'DEC_SDSS', 'CLASS_SDSS',\n",
       "       'Z_SDSS', 'Z_ERR_SDSS', 'ZP_COSMOS2015', 'ZL68_COSMOS2015',\n",
       "       'ZH68_COSMOS2015', 'CHI2_COSMOS2015', 'IA427_08_ERR', 'KC_08_ERR'],\n",
       "      dtype='<U17')"
      ]
     },
     "execution_count": 4,
     "metadata": {},
     "output_type": "execute_result"
    }
   ],
   "source": [
    "# Show column names\n",
    "np.array(tb4.colnames)"
   ]
  },
  {
   "cell_type": "code",
   "execution_count": 5,
   "metadata": {},
   "outputs": [
    {
     "data": {
      "text/plain": [
       "(16084, 438226)"
      ]
     },
     "execution_count": 5,
     "metadata": {},
     "output_type": "execute_result"
    }
   ],
   "source": [
    "# Some sanity checks to see which objects have spectroscopic redshifts.\n",
    "# Hopefully this should be equivalent to using Z_BEST with the flag Z_USE < 3\n",
    "# and indeed, we recover similar numbers.\n",
    "ind_vvds = tb4['Z_VVDS'] > 0\n",
    "ind_vvds &= tb4['Z_VVDS'] < 4\n",
    "ind_sdss = tb4['Z_SDSS'] > 0\n",
    "ind_sdss &= tb4['Z_SDSS'] < 4\n",
    "ind_sdss &= tb4['Z_ERR_SDSS'] < 0.001\n",
    "ind_primus = tb4['Z_PRIMUS'] > 0\n",
    "ind_primus &= tb4['Z_PRIMUS'] < 4\n",
    "ind_primus &= tb4['ZQUALITY_PRIMUS'] >= 4\n",
    "ind_zcosmos = tb4['Z_ZCOS'] > 0\n",
    "ind_zcosmos &= tb4['Z_ZCOS'] < 4\n",
    "ind_zcosmos &= tb4['ZQUALITY_ZCOS'] >= 4\n",
    "ind = ind_sdss | ind_vvds | ind_primus | ind_zcosmos\n",
    "ind.sum(), ind.size"
   ]
  },
  {
   "cell_type": "code",
   "execution_count": 8,
   "metadata": {},
   "outputs": [
    {
     "name": "stdout",
     "output_type": "stream",
     "text": [
      "23702\n"
     ]
    },
    {
     "name": "stderr",
     "output_type": "stream",
     "text": [
      "/Users/bl/anaconda/lib/python3.5/site-packages/ipykernel/__main__.py:48: RuntimeWarning: overflow encountered in power\n"
     ]
    }
   ],
   "source": [
    "# Selecting objects with spectroscopic redshifts\n",
    "ind_goodzspec = tb4['Z_USE'] < 3\n",
    "ind_goodzspec &= tb4['Z_BEST'] > 0.0001\n",
    "#ind_goodzspec &= tb4['Z_BEST'] < 0.2\n",
    "# good extinction\n",
    "ind_goodebv = tb4['EB_V_08'] > 0\n",
    "# Not crazy photo-z's (because that would indicate a problem in the photometry)\n",
    "ind_goodphotoz = (tb4['Z_BEST'] - tb4['ZP_COSMOS2015']) < 0.5\n",
    "# and galaxies only.\n",
    "ind_gal = tb4['CLASS_SDSS'] == 'GALAXY' \n",
    "ind_gal |= tb4['STAR_GALAXY_CLASS'] == 0\n",
    "ind_gal &= tb4['ZQUALITY_EYE'] != 10\n",
    "# The total number is:\n",
    "print((ind_goodzspec & ind_goodebv & ind_goodphotoz & ind_gal).sum())\n",
    "\n",
    "# Now select the bands by their names, and also copy EBV values.\n",
    "yr = '_08'\n",
    "subaru_bands = [\n",
    "    'B', 'V', 'G', 'R', 'I', 'Z',\n",
    "    'NB816', 'IA427', 'IA464', 'IA505', 'IA574', \n",
    "    'IA709', 'IA827', 'NB711', 'IA484', 'IA527', \n",
    "    'IA624', 'IA679', 'IA738', 'IA767']\n",
    "subaru_abebv = [\n",
    "    4.039, 3.147, 3.738, 2.586, 1.923, 1.436,\n",
    "    1.745, 4.260, 3.843, 3.425, 2.937, \n",
    "    2.289, 1.747, 2.268, 3.621, 3.264, \n",
    "    2.694, 2.430, 2.150, 1.996]\n",
    "sdss_bands = ['U_SDSS', 'G_SDSS', 'R_SDSS', 'I_SDSS', 'Z_SDSS']\n",
    "sdss_abebv = [4.239, 3.303, 2.285, 1.698, 1.263]\n",
    "ctiokpno_bands = ['K']\n",
    "ctiokpno_abebv = [0.302]\n",
    "hst_dands = ['F814W']\n",
    "hst_abebv = [1.536]\n",
    "ukirt_bands = ['J']\n",
    "ukirt_abebv = [0.709]\n",
    "\n",
    "# Which bands are we considering?\n",
    "bands = subaru_bands + sdss_bands + ctiokpno_bands + hst_dands + ukirt_bands\n",
    "abebvs = subaru_abebv + sdss_abebv + ctiokpno_abebv + hst_abebv + ukirt_abebv\n",
    "\n",
    "ZP = 12.5 # arbitrary zero point to obtain reasonnable flux numbers\n",
    "# Convert magnitudes to fluxes and correct for extinction\n",
    "for abebv, b in zip(abebvs, bands):\n",
    "    nm = b + yr\n",
    "    nme = b + yr + '_ERR'\n",
    "    themag = tb4[nm]\n",
    "    themag -= tb4['EB_V_08'] * abebv\n",
    "    theflux = 10**(-0.4*(themag - ZP))\n",
    "    thefluxerr = (10.**(.4*tb4[nme])-1.) * theflux\n",
    "    tb4[b+'_FLUX'] = theflux\n",
    "    tb4[b+'_FLUXVAR'] = np.abs(thefluxerr**2)"
   ]
  },
  {
   "cell_type": "code",
   "execution_count": 9,
   "metadata": {},
   "outputs": [
    {
     "name": "stdout",
     "output_type": "stream",
     "text": [
      "9923 8699\n"
     ]
    },
    {
     "name": "stderr",
     "output_type": "stream",
     "text": [
      "/Users/bl/anaconda/lib/python3.5/site-packages/ipykernel/__main__.py:7: RuntimeWarning: invalid value encountered in true_divide\n",
      "/Users/bl/anaconda/lib/python3.5/site-packages/ipykernel/__main__.py:8: RuntimeWarning: invalid value encountered in true_divide\n",
      "/Users/bl/anaconda/lib/python3.5/site-packages/astropy/table/column.py:929: RuntimeWarning: invalid value encountered in greater\n",
      "  return getattr(self.data, oper)(other)\n",
      "/Users/bl/anaconda/lib/python3.5/site-packages/ipykernel/__main__.py:10: RuntimeWarning: invalid value encountered in true_divide\n",
      "/Users/bl/anaconda/lib/python3.5/site-packages/ipykernel/__main__.py:12: RuntimeWarning: invalid value encountered in true_divide\n",
      "/Users/bl/anaconda/lib/python3.5/site-packages/ipykernel/__main__.py:13: RuntimeWarning: invalid value encountered in true_divide\n"
     ]
    }
   ],
   "source": [
    "# Selection for the training and target sets, mostly SNR cuts on top of having spec-z's\n",
    "ind1 = ind_goodzspec & ind_goodebv & ind_goodphotoz & ind_gal\n",
    "ind2 = ind_goodzspec & ind_goodebv & ind_goodphotoz & ind_gal\n",
    "ind1 &= tb4['Z_BEST'] < 1.5\n",
    "ind2 &= tb4['Z_BEST'] < 1.5\n",
    "for b in subaru_bands + ctiokpno_bands + hst_dands + ukirt_bands:\n",
    "    ind1 &= np.isfinite(tb4[b+'_FLUX'] / tb4[b+'_FLUXVAR']**0.5)\n",
    "    ind1 &= tb4[b+'_FLUX'] / tb4[b+'_FLUXVAR']**0.5 > 2\n",
    "for b in ['R_SDSS', 'I_SDSS']:\n",
    "    ind2 &= tb4[b+'_FLUX'] / tb4[b+'_FLUXVAR']**0.5 > 5\n",
    "for b in sdss_bands:\n",
    "    ind2 &= np.isfinite(tb4[b+'_FLUX'] / tb4[b+'_FLUXVAR']**0.5)\n",
    "    ind2 &= tb4[b+'_FLUX'] / tb4[b+'_FLUXVAR']**0.5 > 1\n",
    "sel1 = np.where(ind1)[0]\n",
    "sel2 = np.where(ind2)[0]\n",
    "# remove duplicates\n",
    "sel1 = sel1[~np.in1d(sel1, sel2)] \n",
    "# shuffle, just in case\n",
    "np.random.shuffle(sel1)\n",
    "np.random.shuffle(sel2)\n",
    "print(sel1.size, sel2.size) # should be about 10,000 each!"
   ]
  },
  {
   "cell_type": "code",
   "execution_count": 10,
   "metadata": {},
   "outputs": [
    {
     "name": "stderr",
     "output_type": "stream",
     "text": [
      "/Users/bl/anaconda/lib/python3.5/site-packages/ipykernel/__main__.py:14: RuntimeWarning: invalid value encountered in true_divide\n"
     ]
    },
    {
     "data": {
      "image/png": "[encoded data removed]",
      "text/plain": [
       "<matplotlib.figure.Figure at 0x1091a8320>"
      ]
     },
     "metadata": {},
     "output_type": "display_data"
    }
   ],
   "source": [
    "# Compare training and target: plot N(z) and imag SNR\n",
    "normed = False\n",
    "nbins = 40\n",
    "fig, axs = plt.subplots(1, 2, figsize=(8, 3))\n",
    "axs[0].hist(tb4['Z_BEST'][sel1], nbins, range=[0, 1.5], histtype='step', lw=2, label='Training', normed=normed)\n",
    "axs[0].hist(tb4['Z_BEST'][sel2], nbins, range=[0, 1.5], histtype='step', lw=2, label='Target', normed=normed)\n",
    "axs[0].legend()\n",
    "axs[0].set_xlabel('Spectroscopic redshift')\n",
    "axs[0].set_ylabel('$\\mathrm{N}_\\mathrm{gal}$')\n",
    "\n",
    "b = 'I_SDSS'\n",
    "nm = b + '_FLUX'\n",
    "nme = b + '_FLUXVAR'\n",
    "ratio1 = tb4[nm][sel1] / tb4[nme][sel1]**0.5\n",
    "ratio1 = ratio1[np.isfinite(ratio1)]\n",
    "ratio2 = tb4[nm][sel2] / tb4[nme][sel2]**0.5\n",
    "ratio2 = ratio2[np.isfinite(ratio2)]\n",
    "axs[1].hist(ratio1, nbins, histtype='step', lw=2, label='Training', range=[0, 80])\n",
    "axs[1].hist(ratio2, nbins, histtype='step', lw=2, label='Target', range=[0, 80])\n",
    "axs[1].legend()\n",
    "axs[1].set_xlabel('$i$ band signal-to-noise ratio')\n",
    "axs[1].set_ylabel('$\\mathrm{N}_\\mathrm{gal}$')\n",
    "\n",
    "fig.tight_layout()\n",
    "fig.savefig('../paper/training_vs_target.pdf')"
   ]
  },
  {
   "cell_type": "code",
   "execution_count": 13,
   "metadata": {},
   "outputs": [
    {
     "name": "stderr",
     "output_type": "stream",
     "text": [
      "WARNING: AstropyDeprecationWarning: /Users/bl/Dropbox/repos/Delight/data/galaxies-fluxredshifts.txt already exists. Automatically overwriting ASCII files is deprecated. Use the argument 'overwrite=True' in the future. [astropy.io.ascii.ui]\n"
     ]
    }
   ],
   "source": [
    "# write a subset to ascii files\n",
    "maxnum = 15000\n",
    "names3 = list(np.concatenate([[nm + '_FLUX', nm + '_FLUXVAR'] for nm in bands])) + ['Z_BEST']\n",
    "tb4[names3][sel1[:maxnum]].write('/Users/bl/Dropbox/repos/Delight/data/galaxies-fluxredshifts.txt', \n",
    "                             format='ascii.no_header')"
   ]
  },
  {
   "cell_type": "code",
   "execution_count": 14,
   "metadata": {},
   "outputs": [
    {
     "name": "stderr",
     "output_type": "stream",
     "text": [
      "WARNING: AstropyDeprecationWarning: /Users/bl/Dropbox/repos/Delight/data/galaxies-fluxredshifts2.txt already exists. Automatically overwriting ASCII files is deprecated. Use the argument 'overwrite=True' in the future. [astropy.io.ascii.ui]\n"
     ]
    }
   ],
   "source": [
    "maxnum = 15000\n",
    "tb4[names3][sel2[:maxnum]].write('/Users/bl/Dropbox/repos/Delight/data/galaxies-fluxredshifts2.txt',\n",
    "                              format='ascii.no_header')"
   ]
  },
  {
   "cell_type": "code",
   "execution_count": 15,
   "metadata": {},
   "outputs": [
    {
     "data": {
      "text/plain": [
       "'B B_var V V_var G G_var R R_var I I_var Z Z_var NB816 NB816_var IA427 IA427_var IA464 IA464_var IA505 IA505_var IA574 IA574_var IA709 IA709_var IA827 IA827_var NB711 NB711_var IA484 IA484_var IA527 IA527_var IA624 IA624_var IA679 IA679_var IA738 IA738_var IA767 IA767_var U_SDSS U_SDSS_var G_SDSS G_SDSS_var R_SDSS R_SDSS_var I_SDSS I_SDSS_var Z_SDSS Z_SDSS_var K K_var F814W F814W_var J J_var redshift'"
      ]
     },
     "execution_count": 15,
     "metadata": {},
     "output_type": "execute_result"
    }
   ],
   "source": [
    "# pretty print band + band_var names, for delight input file\n",
    "' '.join(list(np.concatenate([[nm, nm + '_var'] for nm in bands])) + ['redshift'])"
   ]
  },
  {
   "cell_type": "code",
   "execution_count": 16,
   "metadata": {},
   "outputs": [
    {
     "name": "stderr",
     "output_type": "stream",
     "text": [
      "WARNING: AstropyDeprecationWarning: /Users/bl/Dropbox/repos/Delight/data/galaxies-fluxredshifts_small.txt already exists. Automatically overwriting ASCII files is deprecated. Use the argument 'overwrite=True' in the future. [astropy.io.ascii.ui]\n",
      "WARNING: AstropyDeprecationWarning: /Users/bl/Dropbox/repos/Delight/data/galaxies-fluxredshifts_small2.txt already exists. Automatically overwriting ASCII files is deprecated. Use the argument 'overwrite=True' in the future. [astropy.io.ascii.ui]\n"
     ]
    }
   ],
   "source": [
    "# write a smaller subset to ascii files\n",
    "maxnum = 1000\n",
    "names3 = list(np.concatenate([[nm + '_FLUX', nm + '_FLUXVAR'] for nm in bands])) + ['Z_BEST']\n",
    "tb4[names3][sel1[:maxnum]].write('/Users/bl/Dropbox/repos/Delight/data/galaxies-fluxredshifts_small.txt', \n",
    "                             format='ascii.no_header')\n",
    "tb4[names3][sel2[:maxnum]].write('/Users/bl/Dropbox/repos/Delight/data/galaxies-fluxredshifts_small2.txt',\n",
    "                              format='ascii.no_header')"
   ]
  },
  {
   "cell_type": "code",
   "execution_count": 17,
   "metadata": {},
   "outputs": [
    {
     "data": {
      "text/plain": [
       "(28,\n",
       " 'B V G R I Z NB816 IA427 IA464 IA505 IA574 IA709 IA827 NB711 IA484 IA527 IA624 IA679 IA738 IA767 U_SDSS G_SDSS R_SDSS I_SDSS Z_SDSS K F814W J')"
      ]
     },
     "execution_count": 17,
     "metadata": {},
     "output_type": "execute_result"
    }
   ],
   "source": [
    "# print band names\n",
    "len(bands), ' '.join(bands)"
   ]
  },
  {
   "cell_type": "code",
   "execution_count": null,
   "metadata": {
    "collapsed": true
   },
   "outputs": [],
   "source": []
  }
 ],
 "metadata": {
  "anaconda-cloud": {},
  "kernelspec": {
   "display_name": "Python [conda root]",
   "language": "python",
   "name": "conda-root-py"
  },
  "language_info": {
   "codemirror_mode": {
    "name": "ipython",
    "version": 3
   },
   "file_extension": ".py",
   "mimetype": "text/x-python",
   "name": "python",
   "nbconvert_exporter": "python",
   "pygments_lexer": "ipython3",
   "version": "3.5.4"
  }
 },
 "nbformat": 4,
 "nbformat_minor": 1
}
